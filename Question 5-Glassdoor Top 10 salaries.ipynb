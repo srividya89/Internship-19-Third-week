{
 "cells": [
  {
   "cell_type": "code",
   "execution_count": 20,
   "id": "9863a04c",
   "metadata": {},
   "outputs": [
    {
     "name": "stdout",
     "output_type": "stream",
     "text": [
      "Requirement already satisfied: selenium in c:\\users\\srividya\\anaconda3\\lib\\site-packages (4.0.0b4)\n",
      "Requirement already satisfied: trio-websocket~=0.9 in c:\\users\\srividya\\anaconda3\\lib\\site-packages (from selenium) (0.9.2)\n",
      "Requirement already satisfied: trio~=0.17 in c:\\users\\srividya\\anaconda3\\lib\\site-packages (from selenium) (0.19.0)\n",
      "Requirement already satisfied: urllib3[secure]~=1.26 in c:\\users\\srividya\\anaconda3\\lib\\site-packages (from selenium) (1.26.4)\n",
      "Requirement already satisfied: idna in c:\\users\\srividya\\anaconda3\\lib\\site-packages (from trio~=0.17->selenium) (2.10)\n",
      "Requirement already satisfied: sortedcontainers in c:\\users\\srividya\\anaconda3\\lib\\site-packages (from trio~=0.17->selenium) (2.3.0)\n",
      "Requirement already satisfied: attrs>=19.2.0 in c:\\users\\srividya\\anaconda3\\lib\\site-packages (from trio~=0.17->selenium) (20.3.0)\n",
      "Requirement already satisfied: async-generator>=1.9 in c:\\users\\srividya\\anaconda3\\lib\\site-packages (from trio~=0.17->selenium) (1.10)\n",
      "Requirement already satisfied: sniffio in c:\\users\\srividya\\anaconda3\\lib\\site-packages (from trio~=0.17->selenium) (1.2.0)\n",
      "Requirement already satisfied: cffi>=1.14 in c:\\users\\srividya\\anaconda3\\lib\\site-packages (from trio~=0.17->selenium) (1.14.5)\n",
      "Requirement already satisfied: outcome in c:\\users\\srividya\\anaconda3\\lib\\site-packages (from trio~=0.17->selenium) (1.1.0)\n",
      "Requirement already satisfied: pycparser in c:\\users\\srividya\\anaconda3\\lib\\site-packages (from cffi>=1.14->trio~=0.17->selenium) (2.20)\n",
      "Requirement already satisfied: wsproto>=0.14 in c:\\users\\srividya\\anaconda3\\lib\\site-packages (from trio-websocket~=0.9->selenium) (1.0.0)\n",
      "Requirement already satisfied: cryptography>=1.3.4 in c:\\users\\srividya\\anaconda3\\lib\\site-packages (from urllib3[secure]~=1.26->selenium) (3.4.7)\n",
      "Requirement already satisfied: certifi in c:\\users\\srividya\\anaconda3\\lib\\site-packages (from urllib3[secure]~=1.26->selenium) (2020.12.5)\n",
      "Requirement already satisfied: pyOpenSSL>=0.14 in c:\\users\\srividya\\anaconda3\\lib\\site-packages (from urllib3[secure]~=1.26->selenium) (20.0.1)\n",
      "Requirement already satisfied: six>=1.5.2 in c:\\users\\srividya\\anaconda3\\lib\\site-packages (from pyOpenSSL>=0.14->urllib3[secure]~=1.26->selenium) (1.15.0)\n",
      "Requirement already satisfied: h11<1,>=0.9.0 in c:\\users\\srividya\\anaconda3\\lib\\site-packages (from wsproto>=0.14->trio-websocket~=0.9->selenium) (0.12.0)\n",
      "Requirement already satisfied: undetected-chromedriver in c:\\users\\srividya\\anaconda3\\lib\\site-packages (3.0.3)\n",
      "Requirement already satisfied: websockets in c:\\users\\srividya\\anaconda3\\lib\\site-packages (from undetected-chromedriver) (10.0)\n",
      "Requirement already satisfied: selenium==4.0.0b4 in c:\\users\\srividya\\anaconda3\\lib\\site-packages (from undetected-chromedriver) (4.0.0b4)\n",
      "Requirement already satisfied: requests in c:\\users\\srividya\\anaconda3\\lib\\site-packages (from undetected-chromedriver) (2.25.1)\n",
      "Requirement already satisfied: trio~=0.17 in c:\\users\\srividya\\anaconda3\\lib\\site-packages (from selenium==4.0.0b4->undetected-chromedriver) (0.19.0)\n",
      "Requirement already satisfied: urllib3[secure]~=1.26 in c:\\users\\srividya\\anaconda3\\lib\\site-packages (from selenium==4.0.0b4->undetected-chromedriver) (1.26.4)\n",
      "Requirement already satisfied: trio-websocket~=0.9 in c:\\users\\srividya\\anaconda3\\lib\\site-packages (from selenium==4.0.0b4->undetected-chromedriver) (0.9.2)\n",
      "Requirement already satisfied: cffi>=1.14 in c:\\users\\srividya\\anaconda3\\lib\\site-packages (from trio~=0.17->selenium==4.0.0b4->undetected-chromedriver) (1.14.5)\n",
      "Requirement already satisfied: sniffio in c:\\users\\srividya\\anaconda3\\lib\\site-packages (from trio~=0.17->selenium==4.0.0b4->undetected-chromedriver) (1.2.0)\n",
      "Requirement already satisfied: sortedcontainers in c:\\users\\srividya\\anaconda3\\lib\\site-packages (from trio~=0.17->selenium==4.0.0b4->undetected-chromedriver) (2.3.0)\n",
      "Requirement already satisfied: attrs>=19.2.0 in c:\\users\\srividya\\anaconda3\\lib\\site-packages (from trio~=0.17->selenium==4.0.0b4->undetected-chromedriver) (20.3.0)\n",
      "Requirement already satisfied: async-generator>=1.9 in c:\\users\\srividya\\anaconda3\\lib\\site-packages (from trio~=0.17->selenium==4.0.0b4->undetected-chromedriver) (1.10)\n",
      "Requirement already satisfied: outcome in c:\\users\\srividya\\anaconda3\\lib\\site-packages (from trio~=0.17->selenium==4.0.0b4->undetected-chromedriver) (1.1.0)\n",
      "Requirement already satisfied: idna in c:\\users\\srividya\\anaconda3\\lib\\site-packages (from trio~=0.17->selenium==4.0.0b4->undetected-chromedriver) (2.10)\n",
      "Requirement already satisfied: pycparser in c:\\users\\srividya\\anaconda3\\lib\\site-packages (from cffi>=1.14->trio~=0.17->selenium==4.0.0b4->undetected-chromedriver) (2.20)\n",
      "Requirement already satisfied: wsproto>=0.14 in c:\\users\\srividya\\anaconda3\\lib\\site-packages (from trio-websocket~=0.9->selenium==4.0.0b4->undetected-chromedriver) (1.0.0)\n",
      "Requirement already satisfied: cryptography>=1.3.4 in c:\\users\\srividya\\anaconda3\\lib\\site-packages (from urllib3[secure]~=1.26->selenium==4.0.0b4->undetected-chromedriver) (3.4.7)\n",
      "Requirement already satisfied: pyOpenSSL>=0.14 in c:\\users\\srividya\\anaconda3\\lib\\site-packages (from urllib3[secure]~=1.26->selenium==4.0.0b4->undetected-chromedriver) (20.0.1)\n",
      "Requirement already satisfied: certifi in c:\\users\\srividya\\anaconda3\\lib\\site-packages (from urllib3[secure]~=1.26->selenium==4.0.0b4->undetected-chromedriver) (2020.12.5)\n",
      "Requirement already satisfied: six>=1.5.2 in c:\\users\\srividya\\anaconda3\\lib\\site-packages (from pyOpenSSL>=0.14->urllib3[secure]~=1.26->selenium==4.0.0b4->undetected-chromedriver) (1.15.0)\n",
      "Requirement already satisfied: h11<1,>=0.9.0 in c:\\users\\srividya\\anaconda3\\lib\\site-packages (from wsproto>=0.14->trio-websocket~=0.9->selenium==4.0.0b4->undetected-chromedriver) (0.12.0)\n",
      "Requirement already satisfied: chardet<5,>=3.0.2 in c:\\users\\srividya\\anaconda3\\lib\\site-packages (from requests->undetected-chromedriver) (4.0.0)\n"
     ]
    }
   ],
   "source": [
    "!pip install selenium\n",
    "!pip install undetected-chromedriver\n",
    "     \n",
    "import undetected_chromedriver.v2 as uc\n",
    "import time\n",
    "import warnings\n",
    "warnings.filterwarnings('ignore')"
   ]
  },
  {
   "cell_type": "code",
   "execution_count": 21,
   "id": "800b7d03",
   "metadata": {},
   "outputs": [],
   "source": [
    "import selenium\n",
    "import pandas as pd\n",
    "from selenium import webdriver \n",
    "from selenium.common.exceptions import  StaleElementReferenceException\n",
    "from selenium.common.exceptions import  NoSuchElementException,NoSuchWindowException\n",
    "\n",
    "from selenium.webdriver.support.ui import WebDriverWait\n",
    "from selenium.webdriver.support import expected_conditions as EC\n",
    "from selenium.webdriver.common.by import By\n"
   ]
  },
  {
   "cell_type": "code",
   "execution_count": 22,
   "id": "b033defd",
   "metadata": {},
   "outputs": [],
   "source": [
    "driver = uc.Chrome()\n",
    "with driver:\n",
    "    driver.get(r\"C:\\Users\\Srividya\\Downloads\\undetected-chromedriver-3.0.3.tar.gz\")"
   ]
  },
  {
   "cell_type": "code",
   "execution_count": 47,
   "id": "c588aa93",
   "metadata": {},
   "outputs": [],
   "source": [
    "url=\"https://www.glassdoor.co.in/Salaries/index.htm\"\n",
    "driver.get(url)"
   ]
  },
  {
   "cell_type": "code",
   "execution_count": 48,
   "id": "22aa7a37",
   "metadata": {},
   "outputs": [
    {
     "data": {
      "text/plain": [
       "<selenium.webdriver.remote.webelement.WebElement (session=\"d17a8a38f85c55c0df79770ca2db84f8\", element=\"951e6ab2-2069-4f16-a6bd-1848fdebf9d7\")>"
      ]
     },
     "execution_count": 48,
     "metadata": {},
     "output_type": "execute_result"
    }
   ],
   "source": [
    "search_job=driver.find_element_by_xpath(\"//input[@class='keyword']\")\n",
    "search_job"
   ]
  },
  {
   "cell_type": "code",
   "execution_count": 49,
   "id": "63699774",
   "metadata": {},
   "outputs": [],
   "source": [
    "search_job.send_keys(\"Data scientist\")"
   ]
  },
  {
   "cell_type": "code",
   "execution_count": 50,
   "id": "bd387ba3",
   "metadata": {},
   "outputs": [
    {
     "data": {
      "text/plain": [
       "<selenium.webdriver.remote.webelement.WebElement (session=\"d17a8a38f85c55c0df79770ca2db84f8\", element=\"57818b9c-2d53-4c36-9db4-ce3cefe46b5d\")>"
      ]
     },
     "execution_count": 50,
     "metadata": {},
     "output_type": "execute_result"
    }
   ],
   "source": [
    "search_loc=driver.find_element_by_xpath(\"//input[@class='loc']\")\n",
    "search_loc"
   ]
  },
  {
   "cell_type": "code",
   "execution_count": 51,
   "id": "559bba39",
   "metadata": {},
   "outputs": [],
   "source": [
    "search_loc.send_keys(\"Noida\")"
   ]
  },
  {
   "cell_type": "code",
   "execution_count": 52,
   "id": "6409c0a2",
   "metadata": {},
   "outputs": [],
   "source": [
    "time.sleep(1)"
   ]
  },
  {
   "cell_type": "code",
   "execution_count": 53,
   "id": "ba26f022",
   "metadata": {},
   "outputs": [],
   "source": [
    "search_btn=driver.find_element_by_xpath(\"//button[@class='gd-btn-mkt']\")"
   ]
  },
  {
   "cell_type": "code",
   "execution_count": 54,
   "id": "78e7f456",
   "metadata": {},
   "outputs": [],
   "source": [
    "try:  \n",
    "    search_btn.click()\n",
    "except StaleElementReferenceException as e:\n",
    "    search_btn.click()"
   ]
  },
  {
   "cell_type": "code",
   "execution_count": 55,
   "id": "f8a50092",
   "metadata": {},
   "outputs": [
    {
     "data": {
      "text/plain": [
       "['Tata Consultancy Services',\n",
       " 'IBM',\n",
       " 'Accenture',\n",
       " 'Delhivery',\n",
       " 'Ericsson-Worldwide',\n",
       " 'UnitedHealth Group',\n",
       " 'Optum',\n",
       " 'Optum Global Solutions',\n",
       " 'Valiance Solutions',\n",
       " 'EXL Service',\n",
       " 'Cognizant Technology Solutions',\n",
       " 'ZS Associates',\n",
       " 'Nagarro',\n",
       " 'Innovaccer',\n",
       " 'OYO',\n",
       " 'dunnhumby',\n",
       " 'Amazon',\n",
       " 'Fresher',\n",
       " 'CARS24.com',\n",
       " 'Vidooly Media Tech']"
      ]
     },
     "execution_count": 55,
     "metadata": {},
     "output_type": "execute_result"
    }
   ],
   "source": [
    "comp_names=[]\n",
    "comp_name=driver.find_elements_by_xpath(\"//a[@class='css-f3vw95 e1aj7ssy3']\")\n",
    "for d in comp_name:\n",
    "    comp_names.append(d.text)\n",
    "comp_names  "
   ]
  },
  {
   "cell_type": "code",
   "execution_count": 56,
   "id": "30d46fed",
   "metadata": {},
   "outputs": [
    {
     "data": {
      "text/plain": [
       "['Average',\n",
       " '₹50,183 - ₹3,09,311',\n",
       " '22 salaries',\n",
       " '20 salaries',\n",
       " '15 salaries',\n",
       " '15 salaries',\n",
       " '14 salaries',\n",
       " '14 salaries',\n",
       " '10 salaries',\n",
       " '10 salaries',\n",
       " '10 salaries',\n",
       " '9 salaries',\n",
       " '8 salaries',\n",
       " '8 salaries',\n",
       " '8 salaries',\n",
       " '8 salaries',\n",
       " '7 salaries',\n",
       " '7 salaries',\n",
       " '6 salaries',\n",
       " '6 salaries',\n",
       " '6 salaries',\n",
       " '6 salaries']"
      ]
     },
     "execution_count": 56,
     "metadata": {},
     "output_type": "execute_result"
    }
   ],
   "source": [
    "no_of_sals=[]\n",
    "no_of_sal=driver.find_elements_by_xpath(\"//span[@class='m-0 css-1b6bxoo']\")\n",
    "for e in no_of_sal:\n",
    "    no_of_sals.append(e.text)\n",
    "no_of_sals"
   ]
  },
  {
   "cell_type": "code",
   "execution_count": 57,
   "id": "e18d0dbd",
   "metadata": {},
   "outputs": [],
   "source": [
    "no_of_sals.remove(no_of_sals[0])\n",
    "    "
   ]
  },
  {
   "cell_type": "code",
   "execution_count": 58,
   "id": "ed4168e2",
   "metadata": {},
   "outputs": [
    {
     "data": {
      "text/plain": [
       "['22 salaries',\n",
       " '20 salaries',\n",
       " '15 salaries',\n",
       " '15 salaries',\n",
       " '14 salaries',\n",
       " '14 salaries',\n",
       " '10 salaries',\n",
       " '10 salaries',\n",
       " '10 salaries',\n",
       " '9 salaries',\n",
       " '8 salaries',\n",
       " '8 salaries',\n",
       " '8 salaries',\n",
       " '8 salaries',\n",
       " '7 salaries',\n",
       " '7 salaries',\n",
       " '6 salaries',\n",
       " '6 salaries',\n",
       " '6 salaries',\n",
       " '6 salaries']"
      ]
     },
     "execution_count": 58,
     "metadata": {},
     "output_type": "execute_result"
    }
   ],
   "source": [
    "no_of_sals.remove(no_of_sals[0])\n",
    "no_of_sals"
   ]
  },
  {
   "cell_type": "code",
   "execution_count": 59,
   "id": "669473e8",
   "metadata": {},
   "outputs": [
    {
     "data": {
      "text/plain": [
       "['₹6,28,021\\n /yr',\n",
       " '₹9,08,246\\n /yr',\n",
       " '₹11,93,390\\n /yr',\n",
       " '₹12,49,716\\n /yr',\n",
       " '₹7,58,335\\n /yr',\n",
       " '₹12,80,000\\n /yr',\n",
       " '₹13,55,086\\n /yr',\n",
       " '₹14,55,430\\n /yr',\n",
       " '₹8,86,064\\n /yr',\n",
       " '₹11,10,000\\n /yr',\n",
       " '₹9,62,227\\n /yr',\n",
       " '₹11,71,868\\n /yr',\n",
       " '₹11,01,815\\n /yr',\n",
       " '₹12,40,275\\n /yr',\n",
       " '₹14,51,902\\n /yr',\n",
       " '₹11,30,374\\n /yr',\n",
       " '₹20,63,782\\n /yr',\n",
       " '₹61,566\\n /mo',\n",
       " '₹10,80,727\\n /yr',\n",
       " '₹35,040\\n /mo']"
      ]
     },
     "execution_count": 59,
     "metadata": {},
     "output_type": "execute_result"
    }
   ],
   "source": [
    "avg_sals=[]\n",
    "avg_sal=driver.find_elements_by_xpath(\"//div[@class='col-12 col-lg-4 px-lg-0 d-flex align-items-baseline']\")\n",
    "for h in avg_sal:\n",
    "    avg_sals.append(h.text)\n",
    "avg_sals"
   ]
  },
  {
   "cell_type": "code",
   "execution_count": 60,
   "id": "c54fbc30",
   "metadata": {},
   "outputs": [
    {
     "name": "stdout",
     "output_type": "stream",
     "text": [
      "['₹6,28,021 /yr', '₹9,08,246 /yr', '₹11,93,390 /yr', '₹12,49,716 /yr', '₹7,58,335 /yr', '₹12,80,000 /yr', '₹13,55,086 /yr', '₹14,55,430 /yr', '₹8,86,064 /yr', '₹11,10,000 /yr', '₹9,62,227 /yr', '₹11,71,868 /yr', '₹11,01,815 /yr', '₹12,40,275 /yr', '₹14,51,902 /yr', '₹11,30,374 /yr', '₹20,63,782 /yr', '₹61,566 /mo', '₹10,80,727 /yr', '₹35,040 /mo']\n"
     ]
    }
   ],
   "source": [
    "sorted_sals=[]\n",
    "bad_charss = ['\\n']\n",
    "for w in avg_sals:\n",
    "        t= w.replace(bad_charss[0], '')\n",
    "        sorted_sals.append(t)   \n",
    "print(str(sorted_sals))   "
   ]
  },
  {
   "cell_type": "code",
   "execution_count": 62,
   "id": "9ffff628",
   "metadata": {},
   "outputs": [
    {
     "data": {
      "text/plain": [
       "['Range: ₹4L - ₹13L',\n",
       " 'Range: ₹1L - ₹28L',\n",
       " 'Range: ₹6L - ₹23L',\n",
       " 'Range: ₹5L - ₹1Cr',\n",
       " 'Range: ₹4L - ₹17L',\n",
       " 'Range: ₹8L - ₹16L',\n",
       " 'Range: ₹8L - ₹20L',\n",
       " 'Range: ₹10L - ₹18L',\n",
       " 'Range: ₹5L - ₹15L',\n",
       " 'Range: ₹6L - ₹16L',\n",
       " 'Range: ₹4L - ₹13L',\n",
       " 'Range: ₹2L - ₹19L',\n",
       " 'Range: ₹4L - ₹21L',\n",
       " 'Range: ₹6L - ₹17L',\n",
       " 'Range: ₹10L - ₹21L',\n",
       " 'Range: ₹8L - ₹21L',\n",
       " 'Range: ₹10L - ₹30L',\n",
       " 'Range: ₹25T - ₹1L',\n",
       " 'Range: ₹9L - ₹15L',\n",
       " 'Range: ₹12T - ₹64T']"
      ]
     },
     "execution_count": 62,
     "metadata": {},
     "output_type": "execute_result"
    }
   ],
   "source": [
    "R_sals=[]\n",
    "R_sal=driver.find_elements_by_xpath(\"//span[@class='d-block d-lg-none m-0 css-1b6bxoo']\")\n",
    "for u in R_sal:\n",
    "    R_sals.append(u.text)\n",
    "R_sals"
   ]
  },
  {
   "cell_type": "code",
   "execution_count": 66,
   "id": "9bf888e2",
   "metadata": {},
   "outputs": [
    {
     "name": "stdout",
     "output_type": "stream",
     "text": [
      "[' ₹4L - ₹13L', ' ₹1L - ₹28L', ' ₹6L - ₹23L', ' ₹5L - ₹1Cr', ' ₹4L - ₹17L', ' ₹8L - ₹16L', ' ₹8L - ₹20L', ' ₹10L - ₹18L', ' ₹5L - ₹15L', ' ₹6L - ₹16L', ' ₹4L - ₹13L', ' ₹2L - ₹19L', ' ₹4L - ₹21L', ' ₹6L - ₹17L', ' ₹10L - ₹21L', ' ₹8L - ₹21L', ' ₹10L - ₹30L', ' ₹25T - ₹1L', ' ₹9L - ₹15L', ' ₹12T - ₹64T']\n"
     ]
    }
   ],
   "source": [
    "sorted_mmsals=[]\n",
    "no_need = ['Range:','-']\n",
    "for q in R_sals:\n",
    "        o= q.replace(no_need[0], '')\n",
    "        sorted_mmsals.append(o)   \n",
    "print(str(sorted_mmsals))   "
   ]
  },
  {
   "cell_type": "code",
   "execution_count": 68,
   "id": "ac86e04f",
   "metadata": {},
   "outputs": [
    {
     "name": "stdout",
     "output_type": "stream",
     "text": [
      "[' ₹4L  ₹13L', ' ₹1L  ₹28L', ' ₹6L  ₹23L', ' ₹5L  ₹1Cr', ' ₹4L  ₹17L', ' ₹8L  ₹16L', ' ₹8L  ₹20L', ' ₹10L  ₹18L', ' ₹5L  ₹15L', ' ₹6L  ₹16L', ' ₹4L  ₹13L', ' ₹2L  ₹19L', ' ₹4L  ₹21L', ' ₹6L  ₹17L', ' ₹10L  ₹21L', ' ₹8L  ₹21L', ' ₹10L  ₹30L', ' ₹25T  ₹1L', ' ₹9L  ₹15L', ' ₹12T  ₹64T']\n"
     ]
    }
   ],
   "source": [
    "Sorted_mmsals=[]\n",
    "no_need = ['Range:','-']\n",
    "for y in sorted_mmsals :\n",
    "        v= y.replace(no_need[1], '')\n",
    "        Sorted_mmsals.append(v)   \n",
    "print(str(Sorted_mmsals))  "
   ]
  },
  {
   "cell_type": "code",
   "execution_count": 72,
   "id": "33dcb42d",
   "metadata": {},
   "outputs": [
    {
     "data": {
      "text/plain": [
       "[' ₹4L',\n",
       " ' ₹1L',\n",
       " ' ₹6L',\n",
       " ' ₹5L',\n",
       " ' ₹4L',\n",
       " ' ₹8L',\n",
       " ' ₹8L',\n",
       " ' ₹10',\n",
       " ' ₹5L',\n",
       " ' ₹6L',\n",
       " ' ₹4L',\n",
       " ' ₹2L',\n",
       " ' ₹4L',\n",
       " ' ₹6L',\n",
       " ' ₹10',\n",
       " ' ₹8L',\n",
       " ' ₹10',\n",
       " ' ₹25',\n",
       " ' ₹9L',\n",
       " ' ₹12']"
      ]
     },
     "execution_count": 72,
     "metadata": {},
     "output_type": "execute_result"
    }
   ],
   "source": [
    "sliced_min_sal=[]\n",
    "c=[]\n",
    "for b in range(len(Sorted_mmsals)):\n",
    "        c=str(Sorted_mmsals[b])\n",
    "        sliced_mn_sal = slice(4)\n",
    "        sliced_min_sal.append(c[sliced_mn_sal])\n",
    "sliced_min_sal        "
   ]
  },
  {
   "cell_type": "code",
   "execution_count": 73,
   "id": "21af83a6",
   "metadata": {},
   "outputs": [
    {
     "data": {
      "text/plain": [
       "[' ₹13L',\n",
       " ' ₹28L',\n",
       " ' ₹23L',\n",
       " ' ₹1Cr',\n",
       " ' ₹17L',\n",
       " ' ₹16L',\n",
       " ' ₹20L',\n",
       " '  ₹18',\n",
       " ' ₹15L',\n",
       " ' ₹16L',\n",
       " ' ₹13L',\n",
       " ' ₹19L',\n",
       " ' ₹21L',\n",
       " ' ₹17L',\n",
       " '  ₹21',\n",
       " ' ₹21L',\n",
       " '  ₹30',\n",
       " '  ₹1L',\n",
       " ' ₹15L',\n",
       " '  ₹64']"
      ]
     },
     "execution_count": 73,
     "metadata": {},
     "output_type": "execute_result"
    }
   ],
   "source": [
    "sliced_max_sal=[]\n",
    "c_1=[]\n",
    "for k in range(len(Sorted_mmsals)):\n",
    "        c_1=str(Sorted_mmsals[k])\n",
    "        sliced_mx_sal = slice(5,10)\n",
    "        sliced_max_sal.append(c_1[sliced_mx_sal])\n",
    "sliced_max_sal"
   ]
  },
  {
   "cell_type": "code",
   "execution_count": 75,
   "id": "ebc87a09",
   "metadata": {},
   "outputs": [
    {
     "data": {
      "text/plain": [
       "['3.9\\n★',\n",
       " '3.9\\n★',\n",
       " '4.1\\n★',\n",
       " '3.8\\n★',\n",
       " '4\\n★',\n",
       " '3.7\\n★',\n",
       " '3.7\\n★',\n",
       " '3.9\\n★',\n",
       " '4.2\\n★',\n",
       " '3.6\\n★',\n",
       " '3.8\\n★',\n",
       " '4\\n★',\n",
       " '4\\n★',\n",
       " '3.8\\n★',\n",
       " '3.3\\n★',\n",
       " '4.1\\n★',\n",
       " '3.8\\n★',\n",
       " '4.1\\n★',\n",
       " '4.1\\n★',\n",
       " '3.8\\n★']"
      ]
     },
     "execution_count": 75,
     "metadata": {},
     "output_type": "execute_result"
    }
   ],
   "source": [
    "Ratings=[]\n",
    "Rating=driver.find_elements_by_xpath(\"//div[@class='d-flex align-items-center mt-xxsm']\")\n",
    "for m in Rating:\n",
    "    Ratings.append(m.text)\n",
    "Ratings"
   ]
  },
  {
   "cell_type": "code",
   "execution_count": 76,
   "id": "de4f95ff",
   "metadata": {},
   "outputs": [
    {
     "name": "stdout",
     "output_type": "stream",
     "text": [
      "['3.9★', '3.9★', '4.1★', '3.8★', '4★', '3.7★', '3.7★', '3.9★', '4.2★', '3.6★', '3.8★', '4★', '4★', '3.8★', '3.3★', '4.1★', '3.8★', '4.1★', '4.1★', '3.8★']\n"
     ]
    }
   ],
   "source": [
    "sorted_Ratings=[]\n",
    "bad_charss = ['\\n']\n",
    "for f in Ratings:\n",
    "        i= f.replace(bad_charss[0], '')\n",
    "        sorted_Ratings.append(i)   \n",
    "print(str(sorted_Ratings))   "
   ]
  },
  {
   "cell_type": "code",
   "execution_count": 77,
   "id": "8ad51135",
   "metadata": {},
   "outputs": [
    {
     "name": "stdout",
     "output_type": "stream",
     "text": [
      "length of list scraped are equal\n"
     ]
    }
   ],
   "source": [
    "if len(comp_names)==len(no_of_sals)==len(sorted_sals)==len(sliced_min_sal)==len(sliced_max_sal)==len(sorted_Ratings):\n",
    "    print(\"length of list scraped are equal\")\n",
    "else:\n",
    "    print(\"length of list scraped are not equal\")"
   ]
  },
  {
   "cell_type": "code",
   "execution_count": 79,
   "id": "88c3f325",
   "metadata": {},
   "outputs": [
    {
     "data": {
      "text/plain": [
       "[1, 2, 3, 4, 5, 6, 7, 8, 9, 10, 11, 12, 13, 14, 15, 16, 17, 18, 19, 20]"
      ]
     },
     "execution_count": 79,
     "metadata": {},
     "output_type": "execute_result"
    }
   ],
   "source": [
    "Nos=[]\n",
    "for i in range(1,len(comp_names)+1):\n",
    "    Nos.append(i)\n",
    "Nos    "
   ]
  },
  {
   "cell_type": "code",
   "execution_count": 81,
   "id": "83676f61",
   "metadata": {},
   "outputs": [
    {
     "data": {
      "text/html": [
       "<style  type=\"text/css\" >\n",
       "</style><table id=\"T_c858a_\" ><thead>    <tr>        <th class=\"col_heading level0 col0\" >Nos</th>        <th class=\"col_heading level0 col1\" >Company Names</th>        <th class=\"col_heading level0 col2\" >Days_ago_posted</th>        <th class=\"col_heading level0 col3\" >Rating of company</th>    </tr></thead><tbody>\n",
       "                <tr>\n",
       "                                <td id=\"T_c858a_row0_col0\" class=\"data row0 col0\" >1</td>\n",
       "                        <td id=\"T_c858a_row0_col1\" class=\"data row0 col1\" >Tata Consultancy Services</td>\n",
       "                        <td id=\"T_c858a_row0_col2\" class=\"data row0 col2\" >22 salaries</td>\n",
       "                        <td id=\"T_c858a_row0_col3\" class=\"data row0 col3\" >3.9★</td>\n",
       "            </tr>\n",
       "            <tr>\n",
       "                                <td id=\"T_c858a_row1_col0\" class=\"data row1 col0\" >2</td>\n",
       "                        <td id=\"T_c858a_row1_col1\" class=\"data row1 col1\" >IBM</td>\n",
       "                        <td id=\"T_c858a_row1_col2\" class=\"data row1 col2\" >20 salaries</td>\n",
       "                        <td id=\"T_c858a_row1_col3\" class=\"data row1 col3\" >3.9★</td>\n",
       "            </tr>\n",
       "            <tr>\n",
       "                                <td id=\"T_c858a_row2_col0\" class=\"data row2 col0\" >3</td>\n",
       "                        <td id=\"T_c858a_row2_col1\" class=\"data row2 col1\" >Accenture</td>\n",
       "                        <td id=\"T_c858a_row2_col2\" class=\"data row2 col2\" >15 salaries</td>\n",
       "                        <td id=\"T_c858a_row2_col3\" class=\"data row2 col3\" >4.1★</td>\n",
       "            </tr>\n",
       "            <tr>\n",
       "                                <td id=\"T_c858a_row3_col0\" class=\"data row3 col0\" >4</td>\n",
       "                        <td id=\"T_c858a_row3_col1\" class=\"data row3 col1\" >Delhivery</td>\n",
       "                        <td id=\"T_c858a_row3_col2\" class=\"data row3 col2\" >15 salaries</td>\n",
       "                        <td id=\"T_c858a_row3_col3\" class=\"data row3 col3\" >3.8★</td>\n",
       "            </tr>\n",
       "            <tr>\n",
       "                                <td id=\"T_c858a_row4_col0\" class=\"data row4 col0\" >5</td>\n",
       "                        <td id=\"T_c858a_row4_col1\" class=\"data row4 col1\" >Ericsson-Worldwide</td>\n",
       "                        <td id=\"T_c858a_row4_col2\" class=\"data row4 col2\" >14 salaries</td>\n",
       "                        <td id=\"T_c858a_row4_col3\" class=\"data row4 col3\" >4★</td>\n",
       "            </tr>\n",
       "            <tr>\n",
       "                                <td id=\"T_c858a_row5_col0\" class=\"data row5 col0\" >6</td>\n",
       "                        <td id=\"T_c858a_row5_col1\" class=\"data row5 col1\" >UnitedHealth Group</td>\n",
       "                        <td id=\"T_c858a_row5_col2\" class=\"data row5 col2\" >14 salaries</td>\n",
       "                        <td id=\"T_c858a_row5_col3\" class=\"data row5 col3\" >3.7★</td>\n",
       "            </tr>\n",
       "            <tr>\n",
       "                                <td id=\"T_c858a_row6_col0\" class=\"data row6 col0\" >7</td>\n",
       "                        <td id=\"T_c858a_row6_col1\" class=\"data row6 col1\" >Optum</td>\n",
       "                        <td id=\"T_c858a_row6_col2\" class=\"data row6 col2\" >10 salaries</td>\n",
       "                        <td id=\"T_c858a_row6_col3\" class=\"data row6 col3\" >3.7★</td>\n",
       "            </tr>\n",
       "            <tr>\n",
       "                                <td id=\"T_c858a_row7_col0\" class=\"data row7 col0\" >8</td>\n",
       "                        <td id=\"T_c858a_row7_col1\" class=\"data row7 col1\" >Optum Global Solutions</td>\n",
       "                        <td id=\"T_c858a_row7_col2\" class=\"data row7 col2\" >10 salaries</td>\n",
       "                        <td id=\"T_c858a_row7_col3\" class=\"data row7 col3\" >3.9★</td>\n",
       "            </tr>\n",
       "            <tr>\n",
       "                                <td id=\"T_c858a_row8_col0\" class=\"data row8 col0\" >9</td>\n",
       "                        <td id=\"T_c858a_row8_col1\" class=\"data row8 col1\" >Valiance Solutions</td>\n",
       "                        <td id=\"T_c858a_row8_col2\" class=\"data row8 col2\" >10 salaries</td>\n",
       "                        <td id=\"T_c858a_row8_col3\" class=\"data row8 col3\" >4.2★</td>\n",
       "            </tr>\n",
       "            <tr>\n",
       "                                <td id=\"T_c858a_row9_col0\" class=\"data row9 col0\" >10</td>\n",
       "                        <td id=\"T_c858a_row9_col1\" class=\"data row9 col1\" >EXL Service</td>\n",
       "                        <td id=\"T_c858a_row9_col2\" class=\"data row9 col2\" >9 salaries</td>\n",
       "                        <td id=\"T_c858a_row9_col3\" class=\"data row9 col3\" >3.6★</td>\n",
       "            </tr>\n",
       "    </tbody></table>"
      ],
      "text/plain": [
       "<pandas.io.formats.style.Styler at 0x1bed798e190>"
      ]
     },
     "execution_count": 81,
     "metadata": {},
     "output_type": "execute_result"
    }
   ],
   "source": [
    "import pandas as pd\n",
    "Glassdoor=pd.DataFrame({})\n",
    "Glassdoor['Nos']=Nos[:10]\n",
    "Glassdoor['Company Names']=comp_names[:10]\n",
    "Glassdoor['Days_ago_posted']=no_of_sals[:10]\n",
    "Glassdoor['Rating of company']=sorted_sals[:10]\n",
    "Glassdoor['Rating of company']=sliced_min_sal[:10]\n",
    "Glassdoor['Rating of company']=sliced_max_sal[:10]\n",
    "Glassdoor['Rating of company']=sorted_Ratings[:10]\n",
    "Glassdoor.style.hide_index()\n",
    "\n"
   ]
  },
  {
   "cell_type": "markdown",
   "id": "1fedd947",
   "metadata": {},
   "source": [
    "These are the first Top 10 jobs results from the Jobdetails we scrapped from GlassDoor/salaries.index"
   ]
  }
 ],
 "metadata": {
  "kernelspec": {
   "display_name": "Python 3",
   "language": "python",
   "name": "python3"
  },
  "language_info": {
   "codemirror_mode": {
    "name": "ipython",
    "version": 3
   },
   "file_extension": ".py",
   "mimetype": "text/x-python",
   "name": "python",
   "nbconvert_exporter": "python",
   "pygments_lexer": "ipython3",
   "version": "3.8.8"
  }
 },
 "nbformat": 4,
 "nbformat_minor": 5
}
