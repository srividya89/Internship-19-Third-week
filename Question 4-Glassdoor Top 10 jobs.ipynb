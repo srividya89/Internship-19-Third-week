{
 "cells": [
  {
   "cell_type": "code",
   "execution_count": 1,
   "id": "9863a04c",
   "metadata": {},
   "outputs": [
    {
     "name": "stdout",
     "output_type": "stream",
     "text": [
      "Requirement already satisfied: selenium in c:\\users\\srividya\\anaconda3\\lib\\site-packages (4.0.0b4)\n",
      "Requirement already satisfied: urllib3[secure]~=1.26 in c:\\users\\srividya\\anaconda3\\lib\\site-packages (from selenium) (1.26.4)\n",
      "Requirement already satisfied: trio-websocket~=0.9 in c:\\users\\srividya\\anaconda3\\lib\\site-packages (from selenium) (0.9.2)\n",
      "Requirement already satisfied: trio~=0.17 in c:\\users\\srividya\\anaconda3\\lib\\site-packages (from selenium) (0.19.0)\n",
      "Requirement already satisfied: async-generator>=1.9 in c:\\users\\srividya\\anaconda3\\lib\\site-packages (from trio~=0.17->selenium) (1.10)\n",
      "Requirement already satisfied: attrs>=19.2.0 in c:\\users\\srividya\\anaconda3\\lib\\site-packages (from trio~=0.17->selenium) (20.3.0)\n",
      "Requirement already satisfied: idna in c:\\users\\srividya\\anaconda3\\lib\\site-packages (from trio~=0.17->selenium) (2.10)\n",
      "Requirement already satisfied: cffi>=1.14 in c:\\users\\srividya\\anaconda3\\lib\\site-packages (from trio~=0.17->selenium) (1.14.5)\n",
      "Requirement already satisfied: sniffio in c:\\users\\srividya\\anaconda3\\lib\\site-packages (from trio~=0.17->selenium) (1.2.0)\n",
      "Requirement already satisfied: outcome in c:\\users\\srividya\\anaconda3\\lib\\site-packages (from trio~=0.17->selenium) (1.1.0)\n",
      "Requirement already satisfied: sortedcontainers in c:\\users\\srividya\\anaconda3\\lib\\site-packages (from trio~=0.17->selenium) (2.3.0)\n",
      "Requirement already satisfied: pycparser in c:\\users\\srividya\\anaconda3\\lib\\site-packages (from cffi>=1.14->trio~=0.17->selenium) (2.20)\n",
      "Requirement already satisfied: wsproto>=0.14 in c:\\users\\srividya\\anaconda3\\lib\\site-packages (from trio-websocket~=0.9->selenium) (1.0.0)\n",
      "Requirement already satisfied: certifi in c:\\users\\srividya\\anaconda3\\lib\\site-packages (from urllib3[secure]~=1.26->selenium) (2020.12.5)\n",
      "Requirement already satisfied: cryptography>=1.3.4 in c:\\users\\srividya\\anaconda3\\lib\\site-packages (from urllib3[secure]~=1.26->selenium) (3.4.7)\n",
      "Requirement already satisfied: pyOpenSSL>=0.14 in c:\\users\\srividya\\anaconda3\\lib\\site-packages (from urllib3[secure]~=1.26->selenium) (20.0.1)\n",
      "Requirement already satisfied: six>=1.5.2 in c:\\users\\srividya\\anaconda3\\lib\\site-packages (from pyOpenSSL>=0.14->urllib3[secure]~=1.26->selenium) (1.15.0)\n",
      "Requirement already satisfied: h11<1,>=0.9.0 in c:\\users\\srividya\\anaconda3\\lib\\site-packages (from wsproto>=0.14->trio-websocket~=0.9->selenium) (0.12.0)\n",
      "Requirement already satisfied: undetected-chromedriver in c:\\users\\srividya\\anaconda3\\lib\\site-packages (3.0.3)\n",
      "Requirement already satisfied: websockets in c:\\users\\srividya\\anaconda3\\lib\\site-packages (from undetected-chromedriver) (10.0)\n",
      "Requirement already satisfied: selenium==4.0.0b4 in c:\\users\\srividya\\anaconda3\\lib\\site-packages (from undetected-chromedriver) (4.0.0b4)\n",
      "Requirement already satisfied: requests in c:\\users\\srividya\\anaconda3\\lib\\site-packages (from undetected-chromedriver) (2.25.1)\n",
      "Requirement already satisfied: urllib3[secure]~=1.26 in c:\\users\\srividya\\anaconda3\\lib\\site-packages (from selenium==4.0.0b4->undetected-chromedriver) (1.26.4)\n",
      "Requirement already satisfied: trio-websocket~=0.9 in c:\\users\\srividya\\anaconda3\\lib\\site-packages (from selenium==4.0.0b4->undetected-chromedriver) (0.9.2)\n",
      "Requirement already satisfied: trio~=0.17 in c:\\users\\srividya\\anaconda3\\lib\\site-packages (from selenium==4.0.0b4->undetected-chromedriver) (0.19.0)\n",
      "Requirement already satisfied: async-generator>=1.9 in c:\\users\\srividya\\anaconda3\\lib\\site-packages (from trio~=0.17->selenium==4.0.0b4->undetected-chromedriver) (1.10)\n",
      "Requirement already satisfied: idna in c:\\users\\srividya\\anaconda3\\lib\\site-packages (from trio~=0.17->selenium==4.0.0b4->undetected-chromedriver) (2.10)\n",
      "Requirement already satisfied: sortedcontainers in c:\\users\\srividya\\anaconda3\\lib\\site-packages (from trio~=0.17->selenium==4.0.0b4->undetected-chromedriver) (2.3.0)\n",
      "Requirement already satisfied: attrs>=19.2.0 in c:\\users\\srividya\\anaconda3\\lib\\site-packages (from trio~=0.17->selenium==4.0.0b4->undetected-chromedriver) (20.3.0)\n",
      "Requirement already satisfied: outcome in c:\\users\\srividya\\anaconda3\\lib\\site-packages (from trio~=0.17->selenium==4.0.0b4->undetected-chromedriver) (1.1.0)\n",
      "Requirement already satisfied: cffi>=1.14 in c:\\users\\srividya\\anaconda3\\lib\\site-packages (from trio~=0.17->selenium==4.0.0b4->undetected-chromedriver) (1.14.5)\n",
      "Requirement already satisfied: sniffio in c:\\users\\srividya\\anaconda3\\lib\\site-packages (from trio~=0.17->selenium==4.0.0b4->undetected-chromedriver) (1.2.0)\n",
      "Requirement already satisfied: pycparser in c:\\users\\srividya\\anaconda3\\lib\\site-packages (from cffi>=1.14->trio~=0.17->selenium==4.0.0b4->undetected-chromedriver) (2.20)\n",
      "Requirement already satisfied: wsproto>=0.14 in c:\\users\\srividya\\anaconda3\\lib\\site-packages (from trio-websocket~=0.9->selenium==4.0.0b4->undetected-chromedriver) (1.0.0)\n",
      "Requirement already satisfied: pyOpenSSL>=0.14 in c:\\users\\srividya\\anaconda3\\lib\\site-packages (from urllib3[secure]~=1.26->selenium==4.0.0b4->undetected-chromedriver) (20.0.1)\n",
      "Requirement already satisfied: certifi in c:\\users\\srividya\\anaconda3\\lib\\site-packages (from urllib3[secure]~=1.26->selenium==4.0.0b4->undetected-chromedriver) (2020.12.5)\n",
      "Requirement already satisfied: cryptography>=1.3.4 in c:\\users\\srividya\\anaconda3\\lib\\site-packages (from urllib3[secure]~=1.26->selenium==4.0.0b4->undetected-chromedriver) (3.4.7)\n",
      "Requirement already satisfied: six>=1.5.2 in c:\\users\\srividya\\anaconda3\\lib\\site-packages (from pyOpenSSL>=0.14->urllib3[secure]~=1.26->selenium==4.0.0b4->undetected-chromedriver) (1.15.0)\n",
      "Requirement already satisfied: h11<1,>=0.9.0 in c:\\users\\srividya\\anaconda3\\lib\\site-packages (from wsproto>=0.14->trio-websocket~=0.9->selenium==4.0.0b4->undetected-chromedriver) (0.12.0)\n",
      "Requirement already satisfied: chardet<5,>=3.0.2 in c:\\users\\srividya\\anaconda3\\lib\\site-packages (from requests->undetected-chromedriver) (4.0.0)\n"
     ]
    }
   ],
   "source": [
    "!pip install selenium\n",
    "!pip install undetected-chromedriver\n",
    "     \n",
    "import undetected_chromedriver.v2 as uc\n",
    "import time\n",
    "import warnings\n",
    "warnings.filterwarnings('ignore')"
   ]
  },
  {
   "cell_type": "code",
   "execution_count": 2,
   "id": "800b7d03",
   "metadata": {},
   "outputs": [],
   "source": [
    "import selenium\n",
    "import pandas as pd\n",
    "from selenium import webdriver \n",
    "from selenium.common.exceptions import  StaleElementReferenceException\n",
    "from selenium.common.exceptions import  NoSuchElementException,NoSuchWindowException\n",
    "\n",
    "from selenium.webdriver.support.ui import WebDriverWait\n",
    "from selenium.webdriver.support import expected_conditions as EC\n",
    "from selenium.webdriver.common.by import By\n"
   ]
  },
  {
   "cell_type": "code",
   "execution_count": 5,
   "id": "b033defd",
   "metadata": {},
   "outputs": [],
   "source": [
    "driver = uc.Chrome()\n",
    "with driver:\n",
    "    driver.get(r\"C:\\Users\\Srividya\\Downloads\\undetected-chromedriver-3.0.3.tar.gz\")"
   ]
  },
  {
   "cell_type": "code",
   "execution_count": 6,
   "id": "c588aa93",
   "metadata": {},
   "outputs": [],
   "source": [
    "url=\"https://www.glassdoor.co.in/index.htm\"\n",
    "driver.get(url)"
   ]
  },
  {
   "cell_type": "code",
   "execution_count": 7,
   "id": "22aa7a37",
   "metadata": {},
   "outputs": [
    {
     "data": {
      "text/plain": [
       "<selenium.webdriver.remote.webelement.WebElement (session=\"5e52d9589fc248e0adbadba2c6104694\", element=\"d084b382-c338-41ee-a640-f3d58ba50ea6\")>"
      ]
     },
     "execution_count": 7,
     "metadata": {},
     "output_type": "execute_result"
    }
   ],
   "source": [
    "search_job=driver.find_element_by_xpath(\"//input[@id='sc.keyword']\")\n",
    "search_job"
   ]
  },
  {
   "cell_type": "code",
   "execution_count": 8,
   "id": "63699774",
   "metadata": {},
   "outputs": [],
   "source": [
    "search_job.send_keys(\"Data scientist\")"
   ]
  },
  {
   "cell_type": "code",
   "execution_count": 9,
   "id": "bd387ba3",
   "metadata": {},
   "outputs": [
    {
     "data": {
      "text/plain": [
       "<selenium.webdriver.remote.webelement.WebElement (session=\"5e52d9589fc248e0adbadba2c6104694\", element=\"59b417b5-94de-4808-b2b7-0d60f8a50677\")>"
      ]
     },
     "execution_count": 9,
     "metadata": {},
     "output_type": "execute_result"
    }
   ],
   "source": [
    "search_loc=driver.find_element_by_xpath(\"//input[@id='sc.location']\")\n",
    "search_loc"
   ]
  },
  {
   "cell_type": "code",
   "execution_count": 10,
   "id": "559bba39",
   "metadata": {},
   "outputs": [],
   "source": [
    "search_loc.send_keys(\"Noida\")"
   ]
  },
  {
   "cell_type": "code",
   "execution_count": 11,
   "id": "6409c0a2",
   "metadata": {},
   "outputs": [],
   "source": [
    "time.sleep(1)"
   ]
  },
  {
   "cell_type": "code",
   "execution_count": 12,
   "id": "ba26f022",
   "metadata": {},
   "outputs": [],
   "source": [
    "search_btn=driver.find_element_by_xpath(\"//button[@class='gd-ui-button ml-std col-auto search__SearchStyles__newSearchButton css-1dqvyh7']\")"
   ]
  },
  {
   "cell_type": "code",
   "execution_count": 13,
   "id": "78e7f456",
   "metadata": {},
   "outputs": [],
   "source": [
    "try:  \n",
    "    search_btn.click()\n",
    "except StaleElementReferenceException as e:\n",
    "    search_btn.click()"
   ]
  },
  {
   "cell_type": "code",
   "execution_count": 14,
   "id": "2271d0b6",
   "metadata": {},
   "outputs": [
    {
     "data": {
      "text/plain": [
       "['17d',\n",
       " '30d+',\n",
       " '24h',\n",
       " '30d+',\n",
       " '2d',\n",
       " '30d+',\n",
       " '3d',\n",
       " '3d',\n",
       " '30d+',\n",
       " '12d',\n",
       " '17d',\n",
       " '30d+',\n",
       " '5d',\n",
       " '10d',\n",
       " '30d+',\n",
       " '30d+',\n",
       " '22d',\n",
       " '30d+',\n",
       " '8d',\n",
       " '19d',\n",
       " '24d',\n",
       " '5d',\n",
       " '30d+',\n",
       " '30d+',\n",
       " '14d',\n",
       " '2d',\n",
       " '30d+',\n",
       " '2d',\n",
       " '25d',\n",
       " '14d']"
      ]
     },
     "execution_count": 14,
     "metadata": {},
     "output_type": "execute_result"
    }
   ],
   "source": [
    "days_ago=[]\n",
    "day_ago =driver.find_elements_by_xpath(\"//div[@class='d-flex align-items-end pl-std css-17n8uzw']\")\n",
    "for d in day_ago:\n",
    "    days_ago.append(d.text)\n",
    "days_ago   "
   ]
  },
  {
   "cell_type": "code",
   "execution_count": 15,
   "id": "9b65caf4",
   "metadata": {},
   "outputs": [
    {
     "data": {
      "text/plain": [
       "['https://www.glassdoor.co.in/partner/jobListing.htm?pos=101&ao=1136043&s=58&guid=0000017bd654af989eee1fd7657b332b&src=GD_JOB_AD&t=SR&vt=w&uido=2FCAEF7CCDA717581F88B6B0C9DDCF66&ea=1&cs=1_14ecf589&cb=1631388479637&jobListingId=1007258785216&jrtk=2-0-1ffb59btsn51b801-1ffb59buan5fv800-c33fbbcb496aaf48',\n",
       " 'https://www.glassdoor.co.in/partner/jobListing.htm?pos=102&ao=1136043&s=58&guid=0000017bd654af989eee1fd7657b332b&src=GD_JOB_AD&t=SR&vt=w&uido=2FCAEF7CCDA717581F88B6B0C9DDCF66&ea=1&cs=1_ef8b0fe7&cb=1631388479640&jobListingId=1007200389479&jrtk=2-0-1ffb59btsn51b801-1ffb59buan5fv800-97d4c65035600d81',\n",
       " 'https://www.glassdoor.co.in/partner/jobListing.htm?pos=103&ao=1136043&s=58&guid=0000017bd654af989eee1fd7657b332b&src=GD_JOB_AD&t=SR&vt=w&uido=2FCAEF7CCDA717581F88B6B0C9DDCF66&cs=1_c9066e8f&cb=1631388479636&jobListingId=1007296242943&jrtk=2-0-1ffb59btsn51b801-1ffb59buan5fv800-ffacc24eba7bd52e',\n",
       " 'https://www.glassdoor.co.in/partner/jobListing.htm?pos=104&ao=1136043&s=58&guid=0000017bd654af989eee1fd7657b332b&src=GD_JOB_AD&t=SR&vt=w&uido=2FCAEF7CCDA717581F88B6B0C9DDCF66&cs=1_10372e87&cb=1631388479638&jobListingId=1006624053994&jrtk=2-0-1ffb59btsn51b801-1ffb59buan5fv800-a8cb856cd397a474',\n",
       " 'https://www.glassdoor.co.in/partner/jobListing.htm?pos=105&ao=1136043&s=58&guid=0000017bd654af989eee1fd7657b332b&src=GD_JOB_AD&t=SR&vt=w&uido=2FCAEF7CCDA717581F88B6B0C9DDCF66&cs=1_ab5f4b8e&cb=1631388479640&jobListingId=1007290108522&jrtk=2-0-1ffb59btsn51b801-1ffb59buan5fv800-5728b4a211ea2e96',\n",
       " 'https://www.glassdoor.co.in/partner/jobListing.htm?pos=106&ao=1136043&s=58&guid=0000017bd654af989eee1fd7657b332b&src=GD_JOB_AD&t=SR&vt=w&uido=2FCAEF7CCDA717581F88B6B0C9DDCF66&cs=1_b4020ce2&cb=1631388479642&jobListingId=1006461286442&jrtk=2-0-1ffb59btsn51b801-1ffb59buan5fv800-a1ea358f023a69b7',\n",
       " 'https://www.glassdoor.co.in/partner/jobListing.htm?pos=107&ao=1136043&s=58&guid=0000017bd654af989eee1fd7657b332b&src=GD_JOB_AD&t=SR&vt=w&uido=2FCAEF7CCDA717581F88B6B0C9DDCF66&cs=1_48c7b0be&cb=1631388479644&jobListingId=1007289606692&jrtk=2-0-1ffb59btsn51b801-1ffb59buan5fv800-cd81678964ea464c',\n",
       " 'https://www.glassdoor.co.in/partner/jobListing.htm?pos=108&ao=1136043&s=58&guid=0000017bd654af989eee1fd7657b332b&src=GD_JOB_AD&t=SR&vt=w&uido=2FCAEF7CCDA717581F88B6B0C9DDCF66&cs=1_c8405ae2&cb=1631388479645&jobListingId=1007289606693&jrtk=2-0-1ffb59btsn51b801-1ffb59buan5fv800-a8c1cf7bed67fe43',\n",
       " 'https://www.glassdoor.co.in/partner/jobListing.htm?pos=109&ao=1136043&s=58&guid=0000017bd654af989eee1fd7657b332b&src=GD_JOB_AD&t=SR&vt=w&uido=2FCAEF7CCDA717581F88B6B0C9DDCF66&cs=1_0253434f&cb=1631388479645&jobListingId=1006624054035&jrtk=2-0-1ffb59btsn51b801-1ffb59buan5fv800-c47c5ae51c2ed2ee',\n",
       " 'https://www.glassdoor.co.in/partner/jobListing.htm?pos=110&ao=1136043&s=58&guid=0000017bd654af989eee1fd7657b332b&src=GD_JOB_AD&t=SR&vt=w&uido=2FCAEF7CCDA717581F88B6B0C9DDCF66&ea=1&cs=1_82c7f95e&cb=1631388479647&jobListingId=1007267967133&jrtk=2-0-1ffb59btsn51b801-1ffb59buan5fv800-b3c352ca79ca6d73',\n",
       " 'https://www.glassdoor.co.in/partner/jobListing.htm?pos=111&ao=1136043&s=58&guid=0000017bd654af989eee1fd7657b332b&src=GD_JOB_AD&t=SR&vt=w&uido=2FCAEF7CCDA717581F88B6B0C9DDCF66&ea=1&cs=1_38d38480&cb=1631388479649&jobListingId=1007258812550&jrtk=2-0-1ffb59btsn51b801-1ffb59buan5fv800-223dcefd7d2a9c1c',\n",
       " 'https://www.glassdoor.co.in/partner/jobListing.htm?pos=112&ao=1136043&s=58&guid=0000017bd654af989eee1fd7657b332b&src=GD_JOB_AD&t=SR&vt=w&uido=2FCAEF7CCDA717581F88B6B0C9DDCF66&cs=1_b970a1a2&cb=1631388479648&jobListingId=1007179647282&jrtk=2-0-1ffb59btsn51b801-1ffb59buan5fv800-553f505b050aa33e',\n",
       " 'https://www.glassdoor.co.in/partner/jobListing.htm?pos=113&ao=1136043&s=58&guid=0000017bd654af989eee1fd7657b332b&src=GD_JOB_AD&t=SR&vt=w&uido=2FCAEF7CCDA717581F88B6B0C9DDCF66&ea=1&cs=1_94ede015&cb=1631388479650&jobListingId=1007285294048&jrtk=2-0-1ffb59btsn51b801-1ffb59buan5fv800-13027c95012596b8',\n",
       " 'https://www.glassdoor.co.in/partner/jobListing.htm?pos=114&ao=1136043&s=58&guid=0000017bd654af989eee1fd7657b332b&src=GD_JOB_AD&t=SR&vt=w&uido=2FCAEF7CCDA717581F88B6B0C9DDCF66&cs=1_8e409607&cb=1631388479649&jobListingId=1007275121225&jrtk=2-0-1ffb59btsn51b801-1ffb59buan5fv800-59eb9dcaa5a68f12',\n",
       " 'https://www.glassdoor.co.in/partner/jobListing.htm?pos=115&ao=1136043&s=58&guid=0000017bd654af989eee1fd7657b332b&src=GD_JOB_AD&t=SR&vt=w&uido=2FCAEF7CCDA717581F88B6B0C9DDCF66&cs=1_7718e947&cb=1631388479650&jobListingId=1006500025617&jrtk=2-0-1ffb59btsn51b801-1ffb59buan5fv800-221d6afa3757039d',\n",
       " 'https://www.glassdoor.co.in/partner/jobListing.htm?pos=116&ao=1136043&s=58&guid=0000017bd654af989eee1fd7657b332b&src=GD_JOB_AD&t=SR&vt=w&uido=2FCAEF7CCDA717581F88B6B0C9DDCF66&cs=1_f4794ced&cb=1631388479651&jobListingId=1007095133299&jrtk=2-0-1ffb59btsn51b801-1ffb59buan5fv800-84db922a59ad7885',\n",
       " 'https://www.glassdoor.co.in/partner/jobListing.htm?pos=117&ao=1136043&s=58&guid=0000017bd654af989eee1fd7657b332b&src=GD_JOB_AD&t=SR&vt=w&uido=2FCAEF7CCDA717581F88B6B0C9DDCF66&cs=1_f27863f7&cb=1631388479652&jobListingId=1007248250199&jrtk=2-0-1ffb59btsn51b801-1ffb59buan5fv800-86be4fb99f638f8b',\n",
       " 'https://www.glassdoor.co.in/partner/jobListing.htm?pos=118&ao=1136043&s=58&guid=0000017bd654af989eee1fd7657b332b&src=GD_JOB_AD&t=SR&vt=w&uido=2FCAEF7CCDA717581F88B6B0C9DDCF66&ea=1&cs=1_d9c6c3c5&cb=1631388479653&jobListingId=1006687249100&jrtk=2-0-1ffb59btsn51b801-1ffb59buan5fv800-94036c835379de77',\n",
       " 'https://www.glassdoor.co.in/partner/jobListing.htm?pos=119&ao=1136043&s=58&guid=0000017bd654af989eee1fd7657b332b&src=GD_JOB_AD&t=SR&vt=w&uido=2FCAEF7CCDA717581F88B6B0C9DDCF66&cs=1_b15863e2&cb=1631388479652&jobListingId=1007279789126&jrtk=2-0-1ffb59btsn51b801-1ffb59buan5fv800-696539a2bd423b28',\n",
       " 'https://www.glassdoor.co.in/partner/jobListing.htm?pos=120&ao=1136043&s=58&guid=0000017bd654af989eee1fd7657b332b&src=GD_JOB_AD&t=SR&vt=w&uido=2FCAEF7CCDA717581F88B6B0C9DDCF66&ea=1&cs=1_401b6e5f&cb=1631388479654&jobListingId=1007254252559&jrtk=2-0-1ffb59btsn51b801-1ffb59buan5fv800-4a6ae5c940239506',\n",
       " 'https://www.glassdoor.co.in/partner/jobListing.htm?pos=121&ao=1136043&s=58&guid=0000017bd654af989eee1fd7657b332b&src=GD_JOB_AD&t=SR&vt=w&uido=2FCAEF7CCDA717581F88B6B0C9DDCF66&cs=1_2c37f51a&cb=1631388479653&jobListingId=1007245257958&jrtk=2-0-1ffb59btsn51b801-1ffb59buan5fv800-d0893868ee842eed',\n",
       " 'https://www.glassdoor.co.in/partner/jobListing.htm?pos=122&ao=1136043&s=58&guid=0000017bd654af989eee1fd7657b332b&src=GD_JOB_AD&t=SR&vt=w&uido=2FCAEF7CCDA717581F88B6B0C9DDCF66&cs=1_1ddb9699&cb=1631388479653&jobListingId=1007285326378&jrtk=2-0-1ffb59btsn51b801-1ffb59buan5fv800-9a104c32d9e70509',\n",
       " 'https://www.glassdoor.co.in/partner/jobListing.htm?pos=123&ao=1136043&s=58&guid=0000017bd654af989eee1fd7657b332b&src=GD_JOB_AD&t=SR&vt=w&uido=2FCAEF7CCDA717581F88B6B0C9DDCF66&cs=1_ad0ccd50&cb=1631388479654&jobListingId=1007230855102&jrtk=2-0-1ffb59btsn51b801-1ffb59buan5fv800-409b6a371f63d0fe',\n",
       " 'https://www.glassdoor.co.in/partner/jobListing.htm?pos=124&ao=1136043&s=58&guid=0000017bd654af989eee1fd7657b332b&src=GD_JOB_AD&t=SR&vt=w&uido=2FCAEF7CCDA717581F88B6B0C9DDCF66&cs=1_b2a0cbbd&cb=1631388479654&jobListingId=1007044567503&jrtk=2-0-1ffb59btsn51b801-1ffb59buan5fv800-5092deea13fb4f8b',\n",
       " 'https://www.glassdoor.co.in/partner/jobListing.htm?pos=125&ao=1136043&s=58&guid=0000017bd654af989eee1fd7657b332b&src=GD_JOB_AD&t=SR&vt=w&uido=2FCAEF7CCDA717581F88B6B0C9DDCF66&ea=1&cs=1_6ac3205a&cb=1631388479656&jobListingId=1007266328290&jrtk=2-0-1ffb59btsn51b801-1ffb59buan5fv800-eae3ece86db0d172',\n",
       " 'https://www.glassdoor.co.in/partner/jobListing.htm?pos=126&ao=1136043&s=58&guid=0000017bd654af989eee1fd7657b332b&src=GD_JOB_AD&t=SR&vt=w&uido=2FCAEF7CCDA717581F88B6B0C9DDCF66&cs=1_eea235ad&cb=1631388479655&jobListingId=1007290108300&jrtk=2-0-1ffb59btsn51b801-1ffb59buan5fv800-24c9e34f75a94d14',\n",
       " 'https://www.glassdoor.co.in/partner/jobListing.htm?pos=127&ao=1136043&s=58&guid=0000017bd654af989eee1fd7657b332b&src=GD_JOB_AD&t=SR&vt=w&uido=2FCAEF7CCDA717581F88B6B0C9DDCF66&cs=1_42ad35f4&cb=1631388479655&jobListingId=1007117935447&jrtk=2-0-1ffb59btsn51b801-1ffb59buan5fv800-614dc0248a6019b0',\n",
       " 'https://www.glassdoor.co.in/partner/jobListing.htm?pos=128&ao=1136043&s=58&guid=0000017bd654af989eee1fd7657b332b&src=GD_JOB_AD&t=SR&vt=w&uido=2FCAEF7CCDA717581F88B6B0C9DDCF66&cs=1_548eb1a3&cb=1631388479656&jobListingId=1007292216912&jrtk=2-0-1ffb59btsn51b801-1ffb59buan5fv800-9a26187856f229b6',\n",
       " 'https://www.glassdoor.co.in/partner/jobListing.htm?pos=129&ao=1136043&s=58&guid=0000017bd654af989eee1fd7657b332b&src=GD_JOB_AD&t=SR&vt=w&uido=2FCAEF7CCDA717581F88B6B0C9DDCF66&cs=1_6051239b&cb=1631388479656&jobListingId=1007242689151&jrtk=2-0-1ffb59btsn51b801-1ffb59buan5fv800-1312cf23d6d9b860',\n",
       " 'https://www.glassdoor.co.in/partner/jobListing.htm?pos=130&ao=1136043&s=58&guid=0000017bd654af989eee1fd7657b332b&src=GD_JOB_AD&t=SR&vt=w&uido=2FCAEF7CCDA717581F88B6B0C9DDCF66&cs=1_8004b36c&cb=1631388479656&jobListingId=1007265795300&jrtk=2-0-1ffb59btsn51b801-1ffb59buan5fv800-55b4094776efd84e']"
      ]
     },
     "execution_count": 15,
     "metadata": {},
     "output_type": "execute_result"
    }
   ],
   "source": [
    "urls=[]\n",
    "titles=driver.find_elements_by_xpath(\"//div[@class='d-flex justify-content-between align-items-start']//a\")\n",
    "for i in titles:\n",
    "    urls.append(i.get_attribute(\"href\"))\n",
    "urls    "
   ]
  },
  {
   "cell_type": "code",
   "execution_count": 16,
   "id": "b22e713a",
   "metadata": {},
   "outputs": [
    {
     "data": {
      "text/plain": [
       "['AlgoScale Technologies Private Limited',\n",
       " 'Liberin Technologies Private Limited',\n",
       " 'IBM\\n3.9\\n★',\n",
       " 'Salasar New Age Technologies',\n",
       " 'Noisy Lion\\n3.9\\n★',\n",
       " 'Techlive',\n",
       " 'Grail Insights\\n3.5\\n★',\n",
       " 'Grail Insights\\n3.5\\n★',\n",
       " 'Salasar New Age Technologies',\n",
       " 'Ishatva Management Solutions',\n",
       " 'limeroad.com',\n",
       " 'Newgen Software\\n3.3\\n★',\n",
       " 'Lenskart\\n3.6\\n★',\n",
       " 'Ericsson\\n4.1\\n★',\n",
       " 'SearchUrCollege',\n",
       " 'Crowe\\n3.8\\n★',\n",
       " 'Airtel India\\n3.8\\n★',\n",
       " 'Biz2Credit Inc\\n4.2\\n★',\n",
       " 'ING\\n4.0\\n★',\n",
       " 'Saishaa Services',\n",
       " 'NEC Opportunities',\n",
       " 'Genpact\\n3.8\\n★',\n",
       " 'CRMNEXT\\n3.7\\n★',\n",
       " 'Emerging India Group\\n2.4\\n★',\n",
       " 'Badatya Private Limited\\n4.5\\n★',\n",
       " 'OneAssist Consumer Solutions Private Limited\\n3.6\\n★',\n",
       " 'CSTEP\\n3.2\\n★',\n",
       " 'Monotype\\n3.9\\n★',\n",
       " 'Crypto Mize\\n5.0\\n★',\n",
       " 'McKinsey & Company\\n4.4\\n★']"
      ]
     },
     "execution_count": 16,
     "metadata": {},
     "output_type": "execute_result"
    }
   ],
   "source": [
    "comp_names=[]\n",
    "for i in urls:\n",
    "    driver.get(i)\n",
    "    try:\n",
    "        comp_name=driver.find_element_by_xpath(\"//div[@class='css-16nw49e e11nt52q1']\")\n",
    "        comp_names.append( comp_name.text)\n",
    "        \n",
    "    except NoSuchElementException  as e:\n",
    "        comp_names.append(\"_\")\n",
    "            \n",
    "comp_names      "
   ]
  },
  {
   "cell_type": "code",
   "execution_count": 17,
   "id": "d9f210ff",
   "metadata": {},
   "outputs": [
    {
     "name": "stdout",
     "output_type": "stream",
     "text": [
      "['AlgoScale Technologies Private Limited', 'Liberin Technologies Private Limited', 'IBM3.9★', 'Salasar New Age Technologies', 'Noisy Lion3.9★', 'Techlive', 'Grail Insights3.5★', 'Grail Insights3.5★', 'Salasar New Age Technologies', 'Ishatva Management Solutions', 'limeroad.com', 'Newgen Software3.3★', 'Lenskart3.6★', 'Ericsson4.1★', 'SearchUrCollege', 'Crowe3.8★', 'Airtel India3.8★', 'Biz2Credit Inc4.2★', 'ING4.0★', 'Saishaa Services', 'NEC Opportunities', 'Genpact3.8★', 'CRMNEXT3.7★', 'Emerging India Group2.4★', 'Badatya Private Limited4.5★', 'OneAssist Consumer Solutions Private Limited3.6★', 'CSTEP3.2★', 'Monotype3.9★', 'Crypto Mize5.0★', 'McKinsey & Company4.4★']\n"
     ]
    }
   ],
   "source": [
    "com_name=[]\n",
    "bad_chars = ['\\n', '★']\n",
    "for d in comp_names:\n",
    "        k= d.replace(bad_chars[0], '')\n",
    "        com_name.append(k)   \n",
    "print(str(com_name))    "
   ]
  },
  {
   "cell_type": "code",
   "execution_count": 18,
   "id": "abef8d21",
   "metadata": {},
   "outputs": [
    {
     "name": "stdout",
     "output_type": "stream",
     "text": [
      "['AlgoScale Technologies Private Limited', 'Liberin Technologies Private Limited', 'IBM3.9', 'Salasar New Age Technologies', 'Noisy Lion3.9', 'Techlive', 'Grail Insights3.5', 'Grail Insights3.5', 'Salasar New Age Technologies', 'Ishatva Management Solutions', 'limeroad.com', 'Newgen Software3.3', 'Lenskart3.6', 'Ericsson4.1', 'SearchUrCollege', 'Crowe3.8', 'Airtel India3.8', 'Biz2Credit Inc4.2', 'ING4.0', 'Saishaa Services', 'NEC Opportunities', 'Genpact3.8', 'CRMNEXT3.7', 'Emerging India Group2.4', 'Badatya Private Limited4.5', 'OneAssist Consumer Solutions Private Limited3.6', 'CSTEP3.2', 'Monotype3.9', 'Crypto Mize5.0', 'McKinsey & Company4.4']\n"
     ]
    }
   ],
   "source": [
    "c_name=[]\n",
    "bad_chars = ['\\n', '★']\n",
    "for p in com_name:\n",
    "        l= p.replace(bad_chars[1], '')\n",
    "        c_name.append(l)   \n",
    "print(str(c_name))    "
   ]
  },
  {
   "cell_type": "code",
   "execution_count": 19,
   "id": "0111abac",
   "metadata": {},
   "outputs": [
    {
     "data": {
      "text/plain": [
       "['AlgoScale Technologies Private Limited',\n",
       " 'Liberin Technologies Private Limited',\n",
       " 'IBM.',\n",
       " 'Salasar New Age Technologies',\n",
       " 'Noisy Lion.',\n",
       " 'Techlive',\n",
       " 'Grail Insights.',\n",
       " 'Grail Insights.',\n",
       " 'Salasar New Age Technologies',\n",
       " 'Ishatva Management Solutions',\n",
       " 'limeroad.com',\n",
       " 'Newgen Software.',\n",
       " 'Lenskart.',\n",
       " 'Ericsson.',\n",
       " 'SearchUrCollege',\n",
       " 'Crowe.',\n",
       " 'Airtel India.',\n",
       " 'BizCredit Inc.',\n",
       " 'ING.',\n",
       " 'Saishaa Services',\n",
       " 'NEC Opportunities',\n",
       " 'Genpact.',\n",
       " 'CRMNEXT.',\n",
       " 'Emerging India Group.',\n",
       " 'Badatya Private Limited.',\n",
       " 'OneAssist Consumer Solutions Private Limited.',\n",
       " 'CSTEP.',\n",
       " 'Monotype.',\n",
       " 'Crypto Mize.',\n",
       " 'McKinsey & Company.']"
      ]
     },
     "execution_count": 19,
     "metadata": {},
     "output_type": "execute_result"
    }
   ],
   "source": [
    "from string import digits\n",
    "company_names=[]\n",
    "for g in c_name:\n",
    "    remove_digits = str.maketrans('', '', digits)\n",
    "    res = g.translate(remove_digits)\n",
    "    company_names.append(res)\n",
    "\n",
    "company_names    "
   ]
  },
  {
   "cell_type": "code",
   "execution_count": 20,
   "id": "ec43999a",
   "metadata": {},
   "outputs": [
    {
     "data": {
      "text/plain": [
       "30"
      ]
     },
     "execution_count": 20,
     "metadata": {},
     "output_type": "execute_result"
    }
   ],
   "source": [
    "len(company_names)"
   ]
  },
  {
   "cell_type": "code",
   "execution_count": 21,
   "id": "8e5abe26",
   "metadata": {},
   "outputs": [
    {
     "data": {
      "text/plain": [
       "['_',\n",
       " '_',\n",
       " '3.9\\n★',\n",
       " '_',\n",
       " '3.9\\n★',\n",
       " '_',\n",
       " '3.5\\n★',\n",
       " '3.5\\n★',\n",
       " '_',\n",
       " '_',\n",
       " '_',\n",
       " '3.3\\n★',\n",
       " '3.6\\n★',\n",
       " '4.1\\n★',\n",
       " '_',\n",
       " '3.8\\n★',\n",
       " '3.8\\n★',\n",
       " '4.2\\n★',\n",
       " '4.0\\n★',\n",
       " '_',\n",
       " '_',\n",
       " '3.8\\n★',\n",
       " '3.7\\n★',\n",
       " '2.4\\n★',\n",
       " '4.5\\n★',\n",
       " '3.6\\n★',\n",
       " '3.2\\n★',\n",
       " '3.9\\n★',\n",
       " '5.0\\n★',\n",
       " '4.4\\n★']"
      ]
     },
     "execution_count": 21,
     "metadata": {},
     "output_type": "execute_result"
    }
   ],
   "source": [
    "Ratings=[]\n",
    "for t in urls:\n",
    "    driver.get(t)\n",
    "    try:\n",
    "        Rating =driver.find_element_by_xpath(\"//span[@class='css-1pmc6te e11nt52q4']\")\n",
    "        Ratings.append(Rating.text)\n",
    "        \n",
    "    except NoSuchElementException  as e:\n",
    "        Ratings.append(\"_\")\n",
    "Ratings        "
   ]
  },
  {
   "cell_type": "code",
   "execution_count": 22,
   "id": "6c1f4dc2",
   "metadata": {},
   "outputs": [
    {
     "data": {
      "text/plain": [
       "['No Rating Given',\n",
       " 'No Rating Given',\n",
       " '3.9\\n★',\n",
       " 'No Rating Given',\n",
       " '3.9\\n★',\n",
       " 'No Rating Given',\n",
       " '3.5\\n★',\n",
       " '3.5\\n★',\n",
       " 'No Rating Given',\n",
       " 'No Rating Given',\n",
       " 'No Rating Given',\n",
       " '3.3\\n★',\n",
       " '3.6\\n★',\n",
       " '4.1\\n★',\n",
       " 'No Rating Given',\n",
       " '3.8\\n★',\n",
       " '3.8\\n★',\n",
       " '4.2\\n★',\n",
       " '4.0\\n★',\n",
       " 'No Rating Given',\n",
       " 'No Rating Given',\n",
       " '3.8\\n★',\n",
       " '3.7\\n★',\n",
       " '2.4\\n★',\n",
       " '4.5\\n★',\n",
       " '3.6\\n★',\n",
       " '3.2\\n★',\n",
       " '3.9\\n★',\n",
       " '5.0\\n★',\n",
       " '4.4\\n★']"
      ]
     },
     "execution_count": 22,
     "metadata": {},
     "output_type": "execute_result"
    }
   ],
   "source": [
    "for r in range(len(Ratings)):\n",
    "    if Ratings[r]==\"_\":\n",
    "        Ratings[r]=\"No Rating Given\"\n",
    "Ratings        "
   ]
  },
  {
   "cell_type": "code",
   "execution_count": 23,
   "id": "c88d7cfe",
   "metadata": {},
   "outputs": [
    {
     "name": "stdout",
     "output_type": "stream",
     "text": [
      "['No Rating Given', 'No Rating Given', '3.9★', 'No Rating Given', '3.9★', 'No Rating Given', '3.5★', '3.5★', 'No Rating Given', 'No Rating Given', 'No Rating Given', '3.3★', '3.6★', '4.1★', 'No Rating Given', '3.8★', '3.8★', '4.2★', '4.0★', 'No Rating Given', 'No Rating Given', '3.8★', '3.7★', '2.4★', '4.5★', '3.6★', '3.2★', '3.9★', '5.0★', '4.4★']\n"
     ]
    }
   ],
   "source": [
    "sorted_rating=[]\n",
    "bad_charss = ['\\n', '★']\n",
    "for w in Ratings:\n",
    "        t= w.replace(bad_charss[0], '')\n",
    "        sorted_rating.append(t)   \n",
    "print(str(sorted_rating))   "
   ]
  },
  {
   "cell_type": "code",
   "execution_count": 25,
   "id": "8ad51135",
   "metadata": {},
   "outputs": [
    {
     "name": "stdout",
     "output_type": "stream",
     "text": [
      "length of list scraped are equal\n"
     ]
    }
   ],
   "source": [
    "if len(company_names)==len(days_ago)==len(sorted_rating):\n",
    "    print(\"length of list scraped are equal\")\n",
    "else:\n",
    "    print(\"length of list scraped are not equal\")"
   ]
  },
  {
   "cell_type": "code",
   "execution_count": 26,
   "id": "88c3f325",
   "metadata": {},
   "outputs": [
    {
     "data": {
      "text/plain": [
       "[1,\n",
       " 2,\n",
       " 3,\n",
       " 4,\n",
       " 5,\n",
       " 6,\n",
       " 7,\n",
       " 8,\n",
       " 9,\n",
       " 10,\n",
       " 11,\n",
       " 12,\n",
       " 13,\n",
       " 14,\n",
       " 15,\n",
       " 16,\n",
       " 17,\n",
       " 18,\n",
       " 19,\n",
       " 20,\n",
       " 21,\n",
       " 22,\n",
       " 23,\n",
       " 24,\n",
       " 25,\n",
       " 26,\n",
       " 27,\n",
       " 28,\n",
       " 29,\n",
       " 30]"
      ]
     },
     "execution_count": 26,
     "metadata": {},
     "output_type": "execute_result"
    }
   ],
   "source": [
    "Nos=[]\n",
    "for i in range(1,len(company_names)+1):\n",
    "    Nos.append(i)\n",
    "Nos    "
   ]
  },
  {
   "cell_type": "code",
   "execution_count": 28,
   "id": "83676f61",
   "metadata": {},
   "outputs": [
    {
     "data": {
      "text/html": [
       "<style  type=\"text/css\" >\n",
       "</style><table id=\"T_41652_\" ><thead>    <tr>        <th class=\"col_heading level0 col0\" >Nos</th>        <th class=\"col_heading level0 col1\" >Company Names</th>        <th class=\"col_heading level0 col2\" >Days_ago_posted</th>        <th class=\"col_heading level0 col3\" >Rating of company</th>    </tr></thead><tbody>\n",
       "                <tr>\n",
       "                                <td id=\"T_41652_row0_col0\" class=\"data row0 col0\" >1</td>\n",
       "                        <td id=\"T_41652_row0_col1\" class=\"data row0 col1\" >AlgoScale Technologies Private Limited</td>\n",
       "                        <td id=\"T_41652_row0_col2\" class=\"data row0 col2\" >17d</td>\n",
       "                        <td id=\"T_41652_row0_col3\" class=\"data row0 col3\" >No Rating Given</td>\n",
       "            </tr>\n",
       "            <tr>\n",
       "                                <td id=\"T_41652_row1_col0\" class=\"data row1 col0\" >2</td>\n",
       "                        <td id=\"T_41652_row1_col1\" class=\"data row1 col1\" >Liberin Technologies Private Limited</td>\n",
       "                        <td id=\"T_41652_row1_col2\" class=\"data row1 col2\" >30d+</td>\n",
       "                        <td id=\"T_41652_row1_col3\" class=\"data row1 col3\" >No Rating Given</td>\n",
       "            </tr>\n",
       "            <tr>\n",
       "                                <td id=\"T_41652_row2_col0\" class=\"data row2 col0\" >3</td>\n",
       "                        <td id=\"T_41652_row2_col1\" class=\"data row2 col1\" >IBM.</td>\n",
       "                        <td id=\"T_41652_row2_col2\" class=\"data row2 col2\" >24h</td>\n",
       "                        <td id=\"T_41652_row2_col3\" class=\"data row2 col3\" >3.9★</td>\n",
       "            </tr>\n",
       "            <tr>\n",
       "                                <td id=\"T_41652_row3_col0\" class=\"data row3 col0\" >4</td>\n",
       "                        <td id=\"T_41652_row3_col1\" class=\"data row3 col1\" >Salasar New Age Technologies</td>\n",
       "                        <td id=\"T_41652_row3_col2\" class=\"data row3 col2\" >30d+</td>\n",
       "                        <td id=\"T_41652_row3_col3\" class=\"data row3 col3\" >No Rating Given</td>\n",
       "            </tr>\n",
       "            <tr>\n",
       "                                <td id=\"T_41652_row4_col0\" class=\"data row4 col0\" >5</td>\n",
       "                        <td id=\"T_41652_row4_col1\" class=\"data row4 col1\" >Noisy Lion.</td>\n",
       "                        <td id=\"T_41652_row4_col2\" class=\"data row4 col2\" >2d</td>\n",
       "                        <td id=\"T_41652_row4_col3\" class=\"data row4 col3\" >3.9★</td>\n",
       "            </tr>\n",
       "            <tr>\n",
       "                                <td id=\"T_41652_row5_col0\" class=\"data row5 col0\" >6</td>\n",
       "                        <td id=\"T_41652_row5_col1\" class=\"data row5 col1\" >Techlive</td>\n",
       "                        <td id=\"T_41652_row5_col2\" class=\"data row5 col2\" >30d+</td>\n",
       "                        <td id=\"T_41652_row5_col3\" class=\"data row5 col3\" >No Rating Given</td>\n",
       "            </tr>\n",
       "            <tr>\n",
       "                                <td id=\"T_41652_row6_col0\" class=\"data row6 col0\" >7</td>\n",
       "                        <td id=\"T_41652_row6_col1\" class=\"data row6 col1\" >Grail Insights.</td>\n",
       "                        <td id=\"T_41652_row6_col2\" class=\"data row6 col2\" >3d</td>\n",
       "                        <td id=\"T_41652_row6_col3\" class=\"data row6 col3\" >3.5★</td>\n",
       "            </tr>\n",
       "            <tr>\n",
       "                                <td id=\"T_41652_row7_col0\" class=\"data row7 col0\" >8</td>\n",
       "                        <td id=\"T_41652_row7_col1\" class=\"data row7 col1\" >Grail Insights.</td>\n",
       "                        <td id=\"T_41652_row7_col2\" class=\"data row7 col2\" >3d</td>\n",
       "                        <td id=\"T_41652_row7_col3\" class=\"data row7 col3\" >3.5★</td>\n",
       "            </tr>\n",
       "            <tr>\n",
       "                                <td id=\"T_41652_row8_col0\" class=\"data row8 col0\" >9</td>\n",
       "                        <td id=\"T_41652_row8_col1\" class=\"data row8 col1\" >Salasar New Age Technologies</td>\n",
       "                        <td id=\"T_41652_row8_col2\" class=\"data row8 col2\" >30d+</td>\n",
       "                        <td id=\"T_41652_row8_col3\" class=\"data row8 col3\" >No Rating Given</td>\n",
       "            </tr>\n",
       "            <tr>\n",
       "                                <td id=\"T_41652_row9_col0\" class=\"data row9 col0\" >10</td>\n",
       "                        <td id=\"T_41652_row9_col1\" class=\"data row9 col1\" >Ishatva Management Solutions</td>\n",
       "                        <td id=\"T_41652_row9_col2\" class=\"data row9 col2\" >12d</td>\n",
       "                        <td id=\"T_41652_row9_col3\" class=\"data row9 col3\" >No Rating Given</td>\n",
       "            </tr>\n",
       "    </tbody></table>"
      ],
      "text/plain": [
       "<pandas.io.formats.style.Styler at 0x259601345e0>"
      ]
     },
     "execution_count": 28,
     "metadata": {},
     "output_type": "execute_result"
    }
   ],
   "source": [
    "import pandas as pd\n",
    "Glassdoor=pd.DataFrame({})\n",
    "Glassdoor['Nos']=Nos[:10]\n",
    "Glassdoor['Company Names']=company_names[:10]\n",
    "Glassdoor['Days_ago_posted']=days_ago[:10]\n",
    "Glassdoor['Rating of company']=sorted_rating[:10]\n",
    "Glassdoor.style.hide_index()"
   ]
  },
  {
   "cell_type": "markdown",
   "id": "1fedd947",
   "metadata": {},
   "source": [
    "These are the first 10 jobs results from the Jobdetails we scrapped from GlassDoor"
   ]
  }
 ],
 "metadata": {
  "kernelspec": {
   "display_name": "Python 3",
   "language": "python",
   "name": "python3"
  },
  "language_info": {
   "codemirror_mode": {
    "name": "ipython",
    "version": 3
   },
   "file_extension": ".py",
   "mimetype": "text/x-python",
   "name": "python",
   "nbconvert_exporter": "python",
   "pygments_lexer": "ipython3",
   "version": "3.8.8"
  }
 },
 "nbformat": 4,
 "nbformat_minor": 5
}
