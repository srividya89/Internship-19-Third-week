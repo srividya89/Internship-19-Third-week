{
 "cells": [
  {
   "cell_type": "markdown",
   "id": "450f5b0c",
   "metadata": {},
   "source": [
    "!pip install selenium\n",
    "!pip install undetected-chromedriver\n",
    "     \n",
    "import undetected_chromedriver.v2 as uc\n",
    "import time\n",
    "import warnings\n",
    "warnings.filterwarnings('ignore')"
   ]
  },
  {
   "cell_type": "code",
   "execution_count": 25,
   "id": "800b7d03",
   "metadata": {},
   "outputs": [],
   "source": [
    "import selenium\n",
    "import pandas as pd\n",
    "from selenium import webdriver \n",
    "from selenium.common.exceptions import  StaleElementReferenceException\n",
    "from selenium.common.exceptions import  NoSuchElementException,NoSuchWindowException\n",
    "\n",
    "\n"
   ]
  },
  {
   "cell_type": "code",
   "execution_count": 26,
   "id": "b033defd",
   "metadata": {},
   "outputs": [],
   "source": [
    "driver = uc.Chrome()\n",
    "with driver:\n",
    "    driver.get(r\"C:\\Users\\Srividya\\Downloads\\undetected-chromedriver-3.0.3.tar.gz\")\n"
   ]
  },
  {
   "cell_type": "code",
   "execution_count": 27,
   "id": "22aa7a37",
   "metadata": {},
   "outputs": [],
   "source": [
    "url=\"https://www.naukri.com/\"\n",
    "driver.get(url)"
   ]
  },
  {
   "cell_type": "code",
   "execution_count": 28,
   "id": "63699774",
   "metadata": {},
   "outputs": [
    {
     "data": {
      "text/plain": [
       "<selenium.webdriver.remote.webelement.WebElement (session=\"b48f6cfaa66fc4ba0b77cfd27383fe62\", element=\"2c5f5e2e-127f-41cc-bbb1-b347055cce86\")>"
      ]
     },
     "execution_count": 28,
     "metadata": {},
     "output_type": "execute_result"
    }
   ],
   "source": [
    "search_job=driver.find_element_by_xpath(\"//input[@class='sugInp']\")\n"
   ]
  },
  {
   "cell_type": "code",
   "execution_count": 29,
   "id": "2c699929",
   "metadata": {},
   "outputs": [],
   "source": [
    "search_job.send_keys(\"Data Scientist\")"
   ]
  },
  {
   "cell_type": "code",
   "execution_count": 30,
   "id": "a9a3f68d",
   "metadata": {},
   "outputs": [
    {
     "data": {
      "text/plain": [
       "<selenium.webdriver.remote.webelement.WebElement (session=\"b48f6cfaa66fc4ba0b77cfd27383fe62\", element=\"427a6ddc-5d3b-4438-9e51-81f483f1e1d3\")>"
      ]
     },
     "execution_count": 30,
     "metadata": {},
     "output_type": "execute_result"
    }
   ],
   "source": [
    "search_loc=driver.find_element_by_xpath(\"//input[@name='location']\")\n",
    "search_loc"
   ]
  },
  {
   "cell_type": "code",
   "execution_count": 31,
   "id": "d77a1cd0",
   "metadata": {},
   "outputs": [],
   "source": [
    "search_loc.send_keys(\"Bangalore\")"
   ]
  },
  {
   "cell_type": "code",
   "execution_count": 32,
   "id": "6409c0a2",
   "metadata": {},
   "outputs": [],
   "source": [
    "time.sleep(1)"
   ]
  },
  {
   "cell_type": "code",
   "execution_count": 33,
   "id": "ba26f022",
   "metadata": {},
   "outputs": [],
   "source": [
    "search_btn=driver.find_element_by_xpath(\"//div[@class='search-btn']\")"
   ]
  },
  {
   "cell_type": "code",
   "execution_count": 34,
   "id": "78e7f456",
   "metadata": {},
   "outputs": [],
   "source": [
    "search_btn.click()"
   ]
  },
  {
   "cell_type": "code",
   "execution_count": 35,
   "id": "9b65caf4",
   "metadata": {},
   "outputs": [
    {
     "data": {
      "text/plain": [
       "['https://www.naukri.com/job-listings-senior-data-scientist-walmart-labs-bangalore-bengaluru-6-to-10-years-090921501063?src=jobsearchDesk&sid=16313131260712847&xp=1&px=1',\n",
       " 'https://www.naukri.com/job-listings-senior-data-scientist-in4-walmart-labs-bangalore-bengaluru-7-to-10-years-090921501064?src=jobsearchDesk&sid=16313131260712847&xp=2&px=1',\n",
       " 'https://www.naukri.com/job-listings-senior-data-scientist-marketplace-walmart-labs-bangalore-bengaluru-4-to-8-years-090921500549?src=jobsearchDesk&sid=16313131260712847&xp=3&px=1',\n",
       " 'https://www.naukri.com/job-listings-hiring-for-manager-and-sr-manager-data-scientist-vision-beyond-resources-india-private-limited-noida-mumbai-new-delhi-gurgaon-gurugram-bangalore-bengaluru-8-to-13-years-090921005986?src=jobsearchDesk&sid=16313131260712847&xp=4&px=1',\n",
       " 'https://www.naukri.com/job-listings-requirement-for-data-scientist-mumbai-bangalore-crisil-limited-bangalore-bengaluru-mumbai-all-areas-2-to-6-years-080921005523?src=jobsearchDesk&sid=16313131260712847&xp=5&px=1',\n",
       " 'https://www.naukri.com/job-listings-hiring-for-data-scientist-statistical-analyst-manpowergroup-services-india-private-limited-bangalore-bengaluru-2-to-4-years-080921011029?src=jobsearchDesk&sid=16313131260712847&xp=6&px=1',\n",
       " 'https://www.naukri.com/job-listings-lead-data-scientist-bfsi-ibm-india-pvt-limited-bengaluru-bangalore-5-to-9-years-070921901691?src=jobsearchDesk&sid=16313131260712847&xp=7&px=1',\n",
       " 'https://www.naukri.com/job-listings-associate-data-scientist-philips-india-limited-bangalore-bengaluru-3-to-5-years-060921501985?src=jobsearchDesk&sid=16313131260712847&xp=8&px=1',\n",
       " 'https://www.naukri.com/job-listings-data-scientist-in3-walmart-labs-bangalore-bengaluru-3-to-6-years-090921500592?src=jobsearchDesk&sid=16313131260712847&xp=9&px=1',\n",
       " 'https://www.naukri.com/job-listings-principal-data-scientist-adtech-walmart-labs-bangalore-bengaluru-10-to-14-years-090921500574?src=jobsearchDesk&sid=16313131260712847&xp=10&px=1',\n",
       " 'https://www.naukri.com/job-listings-principal-data-scientist-mint-walmart-labs-bangalore-bengaluru-15-to-18-years-090921500497?src=jobsearchDesk&sid=16313131260712847&xp=11&px=1',\n",
       " 'https://www.naukri.com/job-listings-data-scientist-ihs-markit-bangalore-bengaluru-3-to-6-years-100921500999?src=jobsearchDesk&sid=16313131260712847&xp=12&px=1',\n",
       " 'https://www.naukri.com/job-listings-data-scientist-3-western-digital-bangalore-bengaluru-6-to-9-years-100921501898?src=jobsearchDesk&sid=16313131260712847&xp=13&px=1',\n",
       " 'https://www.naukri.com/job-listings-data-scientist-bloom-consulting-services-inc-bangalore-bengaluru-united-states-usa-5-to-8-years-100921500172?src=jobsearchDesk&sid=16313131260712847&xp=14&px=1',\n",
       " 'https://www.naukri.com/job-listings-data-scientist-walmart-labs-bangalore-bengaluru-4-to-8-years-090921501041?src=jobsearchDesk&sid=16313131260712847&xp=15&px=1',\n",
       " 'https://www.naukri.com/job-listings-data-scientist-neenopal-intelligent-solutions-private-limited-bangalore-bengaluru-2-to-5-years-080921006998?src=jobsearchDesk&sid=16313131260712847&xp=16&px=1',\n",
       " 'https://www.naukri.com/job-listings-data-scientist-prescience-decision-solutions-private-limited-bangalore-bengaluru-5-to-10-years-080921005624?src=jobsearchDesk&sid=16313131260712847&xp=17&px=1',\n",
       " 'https://www.naukri.com/job-listings-feasibility-data-scientist-icon-clinical-research-india-private-limited-bangalore-bengaluru-3-to-8-years-090921501313?src=jobsearchDesk&sid=16313131260712847&xp=18&px=1',\n",
       " 'https://www.naukri.com/job-listings-data-scientist-4-western-digital-bangalore-bengaluru-2-to-4-years-100921501899?src=jobsearchDesk&sid=16313131260712847&xp=19&px=1',\n",
       " 'https://www.naukri.com/job-listings-data-scientist-walmart-labs-bangalore-bengaluru-4-to-8-years-090921501042?src=jobsearchDesk&sid=16313131260712847&xp=20&px=1']"
      ]
     },
     "execution_count": 35,
     "metadata": {},
     "output_type": "execute_result"
    }
   ],
   "source": [
    "urls=[]\n",
    "titles=driver.find_elements_by_xpath(\"//a[@class='title fw500 ellipsis']\")\n",
    "for i in titles:\n",
    "    urls.append(i.get_attribute(\"href\"))\n",
    "urls    "
   ]
  },
  {
   "cell_type": "code",
   "execution_count": 36,
   "id": "b22e713a",
   "metadata": {},
   "outputs": [
    {
     "data": {
      "text/plain": [
       "['Senior Data Scientist',\n",
       " 'Senior Data Scientist IN4',\n",
       " 'Senior Data Scientist (Marketplace)',\n",
       " 'Hiring For Manager and Sr. Manager | Data Scientist',\n",
       " 'Requirement For Data Scientist - Mumbai & Bangalore',\n",
       " 'Hiring For Data Scientist / Statistical Analyst',\n",
       " '_',\n",
       " 'Associate Data Scientist',\n",
       " 'Data Scientist - IN3',\n",
       " 'Principal Data Scientist - AdTech',\n",
       " 'Principal Data Scientist (MINT)',\n",
       " 'Data Scientist',\n",
       " 'Data Scientist 3',\n",
       " 'Data scientist',\n",
       " 'Data Scientist',\n",
       " 'Data Scientist',\n",
       " 'Data Scientist',\n",
       " 'Feasibility Data Scientist',\n",
       " 'Data Scientist 4',\n",
       " 'Data Scientist']"
      ]
     },
     "execution_count": 36,
     "metadata": {},
     "output_type": "execute_result"
    }
   ],
   "source": [
    "job_titles=[]\n",
    "for i in urls:\n",
    "    driver.get(i)\n",
    "    try:\n",
    "        job_title=driver.find_element_by_xpath(\"//h1[@class='jd-header-title']\")\n",
    "        job_titles.append( job_title.text)\n",
    "    \n",
    "    except NoSuchElementException  as e:\n",
    "        job_titles.append(\"_\")\n",
    "            \n",
    "job_titles      \n",
    "     "
   ]
  },
  {
   "cell_type": "code",
   "execution_count": 37,
   "id": "613312ee",
   "metadata": {},
   "outputs": [
    {
     "data": {
      "text/plain": [
       "['Senior Data Scientist',\n",
       " 'Senior Data Scientist IN4',\n",
       " 'Senior Data Scientist (Marketplace)',\n",
       " 'Hiring For Manager and Sr. Manager | Data Scientist',\n",
       " 'Requirement For Data Scientist - Mumbai & Bangalore',\n",
       " 'Hiring For Data Scientist / Statistical Analyst',\n",
       " 'Associate Data Scientist',\n",
       " 'Data Scientist - IN3',\n",
       " 'Principal Data Scientist - AdTech',\n",
       " 'Principal Data Scientist (MINT)',\n",
       " 'Data Scientist',\n",
       " 'Data Scientist 3',\n",
       " 'Data scientist',\n",
       " 'Data Scientist',\n",
       " 'Data Scientist',\n",
       " 'Data Scientist',\n",
       " 'Feasibility Data Scientist',\n",
       " 'Data Scientist 4',\n",
       " 'Data Scientist']"
      ]
     },
     "execution_count": 37,
     "metadata": {},
     "output_type": "execute_result"
    }
   ],
   "source": [
    "job_titles.remove(job_titles[6]) \n",
    "job_titles "
   ]
  },
  {
   "cell_type": "code",
   "execution_count": 47,
   "id": "51f2f998",
   "metadata": {},
   "outputs": [
    {
     "data": {
      "text/plain": [
       "['Senior Data Scientist',\n",
       " 'Senior Data Scientist IN4',\n",
       " 'Senior Data Scientist (Marketplace)',\n",
       " 'Hiring For Manager and Sr. Manager | Data Scientist',\n",
       " 'Requirement For Data Scientist - Mumbai & Bangalore',\n",
       " 'Hiring For Data Scientist / Statistical Analyst',\n",
       " 'Associate Data Scientist',\n",
       " 'Data Scientist - IN3',\n",
       " 'Principal Data Scientist - AdTech',\n",
       " 'Principal Data Scientist (MINT)',\n",
       " 'Data Scientist',\n",
       " 'Data Scientist 3',\n",
       " 'Data scientist',\n",
       " 'Data Scientist',\n",
       " 'Data Scientist',\n",
       " 'Data Scientist',\n",
       " 'Feasibility Data Scientist',\n",
       " 'Data Scientist 4']"
      ]
     },
     "execution_count": 47,
     "metadata": {},
     "output_type": "execute_result"
    }
   ],
   "source": [
    "job_titles.pop()\n",
    "job_titles"
   ]
  },
  {
   "cell_type": "code",
   "execution_count": 38,
   "id": "1a044ed9",
   "metadata": {},
   "outputs": [
    {
     "data": {
      "text/plain": [
       "['Bangalore/Bengaluru',\n",
       " 'Bangalore/Bengaluru',\n",
       " 'Bangalore/Bengaluru',\n",
       " 'Noida',\n",
       " 'Bangalore/Bengaluru',\n",
       " 'Bangalore/Bengaluru',\n",
       " '_',\n",
       " 'Bangalore/Bengaluru',\n",
       " 'Bangalore/Bengaluru',\n",
       " 'Bangalore/Bengaluru',\n",
       " 'Bangalore/Bengaluru',\n",
       " 'Bangalore/Bengaluru',\n",
       " 'Bangalore/Bengaluru',\n",
       " 'United States (USA)',\n",
       " 'Bangalore/Bengaluru',\n",
       " 'Bangalore/Bengaluru',\n",
       " 'Bangalore/Bengaluru',\n",
       " 'Bangalore/Bengaluru',\n",
       " 'Bangalore/Bengaluru',\n",
       " 'Bangalore/Bengaluru']"
      ]
     },
     "execution_count": 38,
     "metadata": {},
     "output_type": "execute_result"
    }
   ],
   "source": [
    "job_locations=[]\n",
    "for i in urls:\n",
    "    driver.get(i)\n",
    "    try:\n",
    "        job_location =driver.find_element_by_xpath(\"//div[@class='loc']//a\")\n",
    "        job_locations.append(job_location.text)\n",
    "        \n",
    "    except NoSuchElementException  as e:\n",
    "        job_locations.append(\"_\")\n",
    "\n",
    "job_locations "
   ]
  },
  {
   "cell_type": "code",
   "execution_count": 39,
   "id": "8e5abe26",
   "metadata": {},
   "outputs": [
    {
     "data": {
      "text/plain": [
       "['Bangalore/Bengaluru',\n",
       " 'Bangalore/Bengaluru',\n",
       " 'Bangalore/Bengaluru',\n",
       " 'Noida',\n",
       " 'Bangalore/Bengaluru',\n",
       " 'Bangalore/Bengaluru',\n",
       " 'Bangalore/Bengaluru',\n",
       " 'Bangalore/Bengaluru',\n",
       " 'Bangalore/Bengaluru',\n",
       " 'Bangalore/Bengaluru',\n",
       " 'Bangalore/Bengaluru',\n",
       " 'Bangalore/Bengaluru',\n",
       " 'United States (USA)',\n",
       " 'Bangalore/Bengaluru',\n",
       " 'Bangalore/Bengaluru',\n",
       " 'Bangalore/Bengaluru',\n",
       " 'Bangalore/Bengaluru',\n",
       " 'Bangalore/Bengaluru',\n",
       " 'Bangalore/Bengaluru']"
      ]
     },
     "execution_count": 39,
     "metadata": {},
     "output_type": "execute_result"
    }
   ],
   "source": [
    "job_locations.remove(job_locations[6]) \n",
    "job_locations"
   ]
  },
  {
   "cell_type": "code",
   "execution_count": 48,
   "id": "ba3cf25c",
   "metadata": {},
   "outputs": [
    {
     "data": {
      "text/plain": [
       "['Bangalore/Bengaluru',\n",
       " 'Bangalore/Bengaluru',\n",
       " 'Bangalore/Bengaluru',\n",
       " 'Noida',\n",
       " 'Bangalore/Bengaluru',\n",
       " 'Bangalore/Bengaluru',\n",
       " 'Bangalore/Bengaluru',\n",
       " 'Bangalore/Bengaluru',\n",
       " 'Bangalore/Bengaluru',\n",
       " 'Bangalore/Bengaluru',\n",
       " 'Bangalore/Bengaluru',\n",
       " 'Bangalore/Bengaluru',\n",
       " 'United States (USA)',\n",
       " 'Bangalore/Bengaluru',\n",
       " 'Bangalore/Bengaluru',\n",
       " 'Bangalore/Bengaluru',\n",
       " 'Bangalore/Bengaluru',\n",
       " 'Bangalore/Bengaluru']"
      ]
     },
     "execution_count": 48,
     "metadata": {},
     "output_type": "execute_result"
    }
   ],
   "source": [
    "job_locations.pop()\n",
    "job_locations "
   ]
  },
  {
   "cell_type": "code",
   "execution_count": 40,
   "id": "010d22d9",
   "metadata": {},
   "outputs": [
    {
     "data": {
      "text/plain": [
       "['Walmart Labs',\n",
       " 'Walmart Labs',\n",
       " 'Walmart Labs',\n",
       " 'Vision Beyond Resources India Private Limited',\n",
       " 'CRISIL LIMITED',\n",
       " 'ManpowerGroup Services India Private Limited',\n",
       " '_',\n",
       " 'Philips India Limited',\n",
       " 'Walmart Labs',\n",
       " 'Walmart Labs',\n",
       " 'Walmart Labs',\n",
       " 'IHS Markit',\n",
       " 'Western Digital',\n",
       " 'Bloom Consulting Services, Inc.',\n",
       " 'Walmart Labs',\n",
       " 'NeenOpal Intelligent Solutions Private Limited',\n",
       " 'PRESCIENCE DECISION SOLUTIONS PRIVATE LIMITED',\n",
       " 'Icon Clinical Research India Private Limited',\n",
       " 'Western Digital',\n",
       " '_']"
      ]
     },
     "execution_count": 40,
     "metadata": {},
     "output_type": "execute_result"
    }
   ],
   "source": [
    "com_names=[]\n",
    "for i in urls:\n",
    "    driver.get(i)\n",
    "    try:\n",
    "        com_name =driver.find_element_by_xpath(\"//a[@class='pad-rt-8']\")\n",
    "        com_names.append( com_name.text)\n",
    "        \n",
    "    except NoSuchElementException  as e:\n",
    "        com_names.append(\"_\")\n",
    "com_names   "
   ]
  },
  {
   "cell_type": "code",
   "execution_count": 41,
   "id": "cf632498",
   "metadata": {},
   "outputs": [],
   "source": [
    "com_names.remove(com_names[6]) "
   ]
  },
  {
   "cell_type": "code",
   "execution_count": 42,
   "id": "0f99bcbf",
   "metadata": {},
   "outputs": [
    {
     "data": {
      "text/plain": [
       "['Walmart Labs',\n",
       " 'Walmart Labs',\n",
       " 'Walmart Labs',\n",
       " 'Vision Beyond Resources India Private Limited',\n",
       " 'CRISIL LIMITED',\n",
       " 'ManpowerGroup Services India Private Limited',\n",
       " 'Philips India Limited',\n",
       " 'Walmart Labs',\n",
       " 'Walmart Labs',\n",
       " 'Walmart Labs',\n",
       " 'IHS Markit',\n",
       " 'Western Digital',\n",
       " 'Bloom Consulting Services, Inc.',\n",
       " 'Walmart Labs',\n",
       " 'NeenOpal Intelligent Solutions Private Limited',\n",
       " 'PRESCIENCE DECISION SOLUTIONS PRIVATE LIMITED',\n",
       " 'Icon Clinical Research India Private Limited',\n",
       " 'Western Digital']"
      ]
     },
     "execution_count": 42,
     "metadata": {},
     "output_type": "execute_result"
    }
   ],
   "source": [
    "com_names.remove(com_names[18])   \n",
    "com_names"
   ]
  },
  {
   "cell_type": "code",
   "execution_count": 45,
   "id": "f46514c4",
   "metadata": {},
   "outputs": [
    {
     "data": {
      "text/plain": [
       "['Job description\\nAs a Senior Data Scientist for Walmart, you ll have the opportunity to:\\nDrive data-derived insights across a wide range of divisions by developing advanced statistical models, machine learning algorithms and computational algorithms based on business initiatives\\nDirect the gathering of data, assessing data validity and synthesizing data into large analytics datasets to support project goals\\nUtilize big data analytics and advanced data science techniques to identify trends, patterns, and discrepancies in data. Determine additional data needed to support insights\\nBuild and train statistical models and machine learning algorithms\\nApply your semantic, natural language processing and understanding expertise where required\\nUse deep learning and image recognition project goals\\nComputer Vision will be an important focus area for this role\\nProductionize the models and make those available at scale\\nBuild and maintain end to end Machine Learning pipelines\\nBe comfortable with ambiguity and uncertainty and the eagerness to change the world in a huge way by being a self-motivated learner and builder\\nCommunicate recommendations to business partners and influencing future plans based on insights\\nYour Responsibility\\nPlay a key role to solve complex problems, pivotal to Walmart s business and drive actionable insights from petabytes of data\\nUtilize product mindset to build, scale and deploy holistic data science products after successful prototyping\\nDemonstrate incremental solution approach with agile and flexible ability to overcome practical problems\\nPartner with senior team members to assess customer needs and define business questions\\nClearly articulate and present recommendations to business partners, and influence future plans based on insights\\nWork with customer centric mindset to deliver high quality business driven analytic solution\\nDrive innovation in approach, method, practices, process, outcome, delivery, or any component of end-to-end problem solving\\nDemonstrates up-to-date expertise and applies this to the development, execution, and improvement of action plans\\nPreferred Qualifications\\nBachelors degree in Statistics, Mathematics, Computer Science or a related field and 8 years experience in an analytics/DS related field, or,\\nMasters degree in Statistics, Mathematics, Computer Science or a related field and 6 years experience in an analytics/DS related field.\\nHigh proficiency in data mining, modeling, validation and insight generation.\\nExcellent working knowledge of statistics, mathematics, machine learning, data mining, deep learning\\nHigh proficiency in coding including Python and SQL\\nExperience with databases (for example, DB2, Oracle, SQL Server)\\nExperience with Big Data technologies such as Pig, Hive and/or Spark\\nAbility to work with large data sets. Has sound understanding of big data technology stack\\nUnderstanding of cloud computing platforms and large-scale databases\\nProven ability to collaborate and work in teams\\nExcellent with communications and stakeholder engagement\\nData science publications in recognized platforms/journals\\nProven ability to work in agile mode on data science sprint projects\\nRoleDatabase Architect/Designer\\nIndustry TypeIT Services & Consulting\\nFunctional AreaIT Software - DBA, Datawarehousing\\nEmployment TypeFull Time, Permanent\\nRole CategoryProgramming & Design\\nEducation\\nUG :Any Graduate\\nPG :Any Postgraduate\\nKey Skills\\nProcurementComputer scienceCloud computingData analysisdata scienceDb2CodingAgileData miningPython',\n",
       " 'Job description\\nDesign, coordinate, and implement data driven business and technology solutions to support innovation initiatives\\nCommunicate complex models, analysis and recommendations in a clear and precise manner\\nProvide thought leadership in statistical modeling and machine learning/ AI. NLP and Deep Learning are the two focus areas\\nDeliver actionable insights to stakeholders through rich visualization and presentation\\nManage priorities between research and deliverables effectively\\nCollaborate actively with topic owners to understand and develop advanced analytics / data science\\nYour Qualifications\\nBachelor s degree in Engineering / Analytics or Master s Degree in Statistics/Computer Applications/ IT/Analytics /any discipline related to Data Science / Analytics.\\n7 years of progressive experience in Machine learning/Deep learning preferably working with packages like NLTK, BERT, ELMo etc\\nFluent in Python and have experience with NLP libraries like , Spacy, Genism, Glove, doc2vec etc.\\nExposure to Microsoft LUIS will be preferred\\nPossess advanced knowledge of the HuggingFace libraries and concepts like tokens, tokenization, stemming, lemmatization, regex.\\nSolid command on statistics and ability to connect theory and practice of data mining, machine learning to solve real-world use case\\nl Strong working knowledge of Python (BERT, GPT, genism, SpaCy, tensorflow, Theano, PyTorch, SciPy, scikit-learn, pandas), SQL, Unix (awk, sed, bash) for data wrangling, data analysis, modeling.\\nKnowledgeable in Natural Language processing (NLP) and quantitative analysis\\nPrevious experience building chatbots for Customer Service / specific business verticals (Bonus)\\nInteresting side projects or Kaggle competition results (Bonus)\\nExcellent critical thinking ability, result orientation and project management skills\\nSound verbal and written communication skills\\nRoleSystem Analyst\\nIndustry TypeIT Services & Consulting\\nFunctional AreaIT Software - DBA, Datawarehousing\\nEmployment TypeFull Time, Permanent\\nRole CategoryProgramming & Design\\nEducation\\nUG :B.Tech/B.E. in Production/Industrial\\nPG :M.Tech in Production/Industrial\\nKey Skills\\nUnixData analysisMachine learningCustomer supportCustomer serviceData miningmicrosoftAnalyticsSQLPython',\n",
       " 'Job description\\nPosition Responsibilities\\no Solve business problems by applying advanced Machine Learning algorithms and complex statistical models on large volumes of data.\\no Build, scale and deploy holistic data science products after successful prototyping.\\no Clearly articulate and present recommendations to business partners, and influence future plans based on insights.\\no Follow industry best practices, stay up to date with the state of the art in machine learning research and practice, drive innovation by contributing to the latest applied research in data science through publications and patents.\\no Promote and support company policies, procedures, mission, values, and standards of ethics and integrity.\\nPosition Requirements\\no Deep knowledge of the foundations of machine learning and statistics - can easily understand and implement a machine learning research paper.\\no Solid experience working with state-of-the-art supervised and unsupervised machine learning algorithms on real-world problems, preferably in ecommerce domain.\\no Strong Python coding skills and able to work with at least one other programming language such as Java/Scala.\\no Ability to work in a big data ecosystem - expert in SQL/Hive and ability to work with Spark.\\no Strong ability to understand the business and good stakeholder management capabilities.\\nQualifications\\no PhD with > 2 years of experience / 4-year bachelor s degree with > 7 years of experience / Master s degree with > 5 years of experience. Educational qualifications should be preferably in Computer Science or a related area. Experience should be relevant to the role.\\nGood to have:\\no Experience in ecommerce domain.\\no Demonstrated success in data science platforms like Kaggle.\\nRoleTeam Lead/Technical Lead\\nIndustry TypeIT Services & Consulting\\nFunctional AreaIT Software - Other\\nEmployment TypeFull Time, Permanent\\nRole CategoryProgramming & Design\\nEducation\\nUG :Any Graduate\\nPG :Any Postgraduate\\nKey Skills\\nComputer sciencedata scienceCodingMachine learningSCALAE-commerceStakeholder managementAnalyticsSQLPython',\n",
       " 'Job description\\nHello,\\nWe are hiring on behalf of one of the largest BPO/ Consulting services.\\nThe skills rquired are Natural Language Processing, Python, Data Science and Machine Learning.\\n\\nTitle: Manager / Sr. Manager\\nLocation:Bangalore , Gurugram, Mumbai\\nDuration : Fulltime\\nMax Notice:1 Month\\nRoleHead/VP/GM - Analytics & BI\\nIndustry TypeRecruitment / Staffing\\nFunctional AreaAnalytics & Business Intelligence\\nEmployment TypeFull Time, Permanent\\nRole CategorySenior Management\\nEducation\\nUG :Any Graduate\\nPG :Any Postgraduate\\nDoctorate :Any Doctorate\\nKey Skills\\nData ScienceNatural Language ProcessingMachine LearningPython',\n",
       " 'Job description\\n\\nCRISIL (formerly Credit Rating Information Services of India Limited) is an Indian analytical company providing ratings, research, and risk and policy advisory services and is a subsidiary of American company S&P Global\\n\\nWe are looking Data Scientist for Mumbai & Bangalore location\\nCandidates who can join immediately or within 30-45 need only apply\\n\\nPlease refer below JD for your reference-\\n\\nJob Description Data scientist:\\nClient oriented approach to problem solving. Individual should be able to have a holistic view of multiple businesses and develop analytic solutions accordingly.\\nOwn and deliver multiple and complex analytic projects. This would require an understanding of business context, conversion of business problems in modeling, and implementing such solutions to create business value.\\nAlways up to date with the latest use cases of modeling community, machine learning and deep learning algorithms and share knowledge within the team.\\nProficiency in basic statistics, hypothesis testing, segmentation and predictive modeling.\\nAbility to translate and articulate technical thoughts and ideas to a larger audience including influencing skills with peers and senior management.\\nStrong project management skills.\\nAbility to coach and mentor juniors.\\nEagerness to work on new and challenging tasks on a regular basis with an ability to research new ways of doing things better/efficiently.\\nContribute to organizational initiatives in wide ranging areas including competency development, training, organizational building activities etc.\\nSkills\\n\\nBasic Qualifications\\n\\nBachelors Degree with 2+ years of experience in data analytics,\\nHands-on experience in Python / SAS or R programing along with strong experience in SQL and Excel Macros.\\nExperienced in working with large and multiple datasets, data warehouses and ability to pull data using relevant programs and coding.\\nWell versed with necessary data preprocessing and feature engineering skills.\\nAt least 2 years of experience implementing Machine learning algorithms such as Random Forest and Gradient Boosting in solving business problems such as Default classification and macroeconomic forecasting.\\nAt least 1 year of experience implementing deep learning techniques like neural networks\\nExposure to deep learning packages like Tensorflow\\nStrong background in Statistical Analysis\\nBackground in BFSI space will be preferred\\n\\nRoleData Analyst\\nIndustry TypeBanking\\nFunctional AreaAnalytics & Business Intelligence\\nEmployment TypeFull Time, Permanent\\nRole CategoryAnalytics & BI\\nEducation\\nUG :Any Graduate\\nPG :Any Postgraduate\\nKey Skills\\nrMachine LearningPython\\nTensorflowPredictive ModelingSegmentationNeural NetworksDeep LearningRandom ForestSQL\\nSkills highlighted with ‘‘ are preferred keyskills',\n",
       " 'Job description\\nDepartment- BIRS (Business Intelligence Risk Solutions)\\n\\nJD Statistical Analyst/ Data scientist:\\nClient oriented approach to problem solving. Individual should be able to have a holistic view of multiple businesses and develop analytic solutions accordingly.\\nOwn and deliver multiple and complex analytic projects. This would require an understanding of business context, conversion of business problems in modeling, and implementing such solutions to create business value.\\nAlways up to date with the latest use cases of modeling community, machine learning and deep learning algorithms and share knowledge within the team.\\nProficiency in basic statistics, hypothesis testing, segmentation and predictive modeling.\\nAbility to translate and articulate technical thoughts and ideas to a larger audience including influencing skills with peers and senior management.\\nStrong project management skills.\\nAbility to coach and mentor juniors.\\nEagerness to work on new and challenging tasks on a regular basis with an ability to research new ways of doing things better/efficiently.\\nContribute to organizational initiatives in wide ranging areas including competency development, training, organizational building activities etc.\\nBasic Qualifications\\n\\nBachelor’s Degree with 2+ years of experience in data analytics,\\nHands-on experience in Python / SAS or R programing along with strong experience in SQL and Excel Macros.\\nExperienced in working with large and multiple datasets, data warehouses and ability to pull data using relevant programs and coding.\\nWell versed with necessary data preprocessing and feature engineering skills.\\nAt least 2 years of experience implementing Machine learning algorithms such as Random Forest and Gradient Boosting in solving business problems such as Default classification and macroeconomic forecasting.\\nAt least 1 year of experience implementing deep learning techniques like neural networks\\nExposure to deep learning packages like Tensorflow\\nStrong background in Statistical Analysis\\nBackground in BFSI space will be preferredRoles and Responsibilities\\n\\nIf anyone interested, please share your resume to below mail id:-\\n\\nSoundarya.s@manpower.co.in;\\n\\n\\nRoleSoftware Developer\\nIndustry TypeIT Services & Consulting\\nFunctional AreaIT Software - DBA, Datawarehousing\\nEmployment TypeFull Time, Permanent\\nRole CategoryProgramming & Design\\nEducation\\nUG :B.Tech/B.E. in Any Specialization\\nKey Skills\\nTensorflowPredictive ModelingRNeural NetworksMachine LearningStatistical AnalysisDeep LearningPythonRandom ForestSQL',\n",
       " '_',\n",
       " 'Job description\\nUse predictive modeling to increase and optimize customer experiences, revenue generation, campaign optimization and other business outcomes\\nWork with product management to develop data use cases and embed predictive models in workflows on resource constrained platforms and cloud enabled.\\nSelecting features, building and optimizing classifiers using machine learning and deep learning techniques\\nCollaborates with Data Engineers to enhance data collection and ingestion/curation techniques to include information that is relevant for building analytic systems\\nProcessing, cleansing, and verifying the integrity of data used for analysis\\nDevelop processes and tools to monitor and analyze model performance and data accuracy. Life cycle management of predictive models.\\nAdherence to compliance procedures in accordance with regulatory standards, requirements, and policies. Managing and designing the reporting environment, including data sources security, and metadata.\\nJob Qualifications:\\nMaster s degree or PhD in Computer Science, Information management, Statistics or related field, with 3 to 5 years of experience in the Consumer or Healthcare industry manipulating data sets and building predictive models with focus on product development\\nExperience in statistical modelling, machine learning, data mining, unstructured data analytics and natural language processing. Sound understanding of - Bayesian Modelling, Classification Models, Cluster Analysis, Neural Network, Nonparametric Methods, Multivariate Statistics, etc.\\nStrong hands on knowledge of ML techniques like regression algorithms, K-NN, Na ve Bayes, SVM and ensemble techniques like Random forest, AdaBoost etc\\nHaving strong knowledge in unsupervised learning algorithms using Neural networks and Deep-Learning\\nStrong knowledge in Data Wrangling and Exploration techniques to identify the patterns, trends and outliners.\\nDeep knowledge and practical experience with data science toolkits, such as NumPy, Pandas, scikit-learn or equivalent\\nExperience with data visualization tools, such as QlikView, Matplotlib, seaborn or equivalent tools.\\nProficiency in using query languages, such as SQL, PL/SQL\\nHands on experience in the one or more databases like Hadoop, AWS Redshift, Snowflake etc.\\nGood applied statistics skills, such as distributions, statistical testing, regression, etc.\\nGood ETL scripting and programming skills, such as Python, R or Scala to integrate developed solution into the proposition.\\nA team player capable of working and integrating across cross-functional team for implementing project requirements. Experience in technical requirements gathering and documentation.\\nAbility to work effectively and independently in a fast-paced global collaborative agile team environment with tight deadlines\\nA flexible, pragmatic and collaborative team player with innate ability to engage with stakeholders at all levels in the organization.\\nA self-starter with high levels of drive, energy, resilience and a desire for professional excellence with a passion for data and data science\\nRoleClinical Research Associate/Scientist\\nIndustry TypeMedical Services / Hospital\\nFunctional AreaMedical, Healthcare, R&D, Pharmaceuticals, Biotechnology\\nEmployment TypeFull Time, Permanent\\nRole CategoryR&D\\nEducation\\nUG :Any Graduate\\nPG :Post Graduation Not Required\\nKey Skills\\nProduct managementComputer sciencemetadataMachine learningAgilePLSQLHealthcareQlikViewData miningPython',\n",
       " 'Job description\\nYour Responsibility\\nDevelop the algorithms to generate better demand forecast\\nUse predictive modeling methods for demand forecasting\\nDevelop the production level code for implementation of algorithms\\nResearch on the newer technologies and algorithms, to improve forecast accuracy\\nDesign the Data Science experiments, execute them and record the results\\nAdopt Wal-Mart s quality standards and develop and recommend process standards and best practices across the retail industry\\nResearch, learn adapt new technologies to solve problems improve existing solutions\\nParticipate in events to build innovative solutions\\nAdhere to company policies, procedures, mission, values, and standards of ethics and integrity.\\nOur Ideal Candidate\\nTechnical strong, proficient in Data Science (Algorithms and programming - R, Python) well versed with Data Science toolkits (Scikit-learn, Tensorflow) and basic Data Engineering toolkit (data.table, pandas).\\nHigh performing associate with excellent communication skills, proven skill sets for building high performance Data Science teams that can work across multiple geographies, with strong customer focus and deliver across multiple technologies\\nYour Qualifications\\nB.E/B.Tech from a reputed institution\\nMinimum of 3 years of Data Science Experience\\nCommand over atleast one of the Languages extensively used by Data Scientists - R, Python\\nGood understanding of predictive modelling techniques - Linear/Non-Linear Models, Ensemble methods, Kernel Methods, Artificial Neural Networks\\nGood Understanding of optimization techniques - NN, Gradient Descent, Genetic Algorithms\\nHand-on experience in Data Preperation tools - pandas, data.table\\nGood understanding in Big Data Ecosystem - Hadoop and Spark\\nShould be a fast learner and quickly adapt to new technologies.\\nPrefer individuals with High Ownership and commitment.\\nRoleSoftware Developer\\nIndustry TypeIT Services & Consulting\\nFunctional AreaIT Software - Application Programming, Maintenance\\nEmployment TypeFull Time, Permanent\\nRole CategoryProgramming & Design\\nEducation\\nUG :B.Tech/B.E. in Production/Industrial\\nPG :Any Postgraduate\\nKey Skills\\nRetaildata scienceNeural networkssparkHadoopPredictive modelingbig dataForecastingPython',\n",
       " 'Job description\\nYour Opportunity\\nTo fulfill the charter of AdTech, there is need for top notch talent in the Sciences space. You would be working on challenging problems in Data Science, NLP leveraging ML and DL and in Optimisation. All of the problems will require building solutions at Walmart scale. The best part of this is that your solutions/models will generate tangible and immediate business impact.\\nYour Responsibility\\nAs a Principal Data Scientist for Walmart Global Tech, you ll be required to shape and deliver on the Advertising Sciences charter.\\nLeading a team of data scientists and machine learning engineers to develop, implement, and test scalable solutions for advertising science domain.\\nMentor peers and junior members and handle multiple projects at the same time.\\nManage the continuous improvement of data science and machine learning led initiatives by following industry best practices and staying up-to-date with and extending the state-of-the-art in data science research.\\nExcellent academic or industrial track record of proposing, conducting and reporting results of original research, plus collaborative research with publications\\nEngage and partner with universities, institutes and vendor partners to bring in ideas and innovation into the labs environment.\\nParticipate and speak at various external forums such as ML / AI conferences.\\nPromote and support company policies, procedures, mission, values, and standards of ethics and integrity\\nOur Ideal Candidate\\nYou are a technically strong and high performing individual with excellent communication skills, proven analytical skills and strong customer focus. You stay updated with latest research and technology ideas, and have a passion to utilize innovative ways to solve problems.\\nYou have published in top peer-reviewed international journals and conferences in Machine Learning such as ICML, NeurIPS, CVPR, CODS-COMAD, KDD etc. You are a good story-teller and able to simply articulate the intricacies of your models as well as explain your results clearly to stakeholders.\\nYou have industry knowledge of the display advertising space, with keen interest in keeping up to date on the latest happenings in this space. You have a strong interest in Mathematics and Statistics which form the core foundation of what we do in Advertising Science.\\nYour Qualifications\\nMasters with > 14 years of relevant experience OR PhD in Computer Science with > 10 years of relevant experience.\\nYour Core Skills\\nSound knowledge of statistical learning and deep learning concepts\\nExpert in ML (decision trees, random forests, boosting, etc.) and DL (CNNs, RNNs, attention mechanisms, etc.)\\nExtensive experience building and deploying state of the art models in the field of NLP (NER, embeddings, language models, etc.)\\nStrong foundational knowledge in math, statistics and calculus\\nSound knowledge of managing data for experiments (sampling, labelling, EDA, etc.)\\nProficiency in experimental design and A/B testing\\nExperience working with large data sets in big data environments (preferably Hadoop based)\\nWorking proficiency in Python, SQL and Linux/UNIX environments\\nExposure to big data processing stack e.g Apache spark\\nExposure in mentoring senior data scientists on approach and results.\\nAdded Advantages\\nPrior work in any of the following areas: mathematical optimization, reinforcement learning, recommendation system, time series analysis and forecasting\\nExperience in online display advertising domain\\nRoleTeam Lead/Technical Lead\\nIndustry TypeIT Services & Consulting\\nFunctional AreaIT Software - Application Programming, Maintenance\\nEmployment TypeFull Time, Permanent\\nRole CategoryProgramming & Design\\nEducation\\nUG :Any Graduate\\nPG :Any Postgraduate\\nKey Skills\\nUnixComputer scienceLinuxMachine learningData processingData miningForecastingAnalyticsSQLPython',\n",
       " 'Job description\\nYour Opportunity\\nTo fulfill the charter of MINT, there is need for top notch talent in the Sciences space. You would be working on challenging problems in NLP leveraging ML and DL and in optimization. All of the problems will require building solutions at Walmart scale. The best part of MINT is that your solutions/models will generate tangible and immediate business impact.\\nYour Responsibility\\nAs a Principal Data Scientist for Walmart Global Tech, you ll be required to shape and deliver on the MINT sciences charter.\\nLeading a team of data scientists and machine learning engineers to develop, implement, and test scalable solutions for marketing intelligence domain.\\nConsult with business stakeholders across stores and ecommerce businesses regarding algorithm-based recommendations and be a thought-leader to develop these into business actions.\\nMentor peers and junior members and handle multiple projects at the same time.\\nManage the continuous improvement of data science and machine learning led initiatives by following industry best practices and staying up-to-date with and extending the state-of-the-art in data science research.\\nExcellent academic or industrial track record of proposing, conducting and reporting results of original research, plus collaborative research with publications\\nEngage and partner with universities, institutes and vendor partners to bring in ideas and innovation into the labs environment.\\nParticipate and speak at various external forums such as ML / AI conferences.\\nPromote and support company policies, procedures, mission, values, and standards of ethics and integrity\\nOur Ideal Candidate\\nYou are a technically strong and high performing individual with excellent communication skills, proven analytical skills and strong customer focus. You stay updated with latest research and technology ideas, and have a passion to utilize innovative ways to solve problems.\\nYou have published in top peer-reviewed international journals and conferences in Machine Learning such as ICML, NeurIPS, CVPR, etc. You are a good story-teller and able to simply articulate the intricacies of your models as well as explain your results clearly to stakeholders. You have industry knowledge of the retail space, with keen interest in keeping up to date on the latest happenings in this space.\\nYour Qualifications\\nBachelor s with > 15 years of relevant experience OR Masters with > 12 years of relevant experience OR PhD in Computer Science with > 10 years of relevant experience.\\nYour Core Skills\\nSound knowledge of advanced machine learning and deep learning concepts\\nExpert in ML (decision trees, random forests, boosting, etc.) and DL (CNNs, RNNs, attention mechanisms, etc.)\\nExtensive experience building and deploying state of the art models in the field of NLP (NER, embeddings, language models, etc.)\\nStrong foundational knowledge in math, statistics and calculus\\nSound knowledge of managing data for experiments (sampling, labelling, EDA, etc.)\\nProficiency in experimental design and A/B testing\\nExperience working with large data sets in big data environments (preferably Hadoop based)\\nWorking proficiency in Python, SQL and Linux/UNIX environments\\nExposure in mentoring senior data scientists on approach and results.\\nAdded Advantages\\nPrior work in any of the following areas: computer vision, mathematical optimization, reinforcement learning.\\nExperience in retail domain\\nRoleTeam Lead/Technical Lead\\nIndustry TypeIT Services & Consulting\\nFunctional AreaIT Software - Application Programming, Maintenance\\nEmployment TypeFull Time, Permanent\\nRole CategoryProgramming & Design\\nEducation\\nUG :Any Graduate\\nPG :Any Postgraduate\\nKey Skills\\nUnixComputer scienceComputer visionLinuxMachine learningOpen sourceAnalyticsTestingSQLPython',\n",
       " 'Job description\\n  The Automotive Supply Chain and Technology team at IHS Markit is in search of a Data Scientist to support New Product Development and global teams ongoing research and analysis efforts. The research team produces granular forecast dataset and written analyses on the supply chain of parts supplied to automakers with technology, supplier and logistic information. The team generate forecasts on technology trends through multiple research channels and by using many connected and disconnected data sources to drive the forecast.\\nThe position covers an array of critical data-centric activities aimed at enhancing the efficiency of our 70+ strong research team, sustaining the increasing data complexity and most importantly supporting new product development at one of IHS Markits fastest growing product lines. The position is based in Gurgaon or Bangalore, India and reports to our Regional Head of operations in India.\\nResponsibilities and duties\\nUnderstanding business requirements to create maintainable workflows e.g. inbound/input data from analysts and external sources to feed a set of interconnected data sets and calculations\\nData wrangling and data mining to support product innovation and model creation\\nETL process design, implementation, maintenance and documentation for large inter-connected data sets\\nData cleaning and manipulation of raw data\\nCreation of logical and physical data models\\nUtilize existing database infrastructures as well as building new DB infrastructures as required\\nData acquisition exploration\\nCreate and maintain detailed documentation of workflows\\nHarness machine learning and statistical modelling with a view to enhance automation, reduce manual data interaction from research team and develop new insightful products\\nIdentifying, assembling, and enriching a wide range of structured and unstructured data to support new automotive forecasts and analysis.\\nCreation of logical and physical data models (including creation of workflows in data science platforms such as KNIME)\\nQualifications and skills\\n3+ years experience as a data scientist\\nAt minimum, a degree in computer science, computer engineering or a related quantitative field with proven work experience in the data engineering/scientist field\\nProven experience with SQL and NoSQL databases like Oracle DB, SQL Server, Cassandra, MongoDB, MySQL, Hadoop, Spark, AWS (EC2 and S3)\\nProven experience with one or more programming/scripting languages (e.g. Python, C++, R, Matlab, Scala).\\nFamiliar with techniques to manage large databases, including partitioning, compression and indexes as well as data mining\\nAbility to build models (e.g. Linear regression, logistic, Markov models) and use one or more machine learning library/frameworks (e.g. Scikit-learn) with a view to solve complex high dimensional data\\nKnowledge of OLAP and ETL processes\\nFamiliarity with data science platforms such as KNIME is a bonus\\nKnowledge of API creation and maintenance\\nEstablished MS Office skills (including VBA and Access) , O365 desirable\\nGood communication skills, collaborative team spirit, curiosity to constantly keep thinking of unique approaches and solutions.\\nAbility to work independently.\\nExperience committing to deadlines whilst multi-tasking\\nRoleHead/VP/GM-Quality\\nIndustry TypeIT Services & Consulting\\nFunctional AreaIT Software - Application Programming, Maintenance\\nEmployment TypeFull Time, Permanent\\nRole CategorySenior Management\\nEducation\\nUG :Any Graduate\\nPG :Any Postgraduate\\nKey Skills\\nSupply chainProcess designComputer scienceC++AutomationMySQLMS OfficeOracleData miningSQL',\n",
       " 'Job description\\n  Engage with Analytics Business Partners (ABP) and customers to understand the problem statement, required data and analytics insights to solve a given business problem.\\nPerform ETL, data cleansing and feature engineering to prepare data required for Rapid Learning Cycle (RLC) projects.\\nPerform EDA and work with SMEs to establish data understanding and address data quality issues.\\nPartner with other data scientists in AAO and Asia factories to build advanced statistical, AI and ML models that are congruent with the problem being solved and optimize for performance.\\nWork closely with ML Engineers and Solution Architects in AAO to seamlessly operationalize models developed from RLC to Pilot to Production.\\nPresent findings recommendations to project stakeholders.\\nBe up to date on latest technological advancements in AI/ML space through self-learning, literature research, relevant conferences etc.\\nProvide input to technical direction of AAO Data Science teams.\\nProactively network with other data scientists and analytics professionals in WDC India to identify collaboration opportunities.\\nPreferred Qualifications:\\nBS/MS/PhD in a quantitative discipline (e.g., Computer Science, Data Science, Applied Sciences or Engineering).\\nBS 5+ years or MS 4+ years or PhD 1+ year of experience in an analytics function.\\nPrior experience in developing advanced analytics solutions to business problems.\\nStrong theoretical understanding hands-on experience in statistical data analysis, AI ML techniques (e.g., supervised and unsupervised modeling, Deep Learning, CNN, NLP, Time-series analysis) and common data analytics tools (e.g., Python, R, Tensorflow etc).\\nExperience with Database Technologies (SQL, NoSQL), Big Data Technologies (Hadoop, Hive, Spark) and Cloud Technologies (AWS, GCP).\\nAbility to work independently and with team members from different backgrounds.\\nAbility to present complex data and analytics insights in the most effective ways and communicate a compelling story.\\nStrong problem solving and critical thinking skills.\\nPositive attitude towards learning on-the-job and strive in a rapidly changing environment.\\n\\nRoleBio/Pharma Informatics-Associate/Scientist\\nIndustry TypeElectronic Components / Semiconductors\\nFunctional AreaMedical, Healthcare, R&D, Pharmaceuticals, Biotechnology\\nEmployment TypeFull Time, Permanent\\nRole CategoryR&D\\nEducation\\nUG :Any Graduate\\nPG :Any Postgraduate\\nKey Skills\\nData ScienceNlpData ScientistAdvanced AnalyticsOperations ResearchBig DataData AnalyticsSupply ChainDeep LearningPython',\n",
       " 'Job description\\nMentor junior teammates in developing clean, optimized python code.\\nDrive project deliverables, architecture design and code design.\\nMulti-task on multiple projects from different groups.\\nCommunicate project timelines in an agile work environment.\\nGather requirements from multiple stakeholders and prioritize.\\nCreate Python flows\\nWhat You Need for this Position\\nYou should have knowledge of:\\nPython\\nLinear\\nSQL / NoSQL\\nRegression models\\nRoleSoftware Developer\\nIndustry TypeRecruitment / Staffing\\nFunctional AreaIT Software - Application Programming, Maintenance\\nEmployment TypeFull Time, Permanent\\nRole CategoryProgramming & Design\\nEducation\\nUG :B.Sc in Chemistry\\nPG :MS/M.Sc(Science) in Chemistry\\nKey Skills\\nNosqlKey SkillsData ScientistAgilePythonSql',\n",
       " 'Job description\\nAs a Data Scientist for Walmart, you ll have the opportunity to:\\nDrive data-derived insights across a wide range of divisions by developing advanced statistical models, machine learning algorithms and computational algorithms based on business initiatives\\nDirect the gathering of data, assessing data validity and synthesizing data into large analytics datasets to support project goals\\nUtilize big data analytics and advanced data science techniques to identify trends, patterns, and discrepancies in data. Determine additional data needed to support insights\\nBuild and train statistical models and machine learning algorithms\\nApply your semantic, natural language processing and understanding expertise where required\\nUse deep learning and image recognition project goals\\nComputer Vision will be an important focus area for this role\\nProductionize the models and make those available at scale\\nBuild and maintain end to end Machine Learning pipelines\\nBe comfortable with ambiguity and uncertainty and the eagerness to change the world in a huge way by being a self-motivated learner and builder\\nCommunicate recommendations to business partners and influencing future plans based on insights\\nYour Responsibility\\nPlay a key role to solve complex problems, pivotal to Walmart s business and drive actionable insights from petabytes of data\\nUtilize product mindset to build, scale and deploy holistic data science products after successful prototyping\\nDemonstrate incremental solution approach with agile and flexible ability to overcome practical problems\\nPartner with senior team members to assess customer needs and define business questions\\nClearly articulate and present recommendations to business partners, and influence future plans based on insights\\nWork with customer centric mindset to deliver high quality business driven analytic solution\\nDrive innovation in approach, method, practices, process, outcome, delivery, or any component of end-to-end problem solving\\nDemonstrates up-to-date expertise and applies this to the development, execution, and improvement of action plans\\nRoleDatabase Architect/Designer\\nIndustry TypeIT Services & Consulting\\nFunctional AreaIT Software - Other\\nEmployment TypeFull Time, Permanent\\nRole CategoryProgramming & Design\\nEducation\\nUG :Any Graduate\\nPG :Any Postgraduate\\nKey Skills\\nProcurementComputer scienceCloud computingData analysisdata scienceDb2CodingAgileData miningPython',\n",
       " 'Job description\\nRoles and Responsibilities\\nWe are looking for someone who would be responsible for analyzing data and providing business insights. As a Data Scientist your responsibilities will include understanding the business problem and experimenting with different modelling architectures to create the best possible setup from model performance as well as computational performance. To do this job successfully, you need exceptional skills in Machine Learning and Programming. Your ultimate goal will be to find the best data-based solution for the problem at hand.\\nMoreover, you are expected to learn fast and deliver quickly in a fast-paced startup environment. If you thrive on ambiguity and are a problem solver and yet deliver value to clients, feel free to reach out to us.\\nWe are looking ONLY FOR SELF DRIVEN INDIVIDUALS with a desire to excel in Data Science Domain.\\nUnderstanding business objectives and developing models that help to achieve them, along with metrics to track their progress\\nDevelop and maintain robust data processing pipelines and reproducible modeling pipelines\\nBuild mathematical models to solve various problems ranging from Time Series forecasting to Neural Networks and ensure seamless deployment in production pipelines.\\nAnalyze experimental results, iterate and refine models to create significant business impact\\nFollow strict coding standards and other software engineering best practices\\n\\n\\nDesired Candidate Profile\\nProven experience as a Data Scientist or similar role\\nStrong SQL, R/Python Skills\\nShould have familiarity with Machine Learning Models and fundamentals in Forecasting and Optimization Techniques\\nShould have strong mathematical background & analytical bent of mind\\nStrong Problem-Solving Ability\\nAbility to communicate well in a highly collaborative team environment, consisting of both technical and non-technical personnel\\nReliable self-starter that is capable of working with a high degree of autonomy\\n\\n\\nPerks and Benefits\\n\\nNeenOpal is a global management consulting firm with a unique and specialized focus on Data Science.\\nWe provide services across the whole value chain of an organization - Digital Strategy, Sales & Marketing, Supply Chain & Logistics as well as Finance. Youll have a blast doing it in our fun, passionate environment.\\nRoleData scientist\\nIndustry TypeManagement Consulting\\nFunctional AreaIT Software - Other\\nEmployment TypeFull Time, Permanent\\nRole CategoryNot mentioned\\nEducation\\nUG :Any Graduate\\nPG :Any Postgraduate\\nKey Skills\\nData SciencePythonSQL\\nExcelSoftware EngineeringProblem SolvingNeural NetworksTime SeriesData AnalysisBusiness InsightsData ProcessingMachine Learning\\nSkills highlighted with ‘‘ are preferred keyskills',\n",
       " 'Job description\\nHi,\\n\\nWe at Prescience www.prescienceds.com looking for Data Scientist @ Bangalore .\\n\\nRoles and Responsibilities\\nAs a Data Scientist you will be working with senior management of clients to understand the business requirements, define right problem statement and come up with a framework for the solution. You will also work on the solution and at time guide a small team to deliver the same. Part of job role would be develop products in the area of Natural Language Processing, Conversational Interfaces, Text Mining etc.\\n\\nDesired Candidate Profile\\nWhat we are looking for:\\nGood applied statistics skills, such as distributions, statistical testing, regression, etc. Experience in Natural Language Processing, Computer Vision. Exposure to common data science business problems like clustering, classification, anomaly detection, prediction etc.\\nGood understanding of machine learning techniques and algorithms\\nExperience with common data science toolkits Python, R, SAS\\nProficiency in using query languages such as SQL, Hive, etc Experience with NoSQL database, SQL Server, PostgreSQL, MongoDB\\nGreat communication skills\\nData-oriented personality and excellent business analysis skills\\nExperience in solutioning for data science related problems, work with business stakeholders to define right problem statement and solution.\\nOpen to professionals who have data analytics / BI background and then moved to Data Scientist roles.\\n\\nPerks and Benefits\\n\\n\\nRoleOther\\nIndustry TypeIT Services & Consulting\\nFunctional AreaAnalytics & Business Intelligence\\nEmployment TypeFull Time, Permanent\\nRole CategoryOther\\nEducation\\nUG :Any Graduate\\nKey Skills\\nTensorflowPostgreSQLNatural Language ProcessingNeural NetworksMachine LearningStatisticsSQLData ScienceAnomaly DetectionPytorchRNLPMongoDBQlikViewComputer VisionData AnalyticsPython',\n",
       " 'Job description\\nThe position is responsible for research and analysis of data to support proposal strategy, as well as site identification and selection decisions.\\nThe role also plays a vital part in researching, evaluating and implementing state-of-the-art informatics technologies to improve deliverables.\\nSome specific duties include the following\\nUnderstand, guide and challenge the business in order to define analytics/dashboard requirements to drive department strategy\\nModel and transform complex datasets to enable optimal and scalable visualization and analytical options.\\nDevelop the right visualisations in a variety of platforms (Spotfire, Power BI, Tableau etc) to enable clear and concise messaging to business users at different levels in the organization.\\nCreate custom visualization types to complement out of the box standards\\nEffective management of concurrent projects to ensure rapid development and deployment.\\nSupport proposal development, feasibility and site identification projects through the application of data and analytics expertise.\\nUse analytical tools to assess known and unknown information, uncertainties, and assumptions to provide probabilistic estimation of risks to study and program execution.\\nCommunicate value of informatics tools to users and train them in the use of such tools.\\nQuery relevant databases, including clinical trial registry tools and internal sources, and research various literature sources to support preparation of robust feasibility, site identification and selection deliverables.\\nUse analytical expertise to prepare risk benefit analyses and decision making criteria, while identifying opportunities to reduce cost without compromising quality.\\nRoleClinical Research Associate/Scientist\\nIndustry TypePharmaceutical & Life Sciences\\nFunctional AreaMedical, Healthcare, R&D, Pharmaceuticals, Biotechnology\\nEmployment TypeFull Time, Permanent\\nRole CategoryR&D\\nEducation\\nUG :Any Graduate\\nPG :Any Postgraduate\\nKey Skills\\nanalyticsvisualizationdashboard',\n",
       " 'Job description\\nThe Data Engineer is responsible for supporting Snaplogic ETL, AWS Redshift, RDS, and Aurora environments, exploring performance improvement opportunities, and troubleshooting data ingestion and user queries issues. This individual will perform typical database administrative tasks such as managing user accounts, monitoring system capacity usage and performance, balancing system workload, identifying root cause of issues raised by users and provide solution proposals, as well as supporting and enhancing data ingestion processes developed by other development teams.\\nThis individual will work with business users to identify performance improvement opportunities and implement them in the order based upon urgency and priority. In addition, this individual will identify data integration, ETL and quality issues, investigate issues identified by others, research and implement solutions to correct problems (at the source where possible), collaborate with developers to correct historical data, develop reports and monitoring programs, and execute data integration initiatives.\\nJob Responsibilities:\\nManage user accounts and security in the Redshift, RDS, and Aurora environments\\nMonitor and manage system workloads in order to keep all the systems running smoothly and minimize bottlenecks.\\nConfigure system connections between data sources and targets.\\nAssist users in debugging query failure issues and data quality problems\\nAnalyze objects such as tables and views designed and deployed by the development teams and users, provide best practice solution proposals\\nAnalyze queries from users, identify performance improvement opportunities, and assist users to improve performance\\nAnalyze and manage disk space usages by users, and provide best practice to development teams and business users\\nMaintain, modify and enhance data ingestion processes per development teams request\\nDevelop and deploy data load processes per business users request, including tables, views, and data load ETL pipelines design and development\\nCreate native connections between Redshift, RDS, and Aurora\\nDevelop and maintain metrics programs to monitor system usages and performance\\nManage data Redshift archiving processes\\nDevelop Redshift Spectrum objects\\nSupport Engineering and Manufacturing Datawarehouse and related data systems and initiatives\\nSolve moderate to complex data quality/ data integration problems\\nRecognize and investigate anomalies and propose solutions\\nResearch and recommend innovative, and where possible automated, approaches for data issues\\nMonitor ETL pipelines, troubleshoot and address any issues.\\nLiaison with business users and Subject matter Experts to find permanent solution to recurring issues.\\nWork closely with managed service providers in streamlining production support processes.\\nRequired Qualifications:\\nBachelor s degree in computer science, Information Systems, (or a related field) or a minimum of seven years of relevant professional experience and training\\n7 to 9 years Data Engineer or Support Engineer roles\\n3+ year AWS Redshift experience\\n2+ year experience in performance tuning and optimization of any SQL databases\\n3+ year supporting ETL packaged software like Informatica or SnapLogic\\nFamiliarity with concept of and experiences in performance tuning approaches related to MPP databases\\nProficient in SQL\\nExperiences in data modeling, including logical and physical design, normalization and denormalization\\nExpertise in performance tuning in one or more RDBMS such as Postgres, MySQL, Oracle, DB2, MS SQL, etc.\\nExperiences in programing tools such as Linux shell scripting, Python, Java, etc.\\nExperiences in analysis, Design, Development and Implementation of ETL and exposure to any commercial ETL tools (Snaplogic, Informatica, Alteryx, Matillion) and reporting (Tableau, Spotfire) tools will be an advantage but not mandatory.\\nEffectively and efficiently work with an enterprise environment involving very large data sets - millions of records in both databases and flat files\\nExperienced in requirements analysis, design, and development in the data Management application areas\\nResponsible for working with cross-functional and cross-organizational teams to understand issues, implement solutions, and influence others to implement solutions\\nAble to be comfortable in a fast-paced environment with constantly shifting priorities and a mix of quick hit, short, medium and long-term projects of varying priorities\\nHigh-tech, or manufacturing industry experience preferred but not required\\nExcellent communication, facilitation, and interpersonal relations skills required\\nRoleDBA\\nIndustry TypeElectronic Components / Semiconductors\\nFunctional AreaIT Software - Application Programming, Maintenance\\nEmployment TypeFull Time, Permanent\\nRole CategoryAdmin/Maintenance/Security/Datawarehousing\\nEducation\\nUG :Any Graduate\\nPG :Any Postgraduate\\nKey Skills\\nJavaEtl ToolsShell ScriptingData ManagementData ModelingInformaticaPerformance TuningMs SqlPythonData Integration',\n",
       " 'Job description\\n- Drive data-derived insights across the wide range of retail divisions by developing advanced statistical models, machine learning algorithms and computational algorithms based on business initiatives\\n- Direct the gathering of data, assessing data validity and synthesizing data into large analytics datasets to support project goals\\n- Utilize big data analytics and advanced data science techniques to identify trends, patterns, and discrepancies in data. Determine additional data needed to support insights\\n- Build and train statistical models and machine learning algorithms for replication for future projects\\n- Communicate recommendations to business partners and influencing future plans based on insights\\nPosition Requirements\\no Very good knowledge of the foundations of machine learning and statistics\\no Experience in analyzing the Complex Problems and translate it into data science algorithms\\no Experience in machine learning, supervised and unsupervised and deep learning\\no Experience with big data analytics - identifying trends, patterns, and outliers in large volumes of data\\no Strong Experience with one or more of Python and R\\no Strong Experience with big data platforms - Hadoop (Hive, Pig, Map Reduce, HQL, Scala)\\no Experience with SQL and relational databases, data warehouse\\nQualifications\\no Bachelors with > 5 years of experience / Master s degree with > 3 years of experience. Educational qualifications should be preferably in Computer Science or a related area. Experience should be relevant to the role.\\nGood to have:\\no Experience in ecommerce domain.\\no Demonstrated success in data science platforms like Kaggle.\\nRoleTeam Lead/Technical Lead\\nIndustry TypeIT Services & Consulting\\nFunctional AreaIT Software - DBA, Datawarehousing\\nEmployment TypeFull Time, Permanent\\nRole CategoryProgramming & Design\\nEducation\\nUG :Any Graduate\\nPG :Any Postgraduate\\nKey Skills\\nComputer scienceData analysisdata sciencebig data analyticsMachine learningSCALAE-commercebig dataSQLPython']"
      ]
     },
     "execution_count": 45,
     "metadata": {},
     "output_type": "execute_result"
    }
   ],
   "source": [
    "job_descriptions=[]\n",
    "for i in urls:\n",
    "    driver.get(i)\n",
    "    try:\n",
    "        job_description=driver.find_element_by_xpath(\"//section[@class='job-desc']\")\n",
    "        job_descriptions.append(job_description.text)\n",
    "        \n",
    "    except NoSuchElementException  as e:\n",
    "        job_descriptions.append(\"_\")\n",
    "\n",
    "job_descriptions"
   ]
  },
  {
   "cell_type": "code",
   "execution_count": 46,
   "id": "93a570f6",
   "metadata": {},
   "outputs": [
    {
     "data": {
      "text/plain": [
       "['Job description\\nAs a Senior Data Scientist for Walmart, you ll have the opportunity to:\\nDrive data-derived insights across a wide range of divisions by developing advanced statistical models, machine learning algorithms and computational algorithms based on business initiatives\\nDirect the gathering of data, assessing data validity and synthesizing data into large analytics datasets to support project goals\\nUtilize big data analytics and advanced data science techniques to identify trends, patterns, and discrepancies in data. Determine additional data needed to support insights\\nBuild and train statistical models and machine learning algorithms\\nApply your semantic, natural language processing and understanding expertise where required\\nUse deep learning and image recognition project goals\\nComputer Vision will be an important focus area for this role\\nProductionize the models and make those available at scale\\nBuild and maintain end to end Machine Learning pipelines\\nBe comfortable with ambiguity and uncertainty and the eagerness to change the world in a huge way by being a self-motivated learner and builder\\nCommunicate recommendations to business partners and influencing future plans based on insights\\nYour Responsibility\\nPlay a key role to solve complex problems, pivotal to Walmart s business and drive actionable insights from petabytes of data\\nUtilize product mindset to build, scale and deploy holistic data science products after successful prototyping\\nDemonstrate incremental solution approach with agile and flexible ability to overcome practical problems\\nPartner with senior team members to assess customer needs and define business questions\\nClearly articulate and present recommendations to business partners, and influence future plans based on insights\\nWork with customer centric mindset to deliver high quality business driven analytic solution\\nDrive innovation in approach, method, practices, process, outcome, delivery, or any component of end-to-end problem solving\\nDemonstrates up-to-date expertise and applies this to the development, execution, and improvement of action plans\\nPreferred Qualifications\\nBachelors degree in Statistics, Mathematics, Computer Science or a related field and 8 years experience in an analytics/DS related field, or,\\nMasters degree in Statistics, Mathematics, Computer Science or a related field and 6 years experience in an analytics/DS related field.\\nHigh proficiency in data mining, modeling, validation and insight generation.\\nExcellent working knowledge of statistics, mathematics, machine learning, data mining, deep learning\\nHigh proficiency in coding including Python and SQL\\nExperience with databases (for example, DB2, Oracle, SQL Server)\\nExperience with Big Data technologies such as Pig, Hive and/or Spark\\nAbility to work with large data sets. Has sound understanding of big data technology stack\\nUnderstanding of cloud computing platforms and large-scale databases\\nProven ability to collaborate and work in teams\\nExcellent with communications and stakeholder engagement\\nData science publications in recognized platforms/journals\\nProven ability to work in agile mode on data science sprint projects\\nRoleDatabase Architect/Designer\\nIndustry TypeIT Services & Consulting\\nFunctional AreaIT Software - DBA, Datawarehousing\\nEmployment TypeFull Time, Permanent\\nRole CategoryProgramming & Design\\nEducation\\nUG :Any Graduate\\nPG :Any Postgraduate\\nKey Skills\\nProcurementComputer scienceCloud computingData analysisdata scienceDb2CodingAgileData miningPython',\n",
       " 'Job description\\nDesign, coordinate, and implement data driven business and technology solutions to support innovation initiatives\\nCommunicate complex models, analysis and recommendations in a clear and precise manner\\nProvide thought leadership in statistical modeling and machine learning/ AI. NLP and Deep Learning are the two focus areas\\nDeliver actionable insights to stakeholders through rich visualization and presentation\\nManage priorities between research and deliverables effectively\\nCollaborate actively with topic owners to understand and develop advanced analytics / data science\\nYour Qualifications\\nBachelor s degree in Engineering / Analytics or Master s Degree in Statistics/Computer Applications/ IT/Analytics /any discipline related to Data Science / Analytics.\\n7 years of progressive experience in Machine learning/Deep learning preferably working with packages like NLTK, BERT, ELMo etc\\nFluent in Python and have experience with NLP libraries like , Spacy, Genism, Glove, doc2vec etc.\\nExposure to Microsoft LUIS will be preferred\\nPossess advanced knowledge of the HuggingFace libraries and concepts like tokens, tokenization, stemming, lemmatization, regex.\\nSolid command on statistics and ability to connect theory and practice of data mining, machine learning to solve real-world use case\\nl Strong working knowledge of Python (BERT, GPT, genism, SpaCy, tensorflow, Theano, PyTorch, SciPy, scikit-learn, pandas), SQL, Unix (awk, sed, bash) for data wrangling, data analysis, modeling.\\nKnowledgeable in Natural Language processing (NLP) and quantitative analysis\\nPrevious experience building chatbots for Customer Service / specific business verticals (Bonus)\\nInteresting side projects or Kaggle competition results (Bonus)\\nExcellent critical thinking ability, result orientation and project management skills\\nSound verbal and written communication skills\\nRoleSystem Analyst\\nIndustry TypeIT Services & Consulting\\nFunctional AreaIT Software - DBA, Datawarehousing\\nEmployment TypeFull Time, Permanent\\nRole CategoryProgramming & Design\\nEducation\\nUG :B.Tech/B.E. in Production/Industrial\\nPG :M.Tech in Production/Industrial\\nKey Skills\\nUnixData analysisMachine learningCustomer supportCustomer serviceData miningmicrosoftAnalyticsSQLPython',\n",
       " 'Job description\\nPosition Responsibilities\\no Solve business problems by applying advanced Machine Learning algorithms and complex statistical models on large volumes of data.\\no Build, scale and deploy holistic data science products after successful prototyping.\\no Clearly articulate and present recommendations to business partners, and influence future plans based on insights.\\no Follow industry best practices, stay up to date with the state of the art in machine learning research and practice, drive innovation by contributing to the latest applied research in data science through publications and patents.\\no Promote and support company policies, procedures, mission, values, and standards of ethics and integrity.\\nPosition Requirements\\no Deep knowledge of the foundations of machine learning and statistics - can easily understand and implement a machine learning research paper.\\no Solid experience working with state-of-the-art supervised and unsupervised machine learning algorithms on real-world problems, preferably in ecommerce domain.\\no Strong Python coding skills and able to work with at least one other programming language such as Java/Scala.\\no Ability to work in a big data ecosystem - expert in SQL/Hive and ability to work with Spark.\\no Strong ability to understand the business and good stakeholder management capabilities.\\nQualifications\\no PhD with > 2 years of experience / 4-year bachelor s degree with > 7 years of experience / Master s degree with > 5 years of experience. Educational qualifications should be preferably in Computer Science or a related area. Experience should be relevant to the role.\\nGood to have:\\no Experience in ecommerce domain.\\no Demonstrated success in data science platforms like Kaggle.\\nRoleTeam Lead/Technical Lead\\nIndustry TypeIT Services & Consulting\\nFunctional AreaIT Software - Other\\nEmployment TypeFull Time, Permanent\\nRole CategoryProgramming & Design\\nEducation\\nUG :Any Graduate\\nPG :Any Postgraduate\\nKey Skills\\nComputer sciencedata scienceCodingMachine learningSCALAE-commerceStakeholder managementAnalyticsSQLPython',\n",
       " 'Job description\\nHello,\\nWe are hiring on behalf of one of the largest BPO/ Consulting services.\\nThe skills rquired are Natural Language Processing, Python, Data Science and Machine Learning.\\n\\nTitle: Manager / Sr. Manager\\nLocation:Bangalore , Gurugram, Mumbai\\nDuration : Fulltime\\nMax Notice:1 Month\\nRoleHead/VP/GM - Analytics & BI\\nIndustry TypeRecruitment / Staffing\\nFunctional AreaAnalytics & Business Intelligence\\nEmployment TypeFull Time, Permanent\\nRole CategorySenior Management\\nEducation\\nUG :Any Graduate\\nPG :Any Postgraduate\\nDoctorate :Any Doctorate\\nKey Skills\\nData ScienceNatural Language ProcessingMachine LearningPython',\n",
       " 'Job description\\n\\nCRISIL (formerly Credit Rating Information Services of India Limited) is an Indian analytical company providing ratings, research, and risk and policy advisory services and is a subsidiary of American company S&P Global\\n\\nWe are looking Data Scientist for Mumbai & Bangalore location\\nCandidates who can join immediately or within 30-45 need only apply\\n\\nPlease refer below JD for your reference-\\n\\nJob Description Data scientist:\\nClient oriented approach to problem solving. Individual should be able to have a holistic view of multiple businesses and develop analytic solutions accordingly.\\nOwn and deliver multiple and complex analytic projects. This would require an understanding of business context, conversion of business problems in modeling, and implementing such solutions to create business value.\\nAlways up to date with the latest use cases of modeling community, machine learning and deep learning algorithms and share knowledge within the team.\\nProficiency in basic statistics, hypothesis testing, segmentation and predictive modeling.\\nAbility to translate and articulate technical thoughts and ideas to a larger audience including influencing skills with peers and senior management.\\nStrong project management skills.\\nAbility to coach and mentor juniors.\\nEagerness to work on new and challenging tasks on a regular basis with an ability to research new ways of doing things better/efficiently.\\nContribute to organizational initiatives in wide ranging areas including competency development, training, organizational building activities etc.\\nSkills\\n\\nBasic Qualifications\\n\\nBachelors Degree with 2+ years of experience in data analytics,\\nHands-on experience in Python / SAS or R programing along with strong experience in SQL and Excel Macros.\\nExperienced in working with large and multiple datasets, data warehouses and ability to pull data using relevant programs and coding.\\nWell versed with necessary data preprocessing and feature engineering skills.\\nAt least 2 years of experience implementing Machine learning algorithms such as Random Forest and Gradient Boosting in solving business problems such as Default classification and macroeconomic forecasting.\\nAt least 1 year of experience implementing deep learning techniques like neural networks\\nExposure to deep learning packages like Tensorflow\\nStrong background in Statistical Analysis\\nBackground in BFSI space will be preferred\\n\\nRoleData Analyst\\nIndustry TypeBanking\\nFunctional AreaAnalytics & Business Intelligence\\nEmployment TypeFull Time, Permanent\\nRole CategoryAnalytics & BI\\nEducation\\nUG :Any Graduate\\nPG :Any Postgraduate\\nKey Skills\\nrMachine LearningPython\\nTensorflowPredictive ModelingSegmentationNeural NetworksDeep LearningRandom ForestSQL\\nSkills highlighted with ‘‘ are preferred keyskills',\n",
       " 'Job description\\nDepartment- BIRS (Business Intelligence Risk Solutions)\\n\\nJD Statistical Analyst/ Data scientist:\\nClient oriented approach to problem solving. Individual should be able to have a holistic view of multiple businesses and develop analytic solutions accordingly.\\nOwn and deliver multiple and complex analytic projects. This would require an understanding of business context, conversion of business problems in modeling, and implementing such solutions to create business value.\\nAlways up to date with the latest use cases of modeling community, machine learning and deep learning algorithms and share knowledge within the team.\\nProficiency in basic statistics, hypothesis testing, segmentation and predictive modeling.\\nAbility to translate and articulate technical thoughts and ideas to a larger audience including influencing skills with peers and senior management.\\nStrong project management skills.\\nAbility to coach and mentor juniors.\\nEagerness to work on new and challenging tasks on a regular basis with an ability to research new ways of doing things better/efficiently.\\nContribute to organizational initiatives in wide ranging areas including competency development, training, organizational building activities etc.\\nBasic Qualifications\\n\\nBachelor’s Degree with 2+ years of experience in data analytics,\\nHands-on experience in Python / SAS or R programing along with strong experience in SQL and Excel Macros.\\nExperienced in working with large and multiple datasets, data warehouses and ability to pull data using relevant programs and coding.\\nWell versed with necessary data preprocessing and feature engineering skills.\\nAt least 2 years of experience implementing Machine learning algorithms such as Random Forest and Gradient Boosting in solving business problems such as Default classification and macroeconomic forecasting.\\nAt least 1 year of experience implementing deep learning techniques like neural networks\\nExposure to deep learning packages like Tensorflow\\nStrong background in Statistical Analysis\\nBackground in BFSI space will be preferredRoles and Responsibilities\\n\\nIf anyone interested, please share your resume to below mail id:-\\n\\nSoundarya.s@manpower.co.in;\\n\\n\\nRoleSoftware Developer\\nIndustry TypeIT Services & Consulting\\nFunctional AreaIT Software - DBA, Datawarehousing\\nEmployment TypeFull Time, Permanent\\nRole CategoryProgramming & Design\\nEducation\\nUG :B.Tech/B.E. in Any Specialization\\nKey Skills\\nTensorflowPredictive ModelingRNeural NetworksMachine LearningStatistical AnalysisDeep LearningPythonRandom ForestSQL',\n",
       " 'Job description\\nUse predictive modeling to increase and optimize customer experiences, revenue generation, campaign optimization and other business outcomes\\nWork with product management to develop data use cases and embed predictive models in workflows on resource constrained platforms and cloud enabled.\\nSelecting features, building and optimizing classifiers using machine learning and deep learning techniques\\nCollaborates with Data Engineers to enhance data collection and ingestion/curation techniques to include information that is relevant for building analytic systems\\nProcessing, cleansing, and verifying the integrity of data used for analysis\\nDevelop processes and tools to monitor and analyze model performance and data accuracy. Life cycle management of predictive models.\\nAdherence to compliance procedures in accordance with regulatory standards, requirements, and policies. Managing and designing the reporting environment, including data sources security, and metadata.\\nJob Qualifications:\\nMaster s degree or PhD in Computer Science, Information management, Statistics or related field, with 3 to 5 years of experience in the Consumer or Healthcare industry manipulating data sets and building predictive models with focus on product development\\nExperience in statistical modelling, machine learning, data mining, unstructured data analytics and natural language processing. Sound understanding of - Bayesian Modelling, Classification Models, Cluster Analysis, Neural Network, Nonparametric Methods, Multivariate Statistics, etc.\\nStrong hands on knowledge of ML techniques like regression algorithms, K-NN, Na ve Bayes, SVM and ensemble techniques like Random forest, AdaBoost etc\\nHaving strong knowledge in unsupervised learning algorithms using Neural networks and Deep-Learning\\nStrong knowledge in Data Wrangling and Exploration techniques to identify the patterns, trends and outliners.\\nDeep knowledge and practical experience with data science toolkits, such as NumPy, Pandas, scikit-learn or equivalent\\nExperience with data visualization tools, such as QlikView, Matplotlib, seaborn or equivalent tools.\\nProficiency in using query languages, such as SQL, PL/SQL\\nHands on experience in the one or more databases like Hadoop, AWS Redshift, Snowflake etc.\\nGood applied statistics skills, such as distributions, statistical testing, regression, etc.\\nGood ETL scripting and programming skills, such as Python, R or Scala to integrate developed solution into the proposition.\\nA team player capable of working and integrating across cross-functional team for implementing project requirements. Experience in technical requirements gathering and documentation.\\nAbility to work effectively and independently in a fast-paced global collaborative agile team environment with tight deadlines\\nA flexible, pragmatic and collaborative team player with innate ability to engage with stakeholders at all levels in the organization.\\nA self-starter with high levels of drive, energy, resilience and a desire for professional excellence with a passion for data and data science\\nRoleClinical Research Associate/Scientist\\nIndustry TypeMedical Services / Hospital\\nFunctional AreaMedical, Healthcare, R&D, Pharmaceuticals, Biotechnology\\nEmployment TypeFull Time, Permanent\\nRole CategoryR&D\\nEducation\\nUG :Any Graduate\\nPG :Post Graduation Not Required\\nKey Skills\\nProduct managementComputer sciencemetadataMachine learningAgilePLSQLHealthcareQlikViewData miningPython',\n",
       " 'Job description\\nYour Responsibility\\nDevelop the algorithms to generate better demand forecast\\nUse predictive modeling methods for demand forecasting\\nDevelop the production level code for implementation of algorithms\\nResearch on the newer technologies and algorithms, to improve forecast accuracy\\nDesign the Data Science experiments, execute them and record the results\\nAdopt Wal-Mart s quality standards and develop and recommend process standards and best practices across the retail industry\\nResearch, learn adapt new technologies to solve problems improve existing solutions\\nParticipate in events to build innovative solutions\\nAdhere to company policies, procedures, mission, values, and standards of ethics and integrity.\\nOur Ideal Candidate\\nTechnical strong, proficient in Data Science (Algorithms and programming - R, Python) well versed with Data Science toolkits (Scikit-learn, Tensorflow) and basic Data Engineering toolkit (data.table, pandas).\\nHigh performing associate with excellent communication skills, proven skill sets for building high performance Data Science teams that can work across multiple geographies, with strong customer focus and deliver across multiple technologies\\nYour Qualifications\\nB.E/B.Tech from a reputed institution\\nMinimum of 3 years of Data Science Experience\\nCommand over atleast one of the Languages extensively used by Data Scientists - R, Python\\nGood understanding of predictive modelling techniques - Linear/Non-Linear Models, Ensemble methods, Kernel Methods, Artificial Neural Networks\\nGood Understanding of optimization techniques - NN, Gradient Descent, Genetic Algorithms\\nHand-on experience in Data Preperation tools - pandas, data.table\\nGood understanding in Big Data Ecosystem - Hadoop and Spark\\nShould be a fast learner and quickly adapt to new technologies.\\nPrefer individuals with High Ownership and commitment.\\nRoleSoftware Developer\\nIndustry TypeIT Services & Consulting\\nFunctional AreaIT Software - Application Programming, Maintenance\\nEmployment TypeFull Time, Permanent\\nRole CategoryProgramming & Design\\nEducation\\nUG :B.Tech/B.E. in Production/Industrial\\nPG :Any Postgraduate\\nKey Skills\\nRetaildata scienceNeural networkssparkHadoopPredictive modelingbig dataForecastingPython',\n",
       " 'Job description\\nYour Opportunity\\nTo fulfill the charter of AdTech, there is need for top notch talent in the Sciences space. You would be working on challenging problems in Data Science, NLP leveraging ML and DL and in Optimisation. All of the problems will require building solutions at Walmart scale. The best part of this is that your solutions/models will generate tangible and immediate business impact.\\nYour Responsibility\\nAs a Principal Data Scientist for Walmart Global Tech, you ll be required to shape and deliver on the Advertising Sciences charter.\\nLeading a team of data scientists and machine learning engineers to develop, implement, and test scalable solutions for advertising science domain.\\nMentor peers and junior members and handle multiple projects at the same time.\\nManage the continuous improvement of data science and machine learning led initiatives by following industry best practices and staying up-to-date with and extending the state-of-the-art in data science research.\\nExcellent academic or industrial track record of proposing, conducting and reporting results of original research, plus collaborative research with publications\\nEngage and partner with universities, institutes and vendor partners to bring in ideas and innovation into the labs environment.\\nParticipate and speak at various external forums such as ML / AI conferences.\\nPromote and support company policies, procedures, mission, values, and standards of ethics and integrity\\nOur Ideal Candidate\\nYou are a technically strong and high performing individual with excellent communication skills, proven analytical skills and strong customer focus. You stay updated with latest research and technology ideas, and have a passion to utilize innovative ways to solve problems.\\nYou have published in top peer-reviewed international journals and conferences in Machine Learning such as ICML, NeurIPS, CVPR, CODS-COMAD, KDD etc. You are a good story-teller and able to simply articulate the intricacies of your models as well as explain your results clearly to stakeholders.\\nYou have industry knowledge of the display advertising space, with keen interest in keeping up to date on the latest happenings in this space. You have a strong interest in Mathematics and Statistics which form the core foundation of what we do in Advertising Science.\\nYour Qualifications\\nMasters with > 14 years of relevant experience OR PhD in Computer Science with > 10 years of relevant experience.\\nYour Core Skills\\nSound knowledge of statistical learning and deep learning concepts\\nExpert in ML (decision trees, random forests, boosting, etc.) and DL (CNNs, RNNs, attention mechanisms, etc.)\\nExtensive experience building and deploying state of the art models in the field of NLP (NER, embeddings, language models, etc.)\\nStrong foundational knowledge in math, statistics and calculus\\nSound knowledge of managing data for experiments (sampling, labelling, EDA, etc.)\\nProficiency in experimental design and A/B testing\\nExperience working with large data sets in big data environments (preferably Hadoop based)\\nWorking proficiency in Python, SQL and Linux/UNIX environments\\nExposure to big data processing stack e.g Apache spark\\nExposure in mentoring senior data scientists on approach and results.\\nAdded Advantages\\nPrior work in any of the following areas: mathematical optimization, reinforcement learning, recommendation system, time series analysis and forecasting\\nExperience in online display advertising domain\\nRoleTeam Lead/Technical Lead\\nIndustry TypeIT Services & Consulting\\nFunctional AreaIT Software - Application Programming, Maintenance\\nEmployment TypeFull Time, Permanent\\nRole CategoryProgramming & Design\\nEducation\\nUG :Any Graduate\\nPG :Any Postgraduate\\nKey Skills\\nUnixComputer scienceLinuxMachine learningData processingData miningForecastingAnalyticsSQLPython',\n",
       " 'Job description\\nYour Opportunity\\nTo fulfill the charter of MINT, there is need for top notch talent in the Sciences space. You would be working on challenging problems in NLP leveraging ML and DL and in optimization. All of the problems will require building solutions at Walmart scale. The best part of MINT is that your solutions/models will generate tangible and immediate business impact.\\nYour Responsibility\\nAs a Principal Data Scientist for Walmart Global Tech, you ll be required to shape and deliver on the MINT sciences charter.\\nLeading a team of data scientists and machine learning engineers to develop, implement, and test scalable solutions for marketing intelligence domain.\\nConsult with business stakeholders across stores and ecommerce businesses regarding algorithm-based recommendations and be a thought-leader to develop these into business actions.\\nMentor peers and junior members and handle multiple projects at the same time.\\nManage the continuous improvement of data science and machine learning led initiatives by following industry best practices and staying up-to-date with and extending the state-of-the-art in data science research.\\nExcellent academic or industrial track record of proposing, conducting and reporting results of original research, plus collaborative research with publications\\nEngage and partner with universities, institutes and vendor partners to bring in ideas and innovation into the labs environment.\\nParticipate and speak at various external forums such as ML / AI conferences.\\nPromote and support company policies, procedures, mission, values, and standards of ethics and integrity\\nOur Ideal Candidate\\nYou are a technically strong and high performing individual with excellent communication skills, proven analytical skills and strong customer focus. You stay updated with latest research and technology ideas, and have a passion to utilize innovative ways to solve problems.\\nYou have published in top peer-reviewed international journals and conferences in Machine Learning such as ICML, NeurIPS, CVPR, etc. You are a good story-teller and able to simply articulate the intricacies of your models as well as explain your results clearly to stakeholders. You have industry knowledge of the retail space, with keen interest in keeping up to date on the latest happenings in this space.\\nYour Qualifications\\nBachelor s with > 15 years of relevant experience OR Masters with > 12 years of relevant experience OR PhD in Computer Science with > 10 years of relevant experience.\\nYour Core Skills\\nSound knowledge of advanced machine learning and deep learning concepts\\nExpert in ML (decision trees, random forests, boosting, etc.) and DL (CNNs, RNNs, attention mechanisms, etc.)\\nExtensive experience building and deploying state of the art models in the field of NLP (NER, embeddings, language models, etc.)\\nStrong foundational knowledge in math, statistics and calculus\\nSound knowledge of managing data for experiments (sampling, labelling, EDA, etc.)\\nProficiency in experimental design and A/B testing\\nExperience working with large data sets in big data environments (preferably Hadoop based)\\nWorking proficiency in Python, SQL and Linux/UNIX environments\\nExposure in mentoring senior data scientists on approach and results.\\nAdded Advantages\\nPrior work in any of the following areas: computer vision, mathematical optimization, reinforcement learning.\\nExperience in retail domain\\nRoleTeam Lead/Technical Lead\\nIndustry TypeIT Services & Consulting\\nFunctional AreaIT Software - Application Programming, Maintenance\\nEmployment TypeFull Time, Permanent\\nRole CategoryProgramming & Design\\nEducation\\nUG :Any Graduate\\nPG :Any Postgraduate\\nKey Skills\\nUnixComputer scienceComputer visionLinuxMachine learningOpen sourceAnalyticsTestingSQLPython',\n",
       " 'Job description\\n  The Automotive Supply Chain and Technology team at IHS Markit is in search of a Data Scientist to support New Product Development and global teams ongoing research and analysis efforts. The research team produces granular forecast dataset and written analyses on the supply chain of parts supplied to automakers with technology, supplier and logistic information. The team generate forecasts on technology trends through multiple research channels and by using many connected and disconnected data sources to drive the forecast.\\nThe position covers an array of critical data-centric activities aimed at enhancing the efficiency of our 70+ strong research team, sustaining the increasing data complexity and most importantly supporting new product development at one of IHS Markits fastest growing product lines. The position is based in Gurgaon or Bangalore, India and reports to our Regional Head of operations in India.\\nResponsibilities and duties\\nUnderstanding business requirements to create maintainable workflows e.g. inbound/input data from analysts and external sources to feed a set of interconnected data sets and calculations\\nData wrangling and data mining to support product innovation and model creation\\nETL process design, implementation, maintenance and documentation for large inter-connected data sets\\nData cleaning and manipulation of raw data\\nCreation of logical and physical data models\\nUtilize existing database infrastructures as well as building new DB infrastructures as required\\nData acquisition exploration\\nCreate and maintain detailed documentation of workflows\\nHarness machine learning and statistical modelling with a view to enhance automation, reduce manual data interaction from research team and develop new insightful products\\nIdentifying, assembling, and enriching a wide range of structured and unstructured data to support new automotive forecasts and analysis.\\nCreation of logical and physical data models (including creation of workflows in data science platforms such as KNIME)\\nQualifications and skills\\n3+ years experience as a data scientist\\nAt minimum, a degree in computer science, computer engineering or a related quantitative field with proven work experience in the data engineering/scientist field\\nProven experience with SQL and NoSQL databases like Oracle DB, SQL Server, Cassandra, MongoDB, MySQL, Hadoop, Spark, AWS (EC2 and S3)\\nProven experience with one or more programming/scripting languages (e.g. Python, C++, R, Matlab, Scala).\\nFamiliar with techniques to manage large databases, including partitioning, compression and indexes as well as data mining\\nAbility to build models (e.g. Linear regression, logistic, Markov models) and use one or more machine learning library/frameworks (e.g. Scikit-learn) with a view to solve complex high dimensional data\\nKnowledge of OLAP and ETL processes\\nFamiliarity with data science platforms such as KNIME is a bonus\\nKnowledge of API creation and maintenance\\nEstablished MS Office skills (including VBA and Access) , O365 desirable\\nGood communication skills, collaborative team spirit, curiosity to constantly keep thinking of unique approaches and solutions.\\nAbility to work independently.\\nExperience committing to deadlines whilst multi-tasking\\nRoleHead/VP/GM-Quality\\nIndustry TypeIT Services & Consulting\\nFunctional AreaIT Software - Application Programming, Maintenance\\nEmployment TypeFull Time, Permanent\\nRole CategorySenior Management\\nEducation\\nUG :Any Graduate\\nPG :Any Postgraduate\\nKey Skills\\nSupply chainProcess designComputer scienceC++AutomationMySQLMS OfficeOracleData miningSQL',\n",
       " 'Job description\\n  Engage with Analytics Business Partners (ABP) and customers to understand the problem statement, required data and analytics insights to solve a given business problem.\\nPerform ETL, data cleansing and feature engineering to prepare data required for Rapid Learning Cycle (RLC) projects.\\nPerform EDA and work with SMEs to establish data understanding and address data quality issues.\\nPartner with other data scientists in AAO and Asia factories to build advanced statistical, AI and ML models that are congruent with the problem being solved and optimize for performance.\\nWork closely with ML Engineers and Solution Architects in AAO to seamlessly operationalize models developed from RLC to Pilot to Production.\\nPresent findings recommendations to project stakeholders.\\nBe up to date on latest technological advancements in AI/ML space through self-learning, literature research, relevant conferences etc.\\nProvide input to technical direction of AAO Data Science teams.\\nProactively network with other data scientists and analytics professionals in WDC India to identify collaboration opportunities.\\nPreferred Qualifications:\\nBS/MS/PhD in a quantitative discipline (e.g., Computer Science, Data Science, Applied Sciences or Engineering).\\nBS 5+ years or MS 4+ years or PhD 1+ year of experience in an analytics function.\\nPrior experience in developing advanced analytics solutions to business problems.\\nStrong theoretical understanding hands-on experience in statistical data analysis, AI ML techniques (e.g., supervised and unsupervised modeling, Deep Learning, CNN, NLP, Time-series analysis) and common data analytics tools (e.g., Python, R, Tensorflow etc).\\nExperience with Database Technologies (SQL, NoSQL), Big Data Technologies (Hadoop, Hive, Spark) and Cloud Technologies (AWS, GCP).\\nAbility to work independently and with team members from different backgrounds.\\nAbility to present complex data and analytics insights in the most effective ways and communicate a compelling story.\\nStrong problem solving and critical thinking skills.\\nPositive attitude towards learning on-the-job and strive in a rapidly changing environment.\\n\\nRoleBio/Pharma Informatics-Associate/Scientist\\nIndustry TypeElectronic Components / Semiconductors\\nFunctional AreaMedical, Healthcare, R&D, Pharmaceuticals, Biotechnology\\nEmployment TypeFull Time, Permanent\\nRole CategoryR&D\\nEducation\\nUG :Any Graduate\\nPG :Any Postgraduate\\nKey Skills\\nData ScienceNlpData ScientistAdvanced AnalyticsOperations ResearchBig DataData AnalyticsSupply ChainDeep LearningPython',\n",
       " 'Job description\\nMentor junior teammates in developing clean, optimized python code.\\nDrive project deliverables, architecture design and code design.\\nMulti-task on multiple projects from different groups.\\nCommunicate project timelines in an agile work environment.\\nGather requirements from multiple stakeholders and prioritize.\\nCreate Python flows\\nWhat You Need for this Position\\nYou should have knowledge of:\\nPython\\nLinear\\nSQL / NoSQL\\nRegression models\\nRoleSoftware Developer\\nIndustry TypeRecruitment / Staffing\\nFunctional AreaIT Software - Application Programming, Maintenance\\nEmployment TypeFull Time, Permanent\\nRole CategoryProgramming & Design\\nEducation\\nUG :B.Sc in Chemistry\\nPG :MS/M.Sc(Science) in Chemistry\\nKey Skills\\nNosqlKey SkillsData ScientistAgilePythonSql',\n",
       " 'Job description\\nAs a Data Scientist for Walmart, you ll have the opportunity to:\\nDrive data-derived insights across a wide range of divisions by developing advanced statistical models, machine learning algorithms and computational algorithms based on business initiatives\\nDirect the gathering of data, assessing data validity and synthesizing data into large analytics datasets to support project goals\\nUtilize big data analytics and advanced data science techniques to identify trends, patterns, and discrepancies in data. Determine additional data needed to support insights\\nBuild and train statistical models and machine learning algorithms\\nApply your semantic, natural language processing and understanding expertise where required\\nUse deep learning and image recognition project goals\\nComputer Vision will be an important focus area for this role\\nProductionize the models and make those available at scale\\nBuild and maintain end to end Machine Learning pipelines\\nBe comfortable with ambiguity and uncertainty and the eagerness to change the world in a huge way by being a self-motivated learner and builder\\nCommunicate recommendations to business partners and influencing future plans based on insights\\nYour Responsibility\\nPlay a key role to solve complex problems, pivotal to Walmart s business and drive actionable insights from petabytes of data\\nUtilize product mindset to build, scale and deploy holistic data science products after successful prototyping\\nDemonstrate incremental solution approach with agile and flexible ability to overcome practical problems\\nPartner with senior team members to assess customer needs and define business questions\\nClearly articulate and present recommendations to business partners, and influence future plans based on insights\\nWork with customer centric mindset to deliver high quality business driven analytic solution\\nDrive innovation in approach, method, practices, process, outcome, delivery, or any component of end-to-end problem solving\\nDemonstrates up-to-date expertise and applies this to the development, execution, and improvement of action plans\\nRoleDatabase Architect/Designer\\nIndustry TypeIT Services & Consulting\\nFunctional AreaIT Software - Other\\nEmployment TypeFull Time, Permanent\\nRole CategoryProgramming & Design\\nEducation\\nUG :Any Graduate\\nPG :Any Postgraduate\\nKey Skills\\nProcurementComputer scienceCloud computingData analysisdata scienceDb2CodingAgileData miningPython',\n",
       " 'Job description\\nRoles and Responsibilities\\nWe are looking for someone who would be responsible for analyzing data and providing business insights. As a Data Scientist your responsibilities will include understanding the business problem and experimenting with different modelling architectures to create the best possible setup from model performance as well as computational performance. To do this job successfully, you need exceptional skills in Machine Learning and Programming. Your ultimate goal will be to find the best data-based solution for the problem at hand.\\nMoreover, you are expected to learn fast and deliver quickly in a fast-paced startup environment. If you thrive on ambiguity and are a problem solver and yet deliver value to clients, feel free to reach out to us.\\nWe are looking ONLY FOR SELF DRIVEN INDIVIDUALS with a desire to excel in Data Science Domain.\\nUnderstanding business objectives and developing models that help to achieve them, along with metrics to track their progress\\nDevelop and maintain robust data processing pipelines and reproducible modeling pipelines\\nBuild mathematical models to solve various problems ranging from Time Series forecasting to Neural Networks and ensure seamless deployment in production pipelines.\\nAnalyze experimental results, iterate and refine models to create significant business impact\\nFollow strict coding standards and other software engineering best practices\\n\\n\\nDesired Candidate Profile\\nProven experience as a Data Scientist or similar role\\nStrong SQL, R/Python Skills\\nShould have familiarity with Machine Learning Models and fundamentals in Forecasting and Optimization Techniques\\nShould have strong mathematical background & analytical bent of mind\\nStrong Problem-Solving Ability\\nAbility to communicate well in a highly collaborative team environment, consisting of both technical and non-technical personnel\\nReliable self-starter that is capable of working with a high degree of autonomy\\n\\n\\nPerks and Benefits\\n\\nNeenOpal is a global management consulting firm with a unique and specialized focus on Data Science.\\nWe provide services across the whole value chain of an organization - Digital Strategy, Sales & Marketing, Supply Chain & Logistics as well as Finance. Youll have a blast doing it in our fun, passionate environment.\\nRoleData scientist\\nIndustry TypeManagement Consulting\\nFunctional AreaIT Software - Other\\nEmployment TypeFull Time, Permanent\\nRole CategoryNot mentioned\\nEducation\\nUG :Any Graduate\\nPG :Any Postgraduate\\nKey Skills\\nData SciencePythonSQL\\nExcelSoftware EngineeringProblem SolvingNeural NetworksTime SeriesData AnalysisBusiness InsightsData ProcessingMachine Learning\\nSkills highlighted with ‘‘ are preferred keyskills',\n",
       " 'Job description\\nHi,\\n\\nWe at Prescience www.prescienceds.com looking for Data Scientist @ Bangalore .\\n\\nRoles and Responsibilities\\nAs a Data Scientist you will be working with senior management of clients to understand the business requirements, define right problem statement and come up with a framework for the solution. You will also work on the solution and at time guide a small team to deliver the same. Part of job role would be develop products in the area of Natural Language Processing, Conversational Interfaces, Text Mining etc.\\n\\nDesired Candidate Profile\\nWhat we are looking for:\\nGood applied statistics skills, such as distributions, statistical testing, regression, etc. Experience in Natural Language Processing, Computer Vision. Exposure to common data science business problems like clustering, classification, anomaly detection, prediction etc.\\nGood understanding of machine learning techniques and algorithms\\nExperience with common data science toolkits Python, R, SAS\\nProficiency in using query languages such as SQL, Hive, etc Experience with NoSQL database, SQL Server, PostgreSQL, MongoDB\\nGreat communication skills\\nData-oriented personality and excellent business analysis skills\\nExperience in solutioning for data science related problems, work with business stakeholders to define right problem statement and solution.\\nOpen to professionals who have data analytics / BI background and then moved to Data Scientist roles.\\n\\nPerks and Benefits\\n\\n\\nRoleOther\\nIndustry TypeIT Services & Consulting\\nFunctional AreaAnalytics & Business Intelligence\\nEmployment TypeFull Time, Permanent\\nRole CategoryOther\\nEducation\\nUG :Any Graduate\\nKey Skills\\nTensorflowPostgreSQLNatural Language ProcessingNeural NetworksMachine LearningStatisticsSQLData ScienceAnomaly DetectionPytorchRNLPMongoDBQlikViewComputer VisionData AnalyticsPython',\n",
       " 'Job description\\nThe position is responsible for research and analysis of data to support proposal strategy, as well as site identification and selection decisions.\\nThe role also plays a vital part in researching, evaluating and implementing state-of-the-art informatics technologies to improve deliverables.\\nSome specific duties include the following\\nUnderstand, guide and challenge the business in order to define analytics/dashboard requirements to drive department strategy\\nModel and transform complex datasets to enable optimal and scalable visualization and analytical options.\\nDevelop the right visualisations in a variety of platforms (Spotfire, Power BI, Tableau etc) to enable clear and concise messaging to business users at different levels in the organization.\\nCreate custom visualization types to complement out of the box standards\\nEffective management of concurrent projects to ensure rapid development and deployment.\\nSupport proposal development, feasibility and site identification projects through the application of data and analytics expertise.\\nUse analytical tools to assess known and unknown information, uncertainties, and assumptions to provide probabilistic estimation of risks to study and program execution.\\nCommunicate value of informatics tools to users and train them in the use of such tools.\\nQuery relevant databases, including clinical trial registry tools and internal sources, and research various literature sources to support preparation of robust feasibility, site identification and selection deliverables.\\nUse analytical expertise to prepare risk benefit analyses and decision making criteria, while identifying opportunities to reduce cost without compromising quality.\\nRoleClinical Research Associate/Scientist\\nIndustry TypePharmaceutical & Life Sciences\\nFunctional AreaMedical, Healthcare, R&D, Pharmaceuticals, Biotechnology\\nEmployment TypeFull Time, Permanent\\nRole CategoryR&D\\nEducation\\nUG :Any Graduate\\nPG :Any Postgraduate\\nKey Skills\\nanalyticsvisualizationdashboard',\n",
       " 'Job description\\nThe Data Engineer is responsible for supporting Snaplogic ETL, AWS Redshift, RDS, and Aurora environments, exploring performance improvement opportunities, and troubleshooting data ingestion and user queries issues. This individual will perform typical database administrative tasks such as managing user accounts, monitoring system capacity usage and performance, balancing system workload, identifying root cause of issues raised by users and provide solution proposals, as well as supporting and enhancing data ingestion processes developed by other development teams.\\nThis individual will work with business users to identify performance improvement opportunities and implement them in the order based upon urgency and priority. In addition, this individual will identify data integration, ETL and quality issues, investigate issues identified by others, research and implement solutions to correct problems (at the source where possible), collaborate with developers to correct historical data, develop reports and monitoring programs, and execute data integration initiatives.\\nJob Responsibilities:\\nManage user accounts and security in the Redshift, RDS, and Aurora environments\\nMonitor and manage system workloads in order to keep all the systems running smoothly and minimize bottlenecks.\\nConfigure system connections between data sources and targets.\\nAssist users in debugging query failure issues and data quality problems\\nAnalyze objects such as tables and views designed and deployed by the development teams and users, provide best practice solution proposals\\nAnalyze queries from users, identify performance improvement opportunities, and assist users to improve performance\\nAnalyze and manage disk space usages by users, and provide best practice to development teams and business users\\nMaintain, modify and enhance data ingestion processes per development teams request\\nDevelop and deploy data load processes per business users request, including tables, views, and data load ETL pipelines design and development\\nCreate native connections between Redshift, RDS, and Aurora\\nDevelop and maintain metrics programs to monitor system usages and performance\\nManage data Redshift archiving processes\\nDevelop Redshift Spectrum objects\\nSupport Engineering and Manufacturing Datawarehouse and related data systems and initiatives\\nSolve moderate to complex data quality/ data integration problems\\nRecognize and investigate anomalies and propose solutions\\nResearch and recommend innovative, and where possible automated, approaches for data issues\\nMonitor ETL pipelines, troubleshoot and address any issues.\\nLiaison with business users and Subject matter Experts to find permanent solution to recurring issues.\\nWork closely with managed service providers in streamlining production support processes.\\nRequired Qualifications:\\nBachelor s degree in computer science, Information Systems, (or a related field) or a minimum of seven years of relevant professional experience and training\\n7 to 9 years Data Engineer or Support Engineer roles\\n3+ year AWS Redshift experience\\n2+ year experience in performance tuning and optimization of any SQL databases\\n3+ year supporting ETL packaged software like Informatica or SnapLogic\\nFamiliarity with concept of and experiences in performance tuning approaches related to MPP databases\\nProficient in SQL\\nExperiences in data modeling, including logical and physical design, normalization and denormalization\\nExpertise in performance tuning in one or more RDBMS such as Postgres, MySQL, Oracle, DB2, MS SQL, etc.\\nExperiences in programing tools such as Linux shell scripting, Python, Java, etc.\\nExperiences in analysis, Design, Development and Implementation of ETL and exposure to any commercial ETL tools (Snaplogic, Informatica, Alteryx, Matillion) and reporting (Tableau, Spotfire) tools will be an advantage but not mandatory.\\nEffectively and efficiently work with an enterprise environment involving very large data sets - millions of records in both databases and flat files\\nExperienced in requirements analysis, design, and development in the data Management application areas\\nResponsible for working with cross-functional and cross-organizational teams to understand issues, implement solutions, and influence others to implement solutions\\nAble to be comfortable in a fast-paced environment with constantly shifting priorities and a mix of quick hit, short, medium and long-term projects of varying priorities\\nHigh-tech, or manufacturing industry experience preferred but not required\\nExcellent communication, facilitation, and interpersonal relations skills required\\nRoleDBA\\nIndustry TypeElectronic Components / Semiconductors\\nFunctional AreaIT Software - Application Programming, Maintenance\\nEmployment TypeFull Time, Permanent\\nRole CategoryAdmin/Maintenance/Security/Datawarehousing\\nEducation\\nUG :Any Graduate\\nPG :Any Postgraduate\\nKey Skills\\nJavaEtl ToolsShell ScriptingData ManagementData ModelingInformaticaPerformance TuningMs SqlPythonData Integration',\n",
       " 'Job description\\n- Drive data-derived insights across the wide range of retail divisions by developing advanced statistical models, machine learning algorithms and computational algorithms based on business initiatives\\n- Direct the gathering of data, assessing data validity and synthesizing data into large analytics datasets to support project goals\\n- Utilize big data analytics and advanced data science techniques to identify trends, patterns, and discrepancies in data. Determine additional data needed to support insights\\n- Build and train statistical models and machine learning algorithms for replication for future projects\\n- Communicate recommendations to business partners and influencing future plans based on insights\\nPosition Requirements\\no Very good knowledge of the foundations of machine learning and statistics\\no Experience in analyzing the Complex Problems and translate it into data science algorithms\\no Experience in machine learning, supervised and unsupervised and deep learning\\no Experience with big data analytics - identifying trends, patterns, and outliers in large volumes of data\\no Strong Experience with one or more of Python and R\\no Strong Experience with big data platforms - Hadoop (Hive, Pig, Map Reduce, HQL, Scala)\\no Experience with SQL and relational databases, data warehouse\\nQualifications\\no Bachelors with > 5 years of experience / Master s degree with > 3 years of experience. Educational qualifications should be preferably in Computer Science or a related area. Experience should be relevant to the role.\\nGood to have:\\no Experience in ecommerce domain.\\no Demonstrated success in data science platforms like Kaggle.\\nRoleTeam Lead/Technical Lead\\nIndustry TypeIT Services & Consulting\\nFunctional AreaIT Software - DBA, Datawarehousing\\nEmployment TypeFull Time, Permanent\\nRole CategoryProgramming & Design\\nEducation\\nUG :Any Graduate\\nPG :Any Postgraduate\\nKey Skills\\nComputer scienceData analysisdata sciencebig data analyticsMachine learningSCALAE-commercebig dataSQLPython']"
      ]
     },
     "execution_count": 46,
     "metadata": {},
     "output_type": "execute_result"
    }
   ],
   "source": [
    "job_descriptions.remove(job_descriptions[6])   \n",
    "job_descriptions"
   ]
  },
  {
   "cell_type": "code",
   "execution_count": 49,
   "id": "cd31537f",
   "metadata": {},
   "outputs": [
    {
     "data": {
      "text/plain": [
       "['Job description\\nAs a Senior Data Scientist for Walmart, you ll have the opportunity to:\\nDrive data-derived insights across a wide range of divisions by developing advanced statistical models, machine learning algorithms and computational algorithms based on business initiatives\\nDirect the gathering of data, assessing data validity and synthesizing data into large analytics datasets to support project goals\\nUtilize big data analytics and advanced data science techniques to identify trends, patterns, and discrepancies in data. Determine additional data needed to support insights\\nBuild and train statistical models and machine learning algorithms\\nApply your semantic, natural language processing and understanding expertise where required\\nUse deep learning and image recognition project goals\\nComputer Vision will be an important focus area for this role\\nProductionize the models and make those available at scale\\nBuild and maintain end to end Machine Learning pipelines\\nBe comfortable with ambiguity and uncertainty and the eagerness to change the world in a huge way by being a self-motivated learner and builder\\nCommunicate recommendations to business partners and influencing future plans based on insights\\nYour Responsibility\\nPlay a key role to solve complex problems, pivotal to Walmart s business and drive actionable insights from petabytes of data\\nUtilize product mindset to build, scale and deploy holistic data science products after successful prototyping\\nDemonstrate incremental solution approach with agile and flexible ability to overcome practical problems\\nPartner with senior team members to assess customer needs and define business questions\\nClearly articulate and present recommendations to business partners, and influence future plans based on insights\\nWork with customer centric mindset to deliver high quality business driven analytic solution\\nDrive innovation in approach, method, practices, process, outcome, delivery, or any component of end-to-end problem solving\\nDemonstrates up-to-date expertise and applies this to the development, execution, and improvement of action plans\\nPreferred Qualifications\\nBachelors degree in Statistics, Mathematics, Computer Science or a related field and 8 years experience in an analytics/DS related field, or,\\nMasters degree in Statistics, Mathematics, Computer Science or a related field and 6 years experience in an analytics/DS related field.\\nHigh proficiency in data mining, modeling, validation and insight generation.\\nExcellent working knowledge of statistics, mathematics, machine learning, data mining, deep learning\\nHigh proficiency in coding including Python and SQL\\nExperience with databases (for example, DB2, Oracle, SQL Server)\\nExperience with Big Data technologies such as Pig, Hive and/or Spark\\nAbility to work with large data sets. Has sound understanding of big data technology stack\\nUnderstanding of cloud computing platforms and large-scale databases\\nProven ability to collaborate and work in teams\\nExcellent with communications and stakeholder engagement\\nData science publications in recognized platforms/journals\\nProven ability to work in agile mode on data science sprint projects\\nRoleDatabase Architect/Designer\\nIndustry TypeIT Services & Consulting\\nFunctional AreaIT Software - DBA, Datawarehousing\\nEmployment TypeFull Time, Permanent\\nRole CategoryProgramming & Design\\nEducation\\nUG :Any Graduate\\nPG :Any Postgraduate\\nKey Skills\\nProcurementComputer scienceCloud computingData analysisdata scienceDb2CodingAgileData miningPython',\n",
       " 'Job description\\nDesign, coordinate, and implement data driven business and technology solutions to support innovation initiatives\\nCommunicate complex models, analysis and recommendations in a clear and precise manner\\nProvide thought leadership in statistical modeling and machine learning/ AI. NLP and Deep Learning are the two focus areas\\nDeliver actionable insights to stakeholders through rich visualization and presentation\\nManage priorities between research and deliverables effectively\\nCollaborate actively with topic owners to understand and develop advanced analytics / data science\\nYour Qualifications\\nBachelor s degree in Engineering / Analytics or Master s Degree in Statistics/Computer Applications/ IT/Analytics /any discipline related to Data Science / Analytics.\\n7 years of progressive experience in Machine learning/Deep learning preferably working with packages like NLTK, BERT, ELMo etc\\nFluent in Python and have experience with NLP libraries like , Spacy, Genism, Glove, doc2vec etc.\\nExposure to Microsoft LUIS will be preferred\\nPossess advanced knowledge of the HuggingFace libraries and concepts like tokens, tokenization, stemming, lemmatization, regex.\\nSolid command on statistics and ability to connect theory and practice of data mining, machine learning to solve real-world use case\\nl Strong working knowledge of Python (BERT, GPT, genism, SpaCy, tensorflow, Theano, PyTorch, SciPy, scikit-learn, pandas), SQL, Unix (awk, sed, bash) for data wrangling, data analysis, modeling.\\nKnowledgeable in Natural Language processing (NLP) and quantitative analysis\\nPrevious experience building chatbots for Customer Service / specific business verticals (Bonus)\\nInteresting side projects or Kaggle competition results (Bonus)\\nExcellent critical thinking ability, result orientation and project management skills\\nSound verbal and written communication skills\\nRoleSystem Analyst\\nIndustry TypeIT Services & Consulting\\nFunctional AreaIT Software - DBA, Datawarehousing\\nEmployment TypeFull Time, Permanent\\nRole CategoryProgramming & Design\\nEducation\\nUG :B.Tech/B.E. in Production/Industrial\\nPG :M.Tech in Production/Industrial\\nKey Skills\\nUnixData analysisMachine learningCustomer supportCustomer serviceData miningmicrosoftAnalyticsSQLPython',\n",
       " 'Job description\\nPosition Responsibilities\\no Solve business problems by applying advanced Machine Learning algorithms and complex statistical models on large volumes of data.\\no Build, scale and deploy holistic data science products after successful prototyping.\\no Clearly articulate and present recommendations to business partners, and influence future plans based on insights.\\no Follow industry best practices, stay up to date with the state of the art in machine learning research and practice, drive innovation by contributing to the latest applied research in data science through publications and patents.\\no Promote and support company policies, procedures, mission, values, and standards of ethics and integrity.\\nPosition Requirements\\no Deep knowledge of the foundations of machine learning and statistics - can easily understand and implement a machine learning research paper.\\no Solid experience working with state-of-the-art supervised and unsupervised machine learning algorithms on real-world problems, preferably in ecommerce domain.\\no Strong Python coding skills and able to work with at least one other programming language such as Java/Scala.\\no Ability to work in a big data ecosystem - expert in SQL/Hive and ability to work with Spark.\\no Strong ability to understand the business and good stakeholder management capabilities.\\nQualifications\\no PhD with > 2 years of experience / 4-year bachelor s degree with > 7 years of experience / Master s degree with > 5 years of experience. Educational qualifications should be preferably in Computer Science or a related area. Experience should be relevant to the role.\\nGood to have:\\no Experience in ecommerce domain.\\no Demonstrated success in data science platforms like Kaggle.\\nRoleTeam Lead/Technical Lead\\nIndustry TypeIT Services & Consulting\\nFunctional AreaIT Software - Other\\nEmployment TypeFull Time, Permanent\\nRole CategoryProgramming & Design\\nEducation\\nUG :Any Graduate\\nPG :Any Postgraduate\\nKey Skills\\nComputer sciencedata scienceCodingMachine learningSCALAE-commerceStakeholder managementAnalyticsSQLPython',\n",
       " 'Job description\\nHello,\\nWe are hiring on behalf of one of the largest BPO/ Consulting services.\\nThe skills rquired are Natural Language Processing, Python, Data Science and Machine Learning.\\n\\nTitle: Manager / Sr. Manager\\nLocation:Bangalore , Gurugram, Mumbai\\nDuration : Fulltime\\nMax Notice:1 Month\\nRoleHead/VP/GM - Analytics & BI\\nIndustry TypeRecruitment / Staffing\\nFunctional AreaAnalytics & Business Intelligence\\nEmployment TypeFull Time, Permanent\\nRole CategorySenior Management\\nEducation\\nUG :Any Graduate\\nPG :Any Postgraduate\\nDoctorate :Any Doctorate\\nKey Skills\\nData ScienceNatural Language ProcessingMachine LearningPython',\n",
       " 'Job description\\n\\nCRISIL (formerly Credit Rating Information Services of India Limited) is an Indian analytical company providing ratings, research, and risk and policy advisory services and is a subsidiary of American company S&P Global\\n\\nWe are looking Data Scientist for Mumbai & Bangalore location\\nCandidates who can join immediately or within 30-45 need only apply\\n\\nPlease refer below JD for your reference-\\n\\nJob Description Data scientist:\\nClient oriented approach to problem solving. Individual should be able to have a holistic view of multiple businesses and develop analytic solutions accordingly.\\nOwn and deliver multiple and complex analytic projects. This would require an understanding of business context, conversion of business problems in modeling, and implementing such solutions to create business value.\\nAlways up to date with the latest use cases of modeling community, machine learning and deep learning algorithms and share knowledge within the team.\\nProficiency in basic statistics, hypothesis testing, segmentation and predictive modeling.\\nAbility to translate and articulate technical thoughts and ideas to a larger audience including influencing skills with peers and senior management.\\nStrong project management skills.\\nAbility to coach and mentor juniors.\\nEagerness to work on new and challenging tasks on a regular basis with an ability to research new ways of doing things better/efficiently.\\nContribute to organizational initiatives in wide ranging areas including competency development, training, organizational building activities etc.\\nSkills\\n\\nBasic Qualifications\\n\\nBachelors Degree with 2+ years of experience in data analytics,\\nHands-on experience in Python / SAS or R programing along with strong experience in SQL and Excel Macros.\\nExperienced in working with large and multiple datasets, data warehouses and ability to pull data using relevant programs and coding.\\nWell versed with necessary data preprocessing and feature engineering skills.\\nAt least 2 years of experience implementing Machine learning algorithms such as Random Forest and Gradient Boosting in solving business problems such as Default classification and macroeconomic forecasting.\\nAt least 1 year of experience implementing deep learning techniques like neural networks\\nExposure to deep learning packages like Tensorflow\\nStrong background in Statistical Analysis\\nBackground in BFSI space will be preferred\\n\\nRoleData Analyst\\nIndustry TypeBanking\\nFunctional AreaAnalytics & Business Intelligence\\nEmployment TypeFull Time, Permanent\\nRole CategoryAnalytics & BI\\nEducation\\nUG :Any Graduate\\nPG :Any Postgraduate\\nKey Skills\\nrMachine LearningPython\\nTensorflowPredictive ModelingSegmentationNeural NetworksDeep LearningRandom ForestSQL\\nSkills highlighted with ‘‘ are preferred keyskills',\n",
       " 'Job description\\nDepartment- BIRS (Business Intelligence Risk Solutions)\\n\\nJD Statistical Analyst/ Data scientist:\\nClient oriented approach to problem solving. Individual should be able to have a holistic view of multiple businesses and develop analytic solutions accordingly.\\nOwn and deliver multiple and complex analytic projects. This would require an understanding of business context, conversion of business problems in modeling, and implementing such solutions to create business value.\\nAlways up to date with the latest use cases of modeling community, machine learning and deep learning algorithms and share knowledge within the team.\\nProficiency in basic statistics, hypothesis testing, segmentation and predictive modeling.\\nAbility to translate and articulate technical thoughts and ideas to a larger audience including influencing skills with peers and senior management.\\nStrong project management skills.\\nAbility to coach and mentor juniors.\\nEagerness to work on new and challenging tasks on a regular basis with an ability to research new ways of doing things better/efficiently.\\nContribute to organizational initiatives in wide ranging areas including competency development, training, organizational building activities etc.\\nBasic Qualifications\\n\\nBachelor’s Degree with 2+ years of experience in data analytics,\\nHands-on experience in Python / SAS or R programing along with strong experience in SQL and Excel Macros.\\nExperienced in working with large and multiple datasets, data warehouses and ability to pull data using relevant programs and coding.\\nWell versed with necessary data preprocessing and feature engineering skills.\\nAt least 2 years of experience implementing Machine learning algorithms such as Random Forest and Gradient Boosting in solving business problems such as Default classification and macroeconomic forecasting.\\nAt least 1 year of experience implementing deep learning techniques like neural networks\\nExposure to deep learning packages like Tensorflow\\nStrong background in Statistical Analysis\\nBackground in BFSI space will be preferredRoles and Responsibilities\\n\\nIf anyone interested, please share your resume to below mail id:-\\n\\nSoundarya.s@manpower.co.in;\\n\\n\\nRoleSoftware Developer\\nIndustry TypeIT Services & Consulting\\nFunctional AreaIT Software - DBA, Datawarehousing\\nEmployment TypeFull Time, Permanent\\nRole CategoryProgramming & Design\\nEducation\\nUG :B.Tech/B.E. in Any Specialization\\nKey Skills\\nTensorflowPredictive ModelingRNeural NetworksMachine LearningStatistical AnalysisDeep LearningPythonRandom ForestSQL',\n",
       " 'Job description\\nUse predictive modeling to increase and optimize customer experiences, revenue generation, campaign optimization and other business outcomes\\nWork with product management to develop data use cases and embed predictive models in workflows on resource constrained platforms and cloud enabled.\\nSelecting features, building and optimizing classifiers using machine learning and deep learning techniques\\nCollaborates with Data Engineers to enhance data collection and ingestion/curation techniques to include information that is relevant for building analytic systems\\nProcessing, cleansing, and verifying the integrity of data used for analysis\\nDevelop processes and tools to monitor and analyze model performance and data accuracy. Life cycle management of predictive models.\\nAdherence to compliance procedures in accordance with regulatory standards, requirements, and policies. Managing and designing the reporting environment, including data sources security, and metadata.\\nJob Qualifications:\\nMaster s degree or PhD in Computer Science, Information management, Statistics or related field, with 3 to 5 years of experience in the Consumer or Healthcare industry manipulating data sets and building predictive models with focus on product development\\nExperience in statistical modelling, machine learning, data mining, unstructured data analytics and natural language processing. Sound understanding of - Bayesian Modelling, Classification Models, Cluster Analysis, Neural Network, Nonparametric Methods, Multivariate Statistics, etc.\\nStrong hands on knowledge of ML techniques like regression algorithms, K-NN, Na ve Bayes, SVM and ensemble techniques like Random forest, AdaBoost etc\\nHaving strong knowledge in unsupervised learning algorithms using Neural networks and Deep-Learning\\nStrong knowledge in Data Wrangling and Exploration techniques to identify the patterns, trends and outliners.\\nDeep knowledge and practical experience with data science toolkits, such as NumPy, Pandas, scikit-learn or equivalent\\nExperience with data visualization tools, such as QlikView, Matplotlib, seaborn or equivalent tools.\\nProficiency in using query languages, such as SQL, PL/SQL\\nHands on experience in the one or more databases like Hadoop, AWS Redshift, Snowflake etc.\\nGood applied statistics skills, such as distributions, statistical testing, regression, etc.\\nGood ETL scripting and programming skills, such as Python, R or Scala to integrate developed solution into the proposition.\\nA team player capable of working and integrating across cross-functional team for implementing project requirements. Experience in technical requirements gathering and documentation.\\nAbility to work effectively and independently in a fast-paced global collaborative agile team environment with tight deadlines\\nA flexible, pragmatic and collaborative team player with innate ability to engage with stakeholders at all levels in the organization.\\nA self-starter with high levels of drive, energy, resilience and a desire for professional excellence with a passion for data and data science\\nRoleClinical Research Associate/Scientist\\nIndustry TypeMedical Services / Hospital\\nFunctional AreaMedical, Healthcare, R&D, Pharmaceuticals, Biotechnology\\nEmployment TypeFull Time, Permanent\\nRole CategoryR&D\\nEducation\\nUG :Any Graduate\\nPG :Post Graduation Not Required\\nKey Skills\\nProduct managementComputer sciencemetadataMachine learningAgilePLSQLHealthcareQlikViewData miningPython',\n",
       " 'Job description\\nYour Responsibility\\nDevelop the algorithms to generate better demand forecast\\nUse predictive modeling methods for demand forecasting\\nDevelop the production level code for implementation of algorithms\\nResearch on the newer technologies and algorithms, to improve forecast accuracy\\nDesign the Data Science experiments, execute them and record the results\\nAdopt Wal-Mart s quality standards and develop and recommend process standards and best practices across the retail industry\\nResearch, learn adapt new technologies to solve problems improve existing solutions\\nParticipate in events to build innovative solutions\\nAdhere to company policies, procedures, mission, values, and standards of ethics and integrity.\\nOur Ideal Candidate\\nTechnical strong, proficient in Data Science (Algorithms and programming - R, Python) well versed with Data Science toolkits (Scikit-learn, Tensorflow) and basic Data Engineering toolkit (data.table, pandas).\\nHigh performing associate with excellent communication skills, proven skill sets for building high performance Data Science teams that can work across multiple geographies, with strong customer focus and deliver across multiple technologies\\nYour Qualifications\\nB.E/B.Tech from a reputed institution\\nMinimum of 3 years of Data Science Experience\\nCommand over atleast one of the Languages extensively used by Data Scientists - R, Python\\nGood understanding of predictive modelling techniques - Linear/Non-Linear Models, Ensemble methods, Kernel Methods, Artificial Neural Networks\\nGood Understanding of optimization techniques - NN, Gradient Descent, Genetic Algorithms\\nHand-on experience in Data Preperation tools - pandas, data.table\\nGood understanding in Big Data Ecosystem - Hadoop and Spark\\nShould be a fast learner and quickly adapt to new technologies.\\nPrefer individuals with High Ownership and commitment.\\nRoleSoftware Developer\\nIndustry TypeIT Services & Consulting\\nFunctional AreaIT Software - Application Programming, Maintenance\\nEmployment TypeFull Time, Permanent\\nRole CategoryProgramming & Design\\nEducation\\nUG :B.Tech/B.E. in Production/Industrial\\nPG :Any Postgraduate\\nKey Skills\\nRetaildata scienceNeural networkssparkHadoopPredictive modelingbig dataForecastingPython',\n",
       " 'Job description\\nYour Opportunity\\nTo fulfill the charter of AdTech, there is need for top notch talent in the Sciences space. You would be working on challenging problems in Data Science, NLP leveraging ML and DL and in Optimisation. All of the problems will require building solutions at Walmart scale. The best part of this is that your solutions/models will generate tangible and immediate business impact.\\nYour Responsibility\\nAs a Principal Data Scientist for Walmart Global Tech, you ll be required to shape and deliver on the Advertising Sciences charter.\\nLeading a team of data scientists and machine learning engineers to develop, implement, and test scalable solutions for advertising science domain.\\nMentor peers and junior members and handle multiple projects at the same time.\\nManage the continuous improvement of data science and machine learning led initiatives by following industry best practices and staying up-to-date with and extending the state-of-the-art in data science research.\\nExcellent academic or industrial track record of proposing, conducting and reporting results of original research, plus collaborative research with publications\\nEngage and partner with universities, institutes and vendor partners to bring in ideas and innovation into the labs environment.\\nParticipate and speak at various external forums such as ML / AI conferences.\\nPromote and support company policies, procedures, mission, values, and standards of ethics and integrity\\nOur Ideal Candidate\\nYou are a technically strong and high performing individual with excellent communication skills, proven analytical skills and strong customer focus. You stay updated with latest research and technology ideas, and have a passion to utilize innovative ways to solve problems.\\nYou have published in top peer-reviewed international journals and conferences in Machine Learning such as ICML, NeurIPS, CVPR, CODS-COMAD, KDD etc. You are a good story-teller and able to simply articulate the intricacies of your models as well as explain your results clearly to stakeholders.\\nYou have industry knowledge of the display advertising space, with keen interest in keeping up to date on the latest happenings in this space. You have a strong interest in Mathematics and Statistics which form the core foundation of what we do in Advertising Science.\\nYour Qualifications\\nMasters with > 14 years of relevant experience OR PhD in Computer Science with > 10 years of relevant experience.\\nYour Core Skills\\nSound knowledge of statistical learning and deep learning concepts\\nExpert in ML (decision trees, random forests, boosting, etc.) and DL (CNNs, RNNs, attention mechanisms, etc.)\\nExtensive experience building and deploying state of the art models in the field of NLP (NER, embeddings, language models, etc.)\\nStrong foundational knowledge in math, statistics and calculus\\nSound knowledge of managing data for experiments (sampling, labelling, EDA, etc.)\\nProficiency in experimental design and A/B testing\\nExperience working with large data sets in big data environments (preferably Hadoop based)\\nWorking proficiency in Python, SQL and Linux/UNIX environments\\nExposure to big data processing stack e.g Apache spark\\nExposure in mentoring senior data scientists on approach and results.\\nAdded Advantages\\nPrior work in any of the following areas: mathematical optimization, reinforcement learning, recommendation system, time series analysis and forecasting\\nExperience in online display advertising domain\\nRoleTeam Lead/Technical Lead\\nIndustry TypeIT Services & Consulting\\nFunctional AreaIT Software - Application Programming, Maintenance\\nEmployment TypeFull Time, Permanent\\nRole CategoryProgramming & Design\\nEducation\\nUG :Any Graduate\\nPG :Any Postgraduate\\nKey Skills\\nUnixComputer scienceLinuxMachine learningData processingData miningForecastingAnalyticsSQLPython',\n",
       " 'Job description\\nYour Opportunity\\nTo fulfill the charter of MINT, there is need for top notch talent in the Sciences space. You would be working on challenging problems in NLP leveraging ML and DL and in optimization. All of the problems will require building solutions at Walmart scale. The best part of MINT is that your solutions/models will generate tangible and immediate business impact.\\nYour Responsibility\\nAs a Principal Data Scientist for Walmart Global Tech, you ll be required to shape and deliver on the MINT sciences charter.\\nLeading a team of data scientists and machine learning engineers to develop, implement, and test scalable solutions for marketing intelligence domain.\\nConsult with business stakeholders across stores and ecommerce businesses regarding algorithm-based recommendations and be a thought-leader to develop these into business actions.\\nMentor peers and junior members and handle multiple projects at the same time.\\nManage the continuous improvement of data science and machine learning led initiatives by following industry best practices and staying up-to-date with and extending the state-of-the-art in data science research.\\nExcellent academic or industrial track record of proposing, conducting and reporting results of original research, plus collaborative research with publications\\nEngage and partner with universities, institutes and vendor partners to bring in ideas and innovation into the labs environment.\\nParticipate and speak at various external forums such as ML / AI conferences.\\nPromote and support company policies, procedures, mission, values, and standards of ethics and integrity\\nOur Ideal Candidate\\nYou are a technically strong and high performing individual with excellent communication skills, proven analytical skills and strong customer focus. You stay updated with latest research and technology ideas, and have a passion to utilize innovative ways to solve problems.\\nYou have published in top peer-reviewed international journals and conferences in Machine Learning such as ICML, NeurIPS, CVPR, etc. You are a good story-teller and able to simply articulate the intricacies of your models as well as explain your results clearly to stakeholders. You have industry knowledge of the retail space, with keen interest in keeping up to date on the latest happenings in this space.\\nYour Qualifications\\nBachelor s with > 15 years of relevant experience OR Masters with > 12 years of relevant experience OR PhD in Computer Science with > 10 years of relevant experience.\\nYour Core Skills\\nSound knowledge of advanced machine learning and deep learning concepts\\nExpert in ML (decision trees, random forests, boosting, etc.) and DL (CNNs, RNNs, attention mechanisms, etc.)\\nExtensive experience building and deploying state of the art models in the field of NLP (NER, embeddings, language models, etc.)\\nStrong foundational knowledge in math, statistics and calculus\\nSound knowledge of managing data for experiments (sampling, labelling, EDA, etc.)\\nProficiency in experimental design and A/B testing\\nExperience working with large data sets in big data environments (preferably Hadoop based)\\nWorking proficiency in Python, SQL and Linux/UNIX environments\\nExposure in mentoring senior data scientists on approach and results.\\nAdded Advantages\\nPrior work in any of the following areas: computer vision, mathematical optimization, reinforcement learning.\\nExperience in retail domain\\nRoleTeam Lead/Technical Lead\\nIndustry TypeIT Services & Consulting\\nFunctional AreaIT Software - Application Programming, Maintenance\\nEmployment TypeFull Time, Permanent\\nRole CategoryProgramming & Design\\nEducation\\nUG :Any Graduate\\nPG :Any Postgraduate\\nKey Skills\\nUnixComputer scienceComputer visionLinuxMachine learningOpen sourceAnalyticsTestingSQLPython',\n",
       " 'Job description\\n  The Automotive Supply Chain and Technology team at IHS Markit is in search of a Data Scientist to support New Product Development and global teams ongoing research and analysis efforts. The research team produces granular forecast dataset and written analyses on the supply chain of parts supplied to automakers with technology, supplier and logistic information. The team generate forecasts on technology trends through multiple research channels and by using many connected and disconnected data sources to drive the forecast.\\nThe position covers an array of critical data-centric activities aimed at enhancing the efficiency of our 70+ strong research team, sustaining the increasing data complexity and most importantly supporting new product development at one of IHS Markits fastest growing product lines. The position is based in Gurgaon or Bangalore, India and reports to our Regional Head of operations in India.\\nResponsibilities and duties\\nUnderstanding business requirements to create maintainable workflows e.g. inbound/input data from analysts and external sources to feed a set of interconnected data sets and calculations\\nData wrangling and data mining to support product innovation and model creation\\nETL process design, implementation, maintenance and documentation for large inter-connected data sets\\nData cleaning and manipulation of raw data\\nCreation of logical and physical data models\\nUtilize existing database infrastructures as well as building new DB infrastructures as required\\nData acquisition exploration\\nCreate and maintain detailed documentation of workflows\\nHarness machine learning and statistical modelling with a view to enhance automation, reduce manual data interaction from research team and develop new insightful products\\nIdentifying, assembling, and enriching a wide range of structured and unstructured data to support new automotive forecasts and analysis.\\nCreation of logical and physical data models (including creation of workflows in data science platforms such as KNIME)\\nQualifications and skills\\n3+ years experience as a data scientist\\nAt minimum, a degree in computer science, computer engineering or a related quantitative field with proven work experience in the data engineering/scientist field\\nProven experience with SQL and NoSQL databases like Oracle DB, SQL Server, Cassandra, MongoDB, MySQL, Hadoop, Spark, AWS (EC2 and S3)\\nProven experience with one or more programming/scripting languages (e.g. Python, C++, R, Matlab, Scala).\\nFamiliar with techniques to manage large databases, including partitioning, compression and indexes as well as data mining\\nAbility to build models (e.g. Linear regression, logistic, Markov models) and use one or more machine learning library/frameworks (e.g. Scikit-learn) with a view to solve complex high dimensional data\\nKnowledge of OLAP and ETL processes\\nFamiliarity with data science platforms such as KNIME is a bonus\\nKnowledge of API creation and maintenance\\nEstablished MS Office skills (including VBA and Access) , O365 desirable\\nGood communication skills, collaborative team spirit, curiosity to constantly keep thinking of unique approaches and solutions.\\nAbility to work independently.\\nExperience committing to deadlines whilst multi-tasking\\nRoleHead/VP/GM-Quality\\nIndustry TypeIT Services & Consulting\\nFunctional AreaIT Software - Application Programming, Maintenance\\nEmployment TypeFull Time, Permanent\\nRole CategorySenior Management\\nEducation\\nUG :Any Graduate\\nPG :Any Postgraduate\\nKey Skills\\nSupply chainProcess designComputer scienceC++AutomationMySQLMS OfficeOracleData miningSQL',\n",
       " 'Job description\\n  Engage with Analytics Business Partners (ABP) and customers to understand the problem statement, required data and analytics insights to solve a given business problem.\\nPerform ETL, data cleansing and feature engineering to prepare data required for Rapid Learning Cycle (RLC) projects.\\nPerform EDA and work with SMEs to establish data understanding and address data quality issues.\\nPartner with other data scientists in AAO and Asia factories to build advanced statistical, AI and ML models that are congruent with the problem being solved and optimize for performance.\\nWork closely with ML Engineers and Solution Architects in AAO to seamlessly operationalize models developed from RLC to Pilot to Production.\\nPresent findings recommendations to project stakeholders.\\nBe up to date on latest technological advancements in AI/ML space through self-learning, literature research, relevant conferences etc.\\nProvide input to technical direction of AAO Data Science teams.\\nProactively network with other data scientists and analytics professionals in WDC India to identify collaboration opportunities.\\nPreferred Qualifications:\\nBS/MS/PhD in a quantitative discipline (e.g., Computer Science, Data Science, Applied Sciences or Engineering).\\nBS 5+ years or MS 4+ years or PhD 1+ year of experience in an analytics function.\\nPrior experience in developing advanced analytics solutions to business problems.\\nStrong theoretical understanding hands-on experience in statistical data analysis, AI ML techniques (e.g., supervised and unsupervised modeling, Deep Learning, CNN, NLP, Time-series analysis) and common data analytics tools (e.g., Python, R, Tensorflow etc).\\nExperience with Database Technologies (SQL, NoSQL), Big Data Technologies (Hadoop, Hive, Spark) and Cloud Technologies (AWS, GCP).\\nAbility to work independently and with team members from different backgrounds.\\nAbility to present complex data and analytics insights in the most effective ways and communicate a compelling story.\\nStrong problem solving and critical thinking skills.\\nPositive attitude towards learning on-the-job and strive in a rapidly changing environment.\\n\\nRoleBio/Pharma Informatics-Associate/Scientist\\nIndustry TypeElectronic Components / Semiconductors\\nFunctional AreaMedical, Healthcare, R&D, Pharmaceuticals, Biotechnology\\nEmployment TypeFull Time, Permanent\\nRole CategoryR&D\\nEducation\\nUG :Any Graduate\\nPG :Any Postgraduate\\nKey Skills\\nData ScienceNlpData ScientistAdvanced AnalyticsOperations ResearchBig DataData AnalyticsSupply ChainDeep LearningPython',\n",
       " 'Job description\\nMentor junior teammates in developing clean, optimized python code.\\nDrive project deliverables, architecture design and code design.\\nMulti-task on multiple projects from different groups.\\nCommunicate project timelines in an agile work environment.\\nGather requirements from multiple stakeholders and prioritize.\\nCreate Python flows\\nWhat You Need for this Position\\nYou should have knowledge of:\\nPython\\nLinear\\nSQL / NoSQL\\nRegression models\\nRoleSoftware Developer\\nIndustry TypeRecruitment / Staffing\\nFunctional AreaIT Software - Application Programming, Maintenance\\nEmployment TypeFull Time, Permanent\\nRole CategoryProgramming & Design\\nEducation\\nUG :B.Sc in Chemistry\\nPG :MS/M.Sc(Science) in Chemistry\\nKey Skills\\nNosqlKey SkillsData ScientistAgilePythonSql',\n",
       " 'Job description\\nAs a Data Scientist for Walmart, you ll have the opportunity to:\\nDrive data-derived insights across a wide range of divisions by developing advanced statistical models, machine learning algorithms and computational algorithms based on business initiatives\\nDirect the gathering of data, assessing data validity and synthesizing data into large analytics datasets to support project goals\\nUtilize big data analytics and advanced data science techniques to identify trends, patterns, and discrepancies in data. Determine additional data needed to support insights\\nBuild and train statistical models and machine learning algorithms\\nApply your semantic, natural language processing and understanding expertise where required\\nUse deep learning and image recognition project goals\\nComputer Vision will be an important focus area for this role\\nProductionize the models and make those available at scale\\nBuild and maintain end to end Machine Learning pipelines\\nBe comfortable with ambiguity and uncertainty and the eagerness to change the world in a huge way by being a self-motivated learner and builder\\nCommunicate recommendations to business partners and influencing future plans based on insights\\nYour Responsibility\\nPlay a key role to solve complex problems, pivotal to Walmart s business and drive actionable insights from petabytes of data\\nUtilize product mindset to build, scale and deploy holistic data science products after successful prototyping\\nDemonstrate incremental solution approach with agile and flexible ability to overcome practical problems\\nPartner with senior team members to assess customer needs and define business questions\\nClearly articulate and present recommendations to business partners, and influence future plans based on insights\\nWork with customer centric mindset to deliver high quality business driven analytic solution\\nDrive innovation in approach, method, practices, process, outcome, delivery, or any component of end-to-end problem solving\\nDemonstrates up-to-date expertise and applies this to the development, execution, and improvement of action plans\\nRoleDatabase Architect/Designer\\nIndustry TypeIT Services & Consulting\\nFunctional AreaIT Software - Other\\nEmployment TypeFull Time, Permanent\\nRole CategoryProgramming & Design\\nEducation\\nUG :Any Graduate\\nPG :Any Postgraduate\\nKey Skills\\nProcurementComputer scienceCloud computingData analysisdata scienceDb2CodingAgileData miningPython',\n",
       " 'Job description\\nRoles and Responsibilities\\nWe are looking for someone who would be responsible for analyzing data and providing business insights. As a Data Scientist your responsibilities will include understanding the business problem and experimenting with different modelling architectures to create the best possible setup from model performance as well as computational performance. To do this job successfully, you need exceptional skills in Machine Learning and Programming. Your ultimate goal will be to find the best data-based solution for the problem at hand.\\nMoreover, you are expected to learn fast and deliver quickly in a fast-paced startup environment. If you thrive on ambiguity and are a problem solver and yet deliver value to clients, feel free to reach out to us.\\nWe are looking ONLY FOR SELF DRIVEN INDIVIDUALS with a desire to excel in Data Science Domain.\\nUnderstanding business objectives and developing models that help to achieve them, along with metrics to track their progress\\nDevelop and maintain robust data processing pipelines and reproducible modeling pipelines\\nBuild mathematical models to solve various problems ranging from Time Series forecasting to Neural Networks and ensure seamless deployment in production pipelines.\\nAnalyze experimental results, iterate and refine models to create significant business impact\\nFollow strict coding standards and other software engineering best practices\\n\\n\\nDesired Candidate Profile\\nProven experience as a Data Scientist or similar role\\nStrong SQL, R/Python Skills\\nShould have familiarity with Machine Learning Models and fundamentals in Forecasting and Optimization Techniques\\nShould have strong mathematical background & analytical bent of mind\\nStrong Problem-Solving Ability\\nAbility to communicate well in a highly collaborative team environment, consisting of both technical and non-technical personnel\\nReliable self-starter that is capable of working with a high degree of autonomy\\n\\n\\nPerks and Benefits\\n\\nNeenOpal is a global management consulting firm with a unique and specialized focus on Data Science.\\nWe provide services across the whole value chain of an organization - Digital Strategy, Sales & Marketing, Supply Chain & Logistics as well as Finance. Youll have a blast doing it in our fun, passionate environment.\\nRoleData scientist\\nIndustry TypeManagement Consulting\\nFunctional AreaIT Software - Other\\nEmployment TypeFull Time, Permanent\\nRole CategoryNot mentioned\\nEducation\\nUG :Any Graduate\\nPG :Any Postgraduate\\nKey Skills\\nData SciencePythonSQL\\nExcelSoftware EngineeringProblem SolvingNeural NetworksTime SeriesData AnalysisBusiness InsightsData ProcessingMachine Learning\\nSkills highlighted with ‘‘ are preferred keyskills',\n",
       " 'Job description\\nHi,\\n\\nWe at Prescience www.prescienceds.com looking for Data Scientist @ Bangalore .\\n\\nRoles and Responsibilities\\nAs a Data Scientist you will be working with senior management of clients to understand the business requirements, define right problem statement and come up with a framework for the solution. You will also work on the solution and at time guide a small team to deliver the same. Part of job role would be develop products in the area of Natural Language Processing, Conversational Interfaces, Text Mining etc.\\n\\nDesired Candidate Profile\\nWhat we are looking for:\\nGood applied statistics skills, such as distributions, statistical testing, regression, etc. Experience in Natural Language Processing, Computer Vision. Exposure to common data science business problems like clustering, classification, anomaly detection, prediction etc.\\nGood understanding of machine learning techniques and algorithms\\nExperience with common data science toolkits Python, R, SAS\\nProficiency in using query languages such as SQL, Hive, etc Experience with NoSQL database, SQL Server, PostgreSQL, MongoDB\\nGreat communication skills\\nData-oriented personality and excellent business analysis skills\\nExperience in solutioning for data science related problems, work with business stakeholders to define right problem statement and solution.\\nOpen to professionals who have data analytics / BI background and then moved to Data Scientist roles.\\n\\nPerks and Benefits\\n\\n\\nRoleOther\\nIndustry TypeIT Services & Consulting\\nFunctional AreaAnalytics & Business Intelligence\\nEmployment TypeFull Time, Permanent\\nRole CategoryOther\\nEducation\\nUG :Any Graduate\\nKey Skills\\nTensorflowPostgreSQLNatural Language ProcessingNeural NetworksMachine LearningStatisticsSQLData ScienceAnomaly DetectionPytorchRNLPMongoDBQlikViewComputer VisionData AnalyticsPython',\n",
       " 'Job description\\nThe position is responsible for research and analysis of data to support proposal strategy, as well as site identification and selection decisions.\\nThe role also plays a vital part in researching, evaluating and implementing state-of-the-art informatics technologies to improve deliverables.\\nSome specific duties include the following\\nUnderstand, guide and challenge the business in order to define analytics/dashboard requirements to drive department strategy\\nModel and transform complex datasets to enable optimal and scalable visualization and analytical options.\\nDevelop the right visualisations in a variety of platforms (Spotfire, Power BI, Tableau etc) to enable clear and concise messaging to business users at different levels in the organization.\\nCreate custom visualization types to complement out of the box standards\\nEffective management of concurrent projects to ensure rapid development and deployment.\\nSupport proposal development, feasibility and site identification projects through the application of data and analytics expertise.\\nUse analytical tools to assess known and unknown information, uncertainties, and assumptions to provide probabilistic estimation of risks to study and program execution.\\nCommunicate value of informatics tools to users and train them in the use of such tools.\\nQuery relevant databases, including clinical trial registry tools and internal sources, and research various literature sources to support preparation of robust feasibility, site identification and selection deliverables.\\nUse analytical expertise to prepare risk benefit analyses and decision making criteria, while identifying opportunities to reduce cost without compromising quality.\\nRoleClinical Research Associate/Scientist\\nIndustry TypePharmaceutical & Life Sciences\\nFunctional AreaMedical, Healthcare, R&D, Pharmaceuticals, Biotechnology\\nEmployment TypeFull Time, Permanent\\nRole CategoryR&D\\nEducation\\nUG :Any Graduate\\nPG :Any Postgraduate\\nKey Skills\\nanalyticsvisualizationdashboard',\n",
       " 'Job description\\nThe Data Engineer is responsible for supporting Snaplogic ETL, AWS Redshift, RDS, and Aurora environments, exploring performance improvement opportunities, and troubleshooting data ingestion and user queries issues. This individual will perform typical database administrative tasks such as managing user accounts, monitoring system capacity usage and performance, balancing system workload, identifying root cause of issues raised by users and provide solution proposals, as well as supporting and enhancing data ingestion processes developed by other development teams.\\nThis individual will work with business users to identify performance improvement opportunities and implement them in the order based upon urgency and priority. In addition, this individual will identify data integration, ETL and quality issues, investigate issues identified by others, research and implement solutions to correct problems (at the source where possible), collaborate with developers to correct historical data, develop reports and monitoring programs, and execute data integration initiatives.\\nJob Responsibilities:\\nManage user accounts and security in the Redshift, RDS, and Aurora environments\\nMonitor and manage system workloads in order to keep all the systems running smoothly and minimize bottlenecks.\\nConfigure system connections between data sources and targets.\\nAssist users in debugging query failure issues and data quality problems\\nAnalyze objects such as tables and views designed and deployed by the development teams and users, provide best practice solution proposals\\nAnalyze queries from users, identify performance improvement opportunities, and assist users to improve performance\\nAnalyze and manage disk space usages by users, and provide best practice to development teams and business users\\nMaintain, modify and enhance data ingestion processes per development teams request\\nDevelop and deploy data load processes per business users request, including tables, views, and data load ETL pipelines design and development\\nCreate native connections between Redshift, RDS, and Aurora\\nDevelop and maintain metrics programs to monitor system usages and performance\\nManage data Redshift archiving processes\\nDevelop Redshift Spectrum objects\\nSupport Engineering and Manufacturing Datawarehouse and related data systems and initiatives\\nSolve moderate to complex data quality/ data integration problems\\nRecognize and investigate anomalies and propose solutions\\nResearch and recommend innovative, and where possible automated, approaches for data issues\\nMonitor ETL pipelines, troubleshoot and address any issues.\\nLiaison with business users and Subject matter Experts to find permanent solution to recurring issues.\\nWork closely with managed service providers in streamlining production support processes.\\nRequired Qualifications:\\nBachelor s degree in computer science, Information Systems, (or a related field) or a minimum of seven years of relevant professional experience and training\\n7 to 9 years Data Engineer or Support Engineer roles\\n3+ year AWS Redshift experience\\n2+ year experience in performance tuning and optimization of any SQL databases\\n3+ year supporting ETL packaged software like Informatica or SnapLogic\\nFamiliarity with concept of and experiences in performance tuning approaches related to MPP databases\\nProficient in SQL\\nExperiences in data modeling, including logical and physical design, normalization and denormalization\\nExpertise in performance tuning in one or more RDBMS such as Postgres, MySQL, Oracle, DB2, MS SQL, etc.\\nExperiences in programing tools such as Linux shell scripting, Python, Java, etc.\\nExperiences in analysis, Design, Development and Implementation of ETL and exposure to any commercial ETL tools (Snaplogic, Informatica, Alteryx, Matillion) and reporting (Tableau, Spotfire) tools will be an advantage but not mandatory.\\nEffectively and efficiently work with an enterprise environment involving very large data sets - millions of records in both databases and flat files\\nExperienced in requirements analysis, design, and development in the data Management application areas\\nResponsible for working with cross-functional and cross-organizational teams to understand issues, implement solutions, and influence others to implement solutions\\nAble to be comfortable in a fast-paced environment with constantly shifting priorities and a mix of quick hit, short, medium and long-term projects of varying priorities\\nHigh-tech, or manufacturing industry experience preferred but not required\\nExcellent communication, facilitation, and interpersonal relations skills required\\nRoleDBA\\nIndustry TypeElectronic Components / Semiconductors\\nFunctional AreaIT Software - Application Programming, Maintenance\\nEmployment TypeFull Time, Permanent\\nRole CategoryAdmin/Maintenance/Security/Datawarehousing\\nEducation\\nUG :Any Graduate\\nPG :Any Postgraduate\\nKey Skills\\nJavaEtl ToolsShell ScriptingData ManagementData ModelingInformaticaPerformance TuningMs SqlPythonData Integration']"
      ]
     },
     "execution_count": 49,
     "metadata": {},
     "output_type": "execute_result"
    }
   ],
   "source": [
    "job_descriptions.pop()\n",
    "job_descriptions"
   ]
  },
  {
   "cell_type": "code",
   "execution_count": 50,
   "id": "ce5bbb3f",
   "metadata": {},
   "outputs": [
    {
     "name": "stdout",
     "output_type": "stream",
     "text": [
      "length of list scraped are equal\n"
     ]
    }
   ],
   "source": [
    "if len(job_titles)==len(job_locations)==len(com_names)==len(job_descriptions):\n",
    "    print(\"length of list scraped are equal\")\n",
    "else:\n",
    "    print(\"length of list scraped are not equal\")"
   ]
  },
  {
   "cell_type": "code",
   "execution_count": 52,
   "id": "7f5e6219",
   "metadata": {},
   "outputs": [
    {
     "data": {
      "text/plain": [
       "[1, 2, 3, 4, 5, 6, 7, 8, 9, 10, 11, 12, 13, 14, 15, 16, 17, 18]"
      ]
     },
     "execution_count": 52,
     "metadata": {},
     "output_type": "execute_result"
    }
   ],
   "source": [
    "Nos=[]\n",
    "for i in range(1,len(job_titles)+1):\n",
    "    Nos.append(i)\n",
    "Nos    "
   ]
  },
  {
   "cell_type": "code",
   "execution_count": 53,
   "id": "6aa5047b",
   "metadata": {},
   "outputs": [
    {
     "data": {
      "text/html": [
       "<style  type=\"text/css\" >\n",
       "</style><table id=\"T_83618_\" ><thead>    <tr>        <th class=\"col_heading level0 col0\" >Nos</th>        <th class=\"col_heading level0 col1\" >Job Titles</th>        <th class=\"col_heading level0 col2\" >Job Locations</th>        <th class=\"col_heading level0 col3\" >Company Names</th>        <th class=\"col_heading level0 col4\" >Job_Descriptions</th>    </tr></thead><tbody>\n",
       "                <tr>\n",
       "                                <td id=\"T_83618_row0_col0\" class=\"data row0 col0\" >1</td>\n",
       "                        <td id=\"T_83618_row0_col1\" class=\"data row0 col1\" >Senior Data Scientist</td>\n",
       "                        <td id=\"T_83618_row0_col2\" class=\"data row0 col2\" >Bangalore/Bengaluru</td>\n",
       "                        <td id=\"T_83618_row0_col3\" class=\"data row0 col3\" >Walmart Labs</td>\n",
       "                        <td id=\"T_83618_row0_col4\" class=\"data row0 col4\" >Job description\n",
       "As a Senior Data Scientist for Walmart, you ll have the opportunity to:\n",
       "Drive data-derived insights across a wide range of divisions by developing advanced statistical models, machine learning algorithms and computational algorithms based on business initiatives\n",
       "Direct the gathering of data, assessing data validity and synthesizing data into large analytics datasets to support project goals\n",
       "Utilize big data analytics and advanced data science techniques to identify trends, patterns, and discrepancies in data. Determine additional data needed to support insights\n",
       "Build and train statistical models and machine learning algorithms\n",
       "Apply your semantic, natural language processing and understanding expertise where required\n",
       "Use deep learning and image recognition project goals\n",
       "Computer Vision will be an important focus area for this role\n",
       "Productionize the models and make those available at scale\n",
       "Build and maintain end to end Machine Learning pipelines\n",
       "Be comfortable with ambiguity and uncertainty and the eagerness to change the world in a huge way by being a self-motivated learner and builder\n",
       "Communicate recommendations to business partners and influencing future plans based on insights\n",
       "Your Responsibility\n",
       "Play a key role to solve complex problems, pivotal to Walmart s business and drive actionable insights from petabytes of data\n",
       "Utilize product mindset to build, scale and deploy holistic data science products after successful prototyping\n",
       "Demonstrate incremental solution approach with agile and flexible ability to overcome practical problems\n",
       "Partner with senior team members to assess customer needs and define business questions\n",
       "Clearly articulate and present recommendations to business partners, and influence future plans based on insights\n",
       "Work with customer centric mindset to deliver high quality business driven analytic solution\n",
       "Drive innovation in approach, method, practices, process, outcome, delivery, or any component of end-to-end problem solving\n",
       "Demonstrates up-to-date expertise and applies this to the development, execution, and improvement of action plans\n",
       "Preferred Qualifications\n",
       "Bachelors degree in Statistics, Mathematics, Computer Science or a related field and 8 years experience in an analytics/DS related field, or,\n",
       "Masters degree in Statistics, Mathematics, Computer Science or a related field and 6 years experience in an analytics/DS related field.\n",
       "High proficiency in data mining, modeling, validation and insight generation.\n",
       "Excellent working knowledge of statistics, mathematics, machine learning, data mining, deep learning\n",
       "High proficiency in coding including Python and SQL\n",
       "Experience with databases (for example, DB2, Oracle, SQL Server)\n",
       "Experience with Big Data technologies such as Pig, Hive and/or Spark\n",
       "Ability to work with large data sets. Has sound understanding of big data technology stack\n",
       "Understanding of cloud computing platforms and large-scale databases\n",
       "Proven ability to collaborate and work in teams\n",
       "Excellent with communications and stakeholder engagement\n",
       "Data science publications in recognized platforms/journals\n",
       "Proven ability to work in agile mode on data science sprint projects\n",
       "RoleDatabase Architect/Designer\n",
       "Industry TypeIT Services & Consulting\n",
       "Functional AreaIT Software - DBA, Datawarehousing\n",
       "Employment TypeFull Time, Permanent\n",
       "Role CategoryProgramming & Design\n",
       "Education\n",
       "UG :Any Graduate\n",
       "PG :Any Postgraduate\n",
       "Key Skills\n",
       "ProcurementComputer scienceCloud computingData analysisdata scienceDb2CodingAgileData miningPython</td>\n",
       "            </tr>\n",
       "            <tr>\n",
       "                                <td id=\"T_83618_row1_col0\" class=\"data row1 col0\" >2</td>\n",
       "                        <td id=\"T_83618_row1_col1\" class=\"data row1 col1\" >Senior Data Scientist IN4</td>\n",
       "                        <td id=\"T_83618_row1_col2\" class=\"data row1 col2\" >Bangalore/Bengaluru</td>\n",
       "                        <td id=\"T_83618_row1_col3\" class=\"data row1 col3\" >Walmart Labs</td>\n",
       "                        <td id=\"T_83618_row1_col4\" class=\"data row1 col4\" >Job description\n",
       "Design, coordinate, and implement data driven business and technology solutions to support innovation initiatives\n",
       "Communicate complex models, analysis and recommendations in a clear and precise manner\n",
       "Provide thought leadership in statistical modeling and machine learning/ AI. NLP and Deep Learning are the two focus areas\n",
       "Deliver actionable insights to stakeholders through rich visualization and presentation\n",
       "Manage priorities between research and deliverables effectively\n",
       "Collaborate actively with topic owners to understand and develop advanced analytics / data science\n",
       "Your Qualifications\n",
       "Bachelor s degree in Engineering / Analytics or Master s Degree in Statistics/Computer Applications/ IT/Analytics /any discipline related to Data Science / Analytics.\n",
       "7 years of progressive experience in Machine learning/Deep learning preferably working with packages like NLTK, BERT, ELMo etc\n",
       "Fluent in Python and have experience with NLP libraries like , Spacy, Genism, Glove, doc2vec etc.\n",
       "Exposure to Microsoft LUIS will be preferred\n",
       "Possess advanced knowledge of the HuggingFace libraries and concepts like tokens, tokenization, stemming, lemmatization, regex.\n",
       "Solid command on statistics and ability to connect theory and practice of data mining, machine learning to solve real-world use case\n",
       "l Strong working knowledge of Python (BERT, GPT, genism, SpaCy, tensorflow, Theano, PyTorch, SciPy, scikit-learn, pandas), SQL, Unix (awk, sed, bash) for data wrangling, data analysis, modeling.\n",
       "Knowledgeable in Natural Language processing (NLP) and quantitative analysis\n",
       "Previous experience building chatbots for Customer Service / specific business verticals (Bonus)\n",
       "Interesting side projects or Kaggle competition results (Bonus)\n",
       "Excellent critical thinking ability, result orientation and project management skills\n",
       "Sound verbal and written communication skills\n",
       "RoleSystem Analyst\n",
       "Industry TypeIT Services & Consulting\n",
       "Functional AreaIT Software - DBA, Datawarehousing\n",
       "Employment TypeFull Time, Permanent\n",
       "Role CategoryProgramming & Design\n",
       "Education\n",
       "UG :B.Tech/B.E. in Production/Industrial\n",
       "PG :M.Tech in Production/Industrial\n",
       "Key Skills\n",
       "UnixData analysisMachine learningCustomer supportCustomer serviceData miningmicrosoftAnalyticsSQLPython</td>\n",
       "            </tr>\n",
       "            <tr>\n",
       "                                <td id=\"T_83618_row2_col0\" class=\"data row2 col0\" >3</td>\n",
       "                        <td id=\"T_83618_row2_col1\" class=\"data row2 col1\" >Senior Data Scientist (Marketplace)</td>\n",
       "                        <td id=\"T_83618_row2_col2\" class=\"data row2 col2\" >Bangalore/Bengaluru</td>\n",
       "                        <td id=\"T_83618_row2_col3\" class=\"data row2 col3\" >Walmart Labs</td>\n",
       "                        <td id=\"T_83618_row2_col4\" class=\"data row2 col4\" >Job description\n",
       "Position Responsibilities\n",
       "o Solve business problems by applying advanced Machine Learning algorithms and complex statistical models on large volumes of data.\n",
       "o Build, scale and deploy holistic data science products after successful prototyping.\n",
       "o Clearly articulate and present recommendations to business partners, and influence future plans based on insights.\n",
       "o Follow industry best practices, stay up to date with the state of the art in machine learning research and practice, drive innovation by contributing to the latest applied research in data science through publications and patents.\n",
       "o Promote and support company policies, procedures, mission, values, and standards of ethics and integrity.\n",
       "Position Requirements\n",
       "o Deep knowledge of the foundations of machine learning and statistics - can easily understand and implement a machine learning research paper.\n",
       "o Solid experience working with state-of-the-art supervised and unsupervised machine learning algorithms on real-world problems, preferably in ecommerce domain.\n",
       "o Strong Python coding skills and able to work with at least one other programming language such as Java/Scala.\n",
       "o Ability to work in a big data ecosystem - expert in SQL/Hive and ability to work with Spark.\n",
       "o Strong ability to understand the business and good stakeholder management capabilities.\n",
       "Qualifications\n",
       "o PhD with > 2 years of experience / 4-year bachelor s degree with > 7 years of experience / Master s degree with > 5 years of experience. Educational qualifications should be preferably in Computer Science or a related area. Experience should be relevant to the role.\n",
       "Good to have:\n",
       "o Experience in ecommerce domain.\n",
       "o Demonstrated success in data science platforms like Kaggle.\n",
       "RoleTeam Lead/Technical Lead\n",
       "Industry TypeIT Services & Consulting\n",
       "Functional AreaIT Software - Other\n",
       "Employment TypeFull Time, Permanent\n",
       "Role CategoryProgramming & Design\n",
       "Education\n",
       "UG :Any Graduate\n",
       "PG :Any Postgraduate\n",
       "Key Skills\n",
       "Computer sciencedata scienceCodingMachine learningSCALAE-commerceStakeholder managementAnalyticsSQLPython</td>\n",
       "            </tr>\n",
       "            <tr>\n",
       "                                <td id=\"T_83618_row3_col0\" class=\"data row3 col0\" >4</td>\n",
       "                        <td id=\"T_83618_row3_col1\" class=\"data row3 col1\" >Hiring For Manager and Sr. Manager | Data Scientist</td>\n",
       "                        <td id=\"T_83618_row3_col2\" class=\"data row3 col2\" >Noida</td>\n",
       "                        <td id=\"T_83618_row3_col3\" class=\"data row3 col3\" >Vision Beyond Resources India Private Limited</td>\n",
       "                        <td id=\"T_83618_row3_col4\" class=\"data row3 col4\" >Job description\n",
       "Hello,\n",
       "We are hiring on behalf of one of the largest BPO/ Consulting services.\n",
       "The skills rquired are Natural Language Processing, Python, Data Science and Machine Learning.\n",
       "\n",
       "Title: Manager / Sr. Manager\n",
       "Location:Bangalore , Gurugram, Mumbai\n",
       "Duration : Fulltime\n",
       "Max Notice:1 Month\n",
       "RoleHead/VP/GM - Analytics & BI\n",
       "Industry TypeRecruitment / Staffing\n",
       "Functional AreaAnalytics & Business Intelligence\n",
       "Employment TypeFull Time, Permanent\n",
       "Role CategorySenior Management\n",
       "Education\n",
       "UG :Any Graduate\n",
       "PG :Any Postgraduate\n",
       "Doctorate :Any Doctorate\n",
       "Key Skills\n",
       "Data ScienceNatural Language ProcessingMachine LearningPython</td>\n",
       "            </tr>\n",
       "            <tr>\n",
       "                                <td id=\"T_83618_row4_col0\" class=\"data row4 col0\" >5</td>\n",
       "                        <td id=\"T_83618_row4_col1\" class=\"data row4 col1\" >Requirement For Data Scientist - Mumbai & Bangalore</td>\n",
       "                        <td id=\"T_83618_row4_col2\" class=\"data row4 col2\" >Bangalore/Bengaluru</td>\n",
       "                        <td id=\"T_83618_row4_col3\" class=\"data row4 col3\" >CRISIL LIMITED</td>\n",
       "                        <td id=\"T_83618_row4_col4\" class=\"data row4 col4\" >Job description\n",
       "\n",
       "CRISIL (formerly Credit Rating Information Services of India Limited) is an Indian analytical company providing ratings, research, and risk and policy advisory services and is a subsidiary of American company S&P Global\n",
       "\n",
       "We are looking Data Scientist for Mumbai & Bangalore location\n",
       "Candidates who can join immediately or within 30-45 need only apply\n",
       "\n",
       "Please refer below JD for your reference-\n",
       "\n",
       "Job Description Data scientist:\n",
       "Client oriented approach to problem solving. Individual should be able to have a holistic view of multiple businesses and develop analytic solutions accordingly.\n",
       "Own and deliver multiple and complex analytic projects. This would require an understanding of business context, conversion of business problems in modeling, and implementing such solutions to create business value.\n",
       "Always up to date with the latest use cases of modeling community, machine learning and deep learning algorithms and share knowledge within the team.\n",
       "Proficiency in basic statistics, hypothesis testing, segmentation and predictive modeling.\n",
       "Ability to translate and articulate technical thoughts and ideas to a larger audience including influencing skills with peers and senior management.\n",
       "Strong project management skills.\n",
       "Ability to coach and mentor juniors.\n",
       "Eagerness to work on new and challenging tasks on a regular basis with an ability to research new ways of doing things better/efficiently.\n",
       "Contribute to organizational initiatives in wide ranging areas including competency development, training, organizational building activities etc.\n",
       "Skills\n",
       "\n",
       "Basic Qualifications\n",
       "\n",
       "Bachelors Degree with 2+ years of experience in data analytics,\n",
       "Hands-on experience in Python / SAS or R programing along with strong experience in SQL and Excel Macros.\n",
       "Experienced in working with large and multiple datasets, data warehouses and ability to pull data using relevant programs and coding.\n",
       "Well versed with necessary data preprocessing and feature engineering skills.\n",
       "At least 2 years of experience implementing Machine learning algorithms such as Random Forest and Gradient Boosting in solving business problems such as Default classification and macroeconomic forecasting.\n",
       "At least 1 year of experience implementing deep learning techniques like neural networks\n",
       "Exposure to deep learning packages like Tensorflow\n",
       "Strong background in Statistical Analysis\n",
       "Background in BFSI space will be preferred\n",
       "\n",
       "RoleData Analyst\n",
       "Industry TypeBanking\n",
       "Functional AreaAnalytics & Business Intelligence\n",
       "Employment TypeFull Time, Permanent\n",
       "Role CategoryAnalytics & BI\n",
       "Education\n",
       "UG :Any Graduate\n",
       "PG :Any Postgraduate\n",
       "Key Skills\n",
       "rMachine LearningPython\n",
       "TensorflowPredictive ModelingSegmentationNeural NetworksDeep LearningRandom ForestSQL\n",
       "Skills highlighted with ‘‘ are preferred keyskills</td>\n",
       "            </tr>\n",
       "            <tr>\n",
       "                                <td id=\"T_83618_row5_col0\" class=\"data row5 col0\" >6</td>\n",
       "                        <td id=\"T_83618_row5_col1\" class=\"data row5 col1\" >Hiring For Data Scientist / Statistical Analyst</td>\n",
       "                        <td id=\"T_83618_row5_col2\" class=\"data row5 col2\" >Bangalore/Bengaluru</td>\n",
       "                        <td id=\"T_83618_row5_col3\" class=\"data row5 col3\" >ManpowerGroup Services India Private Limited</td>\n",
       "                        <td id=\"T_83618_row5_col4\" class=\"data row5 col4\" >Job description\n",
       "Department- BIRS (Business Intelligence Risk Solutions)\n",
       "\n",
       "JD Statistical Analyst/ Data scientist:\n",
       "Client oriented approach to problem solving. Individual should be able to have a holistic view of multiple businesses and develop analytic solutions accordingly.\n",
       "Own and deliver multiple and complex analytic projects. This would require an understanding of business context, conversion of business problems in modeling, and implementing such solutions to create business value.\n",
       "Always up to date with the latest use cases of modeling community, machine learning and deep learning algorithms and share knowledge within the team.\n",
       "Proficiency in basic statistics, hypothesis testing, segmentation and predictive modeling.\n",
       "Ability to translate and articulate technical thoughts and ideas to a larger audience including influencing skills with peers and senior management.\n",
       "Strong project management skills.\n",
       "Ability to coach and mentor juniors.\n",
       "Eagerness to work on new and challenging tasks on a regular basis with an ability to research new ways of doing things better/efficiently.\n",
       "Contribute to organizational initiatives in wide ranging areas including competency development, training, organizational building activities etc.\n",
       "Basic Qualifications\n",
       "\n",
       "Bachelor’s Degree with 2+ years of experience in data analytics,\n",
       "Hands-on experience in Python / SAS or R programing along with strong experience in SQL and Excel Macros.\n",
       "Experienced in working with large and multiple datasets, data warehouses and ability to pull data using relevant programs and coding.\n",
       "Well versed with necessary data preprocessing and feature engineering skills.\n",
       "At least 2 years of experience implementing Machine learning algorithms such as Random Forest and Gradient Boosting in solving business problems such as Default classification and macroeconomic forecasting.\n",
       "At least 1 year of experience implementing deep learning techniques like neural networks\n",
       "Exposure to deep learning packages like Tensorflow\n",
       "Strong background in Statistical Analysis\n",
       "Background in BFSI space will be preferredRoles and Responsibilities\n",
       "\n",
       "If anyone interested, please share your resume to below mail id:-\n",
       "\n",
       "Soundarya.s@manpower.co.in;\n",
       "\n",
       "\n",
       "RoleSoftware Developer\n",
       "Industry TypeIT Services & Consulting\n",
       "Functional AreaIT Software - DBA, Datawarehousing\n",
       "Employment TypeFull Time, Permanent\n",
       "Role CategoryProgramming & Design\n",
       "Education\n",
       "UG :B.Tech/B.E. in Any Specialization\n",
       "Key Skills\n",
       "TensorflowPredictive ModelingRNeural NetworksMachine LearningStatistical AnalysisDeep LearningPythonRandom ForestSQL</td>\n",
       "            </tr>\n",
       "            <tr>\n",
       "                                <td id=\"T_83618_row6_col0\" class=\"data row6 col0\" >7</td>\n",
       "                        <td id=\"T_83618_row6_col1\" class=\"data row6 col1\" >Associate Data Scientist</td>\n",
       "                        <td id=\"T_83618_row6_col2\" class=\"data row6 col2\" >Bangalore/Bengaluru</td>\n",
       "                        <td id=\"T_83618_row6_col3\" class=\"data row6 col3\" >Philips India Limited</td>\n",
       "                        <td id=\"T_83618_row6_col4\" class=\"data row6 col4\" >Job description\n",
       "Use predictive modeling to increase and optimize customer experiences, revenue generation, campaign optimization and other business outcomes\n",
       "Work with product management to develop data use cases and embed predictive models in workflows on resource constrained platforms and cloud enabled.\n",
       "Selecting features, building and optimizing classifiers using machine learning and deep learning techniques\n",
       "Collaborates with Data Engineers to enhance data collection and ingestion/curation techniques to include information that is relevant for building analytic systems\n",
       "Processing, cleansing, and verifying the integrity of data used for analysis\n",
       "Develop processes and tools to monitor and analyze model performance and data accuracy. Life cycle management of predictive models.\n",
       "Adherence to compliance procedures in accordance with regulatory standards, requirements, and policies. Managing and designing the reporting environment, including data sources security, and metadata.\n",
       "Job Qualifications:\n",
       "Master s degree or PhD in Computer Science, Information management, Statistics or related field, with 3 to 5 years of experience in the Consumer or Healthcare industry manipulating data sets and building predictive models with focus on product development\n",
       "Experience in statistical modelling, machine learning, data mining, unstructured data analytics and natural language processing. Sound understanding of - Bayesian Modelling, Classification Models, Cluster Analysis, Neural Network, Nonparametric Methods, Multivariate Statistics, etc.\n",
       "Strong hands on knowledge of ML techniques like regression algorithms, K-NN, Na ve Bayes, SVM and ensemble techniques like Random forest, AdaBoost etc\n",
       "Having strong knowledge in unsupervised learning algorithms using Neural networks and Deep-Learning\n",
       "Strong knowledge in Data Wrangling and Exploration techniques to identify the patterns, trends and outliners.\n",
       "Deep knowledge and practical experience with data science toolkits, such as NumPy, Pandas, scikit-learn or equivalent\n",
       "Experience with data visualization tools, such as QlikView, Matplotlib, seaborn or equivalent tools.\n",
       "Proficiency in using query languages, such as SQL, PL/SQL\n",
       "Hands on experience in the one or more databases like Hadoop, AWS Redshift, Snowflake etc.\n",
       "Good applied statistics skills, such as distributions, statistical testing, regression, etc.\n",
       "Good ETL scripting and programming skills, such as Python, R or Scala to integrate developed solution into the proposition.\n",
       "A team player capable of working and integrating across cross-functional team for implementing project requirements. Experience in technical requirements gathering and documentation.\n",
       "Ability to work effectively and independently in a fast-paced global collaborative agile team environment with tight deadlines\n",
       "A flexible, pragmatic and collaborative team player with innate ability to engage with stakeholders at all levels in the organization.\n",
       "A self-starter with high levels of drive, energy, resilience and a desire for professional excellence with a passion for data and data science\n",
       "RoleClinical Research Associate/Scientist\n",
       "Industry TypeMedical Services / Hospital\n",
       "Functional AreaMedical, Healthcare, R&D, Pharmaceuticals, Biotechnology\n",
       "Employment TypeFull Time, Permanent\n",
       "Role CategoryR&D\n",
       "Education\n",
       "UG :Any Graduate\n",
       "PG :Post Graduation Not Required\n",
       "Key Skills\n",
       "Product managementComputer sciencemetadataMachine learningAgilePLSQLHealthcareQlikViewData miningPython</td>\n",
       "            </tr>\n",
       "            <tr>\n",
       "                                <td id=\"T_83618_row7_col0\" class=\"data row7 col0\" >8</td>\n",
       "                        <td id=\"T_83618_row7_col1\" class=\"data row7 col1\" >Data Scientist - IN3</td>\n",
       "                        <td id=\"T_83618_row7_col2\" class=\"data row7 col2\" >Bangalore/Bengaluru</td>\n",
       "                        <td id=\"T_83618_row7_col3\" class=\"data row7 col3\" >Walmart Labs</td>\n",
       "                        <td id=\"T_83618_row7_col4\" class=\"data row7 col4\" >Job description\n",
       "Your Responsibility\n",
       "Develop the algorithms to generate better demand forecast\n",
       "Use predictive modeling methods for demand forecasting\n",
       "Develop the production level code for implementation of algorithms\n",
       "Research on the newer technologies and algorithms, to improve forecast accuracy\n",
       "Design the Data Science experiments, execute them and record the results\n",
       "Adopt Wal-Mart s quality standards and develop and recommend process standards and best practices across the retail industry\n",
       "Research, learn adapt new technologies to solve problems improve existing solutions\n",
       "Participate in events to build innovative solutions\n",
       "Adhere to company policies, procedures, mission, values, and standards of ethics and integrity.\n",
       "Our Ideal Candidate\n",
       "Technical strong, proficient in Data Science (Algorithms and programming - R, Python) well versed with Data Science toolkits (Scikit-learn, Tensorflow) and basic Data Engineering toolkit (data.table, pandas).\n",
       "High performing associate with excellent communication skills, proven skill sets for building high performance Data Science teams that can work across multiple geographies, with strong customer focus and deliver across multiple technologies\n",
       "Your Qualifications\n",
       "B.E/B.Tech from a reputed institution\n",
       "Minimum of 3 years of Data Science Experience\n",
       "Command over atleast one of the Languages extensively used by Data Scientists - R, Python\n",
       "Good understanding of predictive modelling techniques - Linear/Non-Linear Models, Ensemble methods, Kernel Methods, Artificial Neural Networks\n",
       "Good Understanding of optimization techniques - NN, Gradient Descent, Genetic Algorithms\n",
       "Hand-on experience in Data Preperation tools - pandas, data.table\n",
       "Good understanding in Big Data Ecosystem - Hadoop and Spark\n",
       "Should be a fast learner and quickly adapt to new technologies.\n",
       "Prefer individuals with High Ownership and commitment.\n",
       "RoleSoftware Developer\n",
       "Industry TypeIT Services & Consulting\n",
       "Functional AreaIT Software - Application Programming, Maintenance\n",
       "Employment TypeFull Time, Permanent\n",
       "Role CategoryProgramming & Design\n",
       "Education\n",
       "UG :B.Tech/B.E. in Production/Industrial\n",
       "PG :Any Postgraduate\n",
       "Key Skills\n",
       "Retaildata scienceNeural networkssparkHadoopPredictive modelingbig dataForecastingPython</td>\n",
       "            </tr>\n",
       "            <tr>\n",
       "                                <td id=\"T_83618_row8_col0\" class=\"data row8 col0\" >9</td>\n",
       "                        <td id=\"T_83618_row8_col1\" class=\"data row8 col1\" >Principal Data Scientist - AdTech</td>\n",
       "                        <td id=\"T_83618_row8_col2\" class=\"data row8 col2\" >Bangalore/Bengaluru</td>\n",
       "                        <td id=\"T_83618_row8_col3\" class=\"data row8 col3\" >Walmart Labs</td>\n",
       "                        <td id=\"T_83618_row8_col4\" class=\"data row8 col4\" >Job description\n",
       "Your Opportunity\n",
       "To fulfill the charter of AdTech, there is need for top notch talent in the Sciences space. You would be working on challenging problems in Data Science, NLP leveraging ML and DL and in Optimisation. All of the problems will require building solutions at Walmart scale. The best part of this is that your solutions/models will generate tangible and immediate business impact.\n",
       "Your Responsibility\n",
       "As a Principal Data Scientist for Walmart Global Tech, you ll be required to shape and deliver on the Advertising Sciences charter.\n",
       "Leading a team of data scientists and machine learning engineers to develop, implement, and test scalable solutions for advertising science domain.\n",
       "Mentor peers and junior members and handle multiple projects at the same time.\n",
       "Manage the continuous improvement of data science and machine learning led initiatives by following industry best practices and staying up-to-date with and extending the state-of-the-art in data science research.\n",
       "Excellent academic or industrial track record of proposing, conducting and reporting results of original research, plus collaborative research with publications\n",
       "Engage and partner with universities, institutes and vendor partners to bring in ideas and innovation into the labs environment.\n",
       "Participate and speak at various external forums such as ML / AI conferences.\n",
       "Promote and support company policies, procedures, mission, values, and standards of ethics and integrity\n",
       "Our Ideal Candidate\n",
       "You are a technically strong and high performing individual with excellent communication skills, proven analytical skills and strong customer focus. You stay updated with latest research and technology ideas, and have a passion to utilize innovative ways to solve problems.\n",
       "You have published in top peer-reviewed international journals and conferences in Machine Learning such as ICML, NeurIPS, CVPR, CODS-COMAD, KDD etc. You are a good story-teller and able to simply articulate the intricacies of your models as well as explain your results clearly to stakeholders.\n",
       "You have industry knowledge of the display advertising space, with keen interest in keeping up to date on the latest happenings in this space. You have a strong interest in Mathematics and Statistics which form the core foundation of what we do in Advertising Science.\n",
       "Your Qualifications\n",
       "Masters with > 14 years of relevant experience OR PhD in Computer Science with > 10 years of relevant experience.\n",
       "Your Core Skills\n",
       "Sound knowledge of statistical learning and deep learning concepts\n",
       "Expert in ML (decision trees, random forests, boosting, etc.) and DL (CNNs, RNNs, attention mechanisms, etc.)\n",
       "Extensive experience building and deploying state of the art models in the field of NLP (NER, embeddings, language models, etc.)\n",
       "Strong foundational knowledge in math, statistics and calculus\n",
       "Sound knowledge of managing data for experiments (sampling, labelling, EDA, etc.)\n",
       "Proficiency in experimental design and A/B testing\n",
       "Experience working with large data sets in big data environments (preferably Hadoop based)\n",
       "Working proficiency in Python, SQL and Linux/UNIX environments\n",
       "Exposure to big data processing stack e.g Apache spark\n",
       "Exposure in mentoring senior data scientists on approach and results.\n",
       "Added Advantages\n",
       "Prior work in any of the following areas: mathematical optimization, reinforcement learning, recommendation system, time series analysis and forecasting\n",
       "Experience in online display advertising domain\n",
       "RoleTeam Lead/Technical Lead\n",
       "Industry TypeIT Services & Consulting\n",
       "Functional AreaIT Software - Application Programming, Maintenance\n",
       "Employment TypeFull Time, Permanent\n",
       "Role CategoryProgramming & Design\n",
       "Education\n",
       "UG :Any Graduate\n",
       "PG :Any Postgraduate\n",
       "Key Skills\n",
       "UnixComputer scienceLinuxMachine learningData processingData miningForecastingAnalyticsSQLPython</td>\n",
       "            </tr>\n",
       "            <tr>\n",
       "                                <td id=\"T_83618_row9_col0\" class=\"data row9 col0\" >10</td>\n",
       "                        <td id=\"T_83618_row9_col1\" class=\"data row9 col1\" >Principal Data Scientist (MINT)</td>\n",
       "                        <td id=\"T_83618_row9_col2\" class=\"data row9 col2\" >Bangalore/Bengaluru</td>\n",
       "                        <td id=\"T_83618_row9_col3\" class=\"data row9 col3\" >Walmart Labs</td>\n",
       "                        <td id=\"T_83618_row9_col4\" class=\"data row9 col4\" >Job description\n",
       "Your Opportunity\n",
       "To fulfill the charter of MINT, there is need for top notch talent in the Sciences space. You would be working on challenging problems in NLP leveraging ML and DL and in optimization. All of the problems will require building solutions at Walmart scale. The best part of MINT is that your solutions/models will generate tangible and immediate business impact.\n",
       "Your Responsibility\n",
       "As a Principal Data Scientist for Walmart Global Tech, you ll be required to shape and deliver on the MINT sciences charter.\n",
       "Leading a team of data scientists and machine learning engineers to develop, implement, and test scalable solutions for marketing intelligence domain.\n",
       "Consult with business stakeholders across stores and ecommerce businesses regarding algorithm-based recommendations and be a thought-leader to develop these into business actions.\n",
       "Mentor peers and junior members and handle multiple projects at the same time.\n",
       "Manage the continuous improvement of data science and machine learning led initiatives by following industry best practices and staying up-to-date with and extending the state-of-the-art in data science research.\n",
       "Excellent academic or industrial track record of proposing, conducting and reporting results of original research, plus collaborative research with publications\n",
       "Engage and partner with universities, institutes and vendor partners to bring in ideas and innovation into the labs environment.\n",
       "Participate and speak at various external forums such as ML / AI conferences.\n",
       "Promote and support company policies, procedures, mission, values, and standards of ethics and integrity\n",
       "Our Ideal Candidate\n",
       "You are a technically strong and high performing individual with excellent communication skills, proven analytical skills and strong customer focus. You stay updated with latest research and technology ideas, and have a passion to utilize innovative ways to solve problems.\n",
       "You have published in top peer-reviewed international journals and conferences in Machine Learning such as ICML, NeurIPS, CVPR, etc. You are a good story-teller and able to simply articulate the intricacies of your models as well as explain your results clearly to stakeholders. You have industry knowledge of the retail space, with keen interest in keeping up to date on the latest happenings in this space.\n",
       "Your Qualifications\n",
       "Bachelor s with > 15 years of relevant experience OR Masters with > 12 years of relevant experience OR PhD in Computer Science with > 10 years of relevant experience.\n",
       "Your Core Skills\n",
       "Sound knowledge of advanced machine learning and deep learning concepts\n",
       "Expert in ML (decision trees, random forests, boosting, etc.) and DL (CNNs, RNNs, attention mechanisms, etc.)\n",
       "Extensive experience building and deploying state of the art models in the field of NLP (NER, embeddings, language models, etc.)\n",
       "Strong foundational knowledge in math, statistics and calculus\n",
       "Sound knowledge of managing data for experiments (sampling, labelling, EDA, etc.)\n",
       "Proficiency in experimental design and A/B testing\n",
       "Experience working with large data sets in big data environments (preferably Hadoop based)\n",
       "Working proficiency in Python, SQL and Linux/UNIX environments\n",
       "Exposure in mentoring senior data scientists on approach and results.\n",
       "Added Advantages\n",
       "Prior work in any of the following areas: computer vision, mathematical optimization, reinforcement learning.\n",
       "Experience in retail domain\n",
       "RoleTeam Lead/Technical Lead\n",
       "Industry TypeIT Services & Consulting\n",
       "Functional AreaIT Software - Application Programming, Maintenance\n",
       "Employment TypeFull Time, Permanent\n",
       "Role CategoryProgramming & Design\n",
       "Education\n",
       "UG :Any Graduate\n",
       "PG :Any Postgraduate\n",
       "Key Skills\n",
       "UnixComputer scienceComputer visionLinuxMachine learningOpen sourceAnalyticsTestingSQLPython</td>\n",
       "            </tr>\n",
       "    </tbody></table>"
      ],
      "text/plain": [
       "<pandas.io.formats.style.Styler at 0x1aa3189b790>"
      ]
     },
     "execution_count": 53,
     "metadata": {},
     "output_type": "execute_result"
    }
   ],
   "source": [
    "import pandas as pd\n",
    "NaukriJob=pd.DataFrame({})\n",
    "NaukriJob['Nos']=Nos[:10]\n",
    "NaukriJob['Job Titles']=job_titles [:10]\n",
    "NaukriJob['Job Locations']=job_locations[:10]\n",
    "NaukriJob['Company Names']=com_names[:10]\n",
    "NaukriJob['Job_Descriptions']=job_descriptions[:10]\n",
    "NaukriJob.style.hide_index()"
   ]
  },
  {
   "cell_type": "markdown",
   "id": "45c88039",
   "metadata": {},
   "source": [
    "These are first 10 Job details from Naukri"
   ]
  }
 ],
 "metadata": {
  "kernelspec": {
   "display_name": "Python 3",
   "language": "python",
   "name": "python3"
  },
  "language_info": {
   "codemirror_mode": {
    "name": "ipython",
    "version": 3
   },
   "file_extension": ".py",
   "mimetype": "text/x-python",
   "name": "python",
   "nbconvert_exporter": "python",
   "pygments_lexer": "ipython3",
   "version": "3.8.8"
  }
 },
 "nbformat": 4,
 "nbformat_minor": 5
}
