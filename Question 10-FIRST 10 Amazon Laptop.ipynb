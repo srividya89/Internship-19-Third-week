{
 "cells": [
  {
   "cell_type": "code",
   "execution_count": 1,
   "id": "9863a04c",
   "metadata": {},
   "outputs": [
    {
     "name": "stdout",
     "output_type": "stream",
     "text": [
      "Requirement already satisfied: selenium in c:\\users\\srividya\\anaconda3\\lib\\site-packages (4.0.0b4)\n",
      "Requirement already satisfied: urllib3[secure]~=1.26 in c:\\users\\srividya\\anaconda3\\lib\\site-packages (from selenium) (1.26.4)\n",
      "Requirement already satisfied: trio-websocket~=0.9 in c:\\users\\srividya\\anaconda3\\lib\\site-packages (from selenium) (0.9.2)\n",
      "Requirement already satisfied: trio~=0.17 in c:\\users\\srividya\\anaconda3\\lib\\site-packages (from selenium) (0.19.0)\n",
      "Requirement already satisfied: sniffio in c:\\users\\srividya\\anaconda3\\lib\\site-packages (from trio~=0.17->selenium) (1.2.0)\n",
      "Requirement already satisfied: idna in c:\\users\\srividya\\anaconda3\\lib\\site-packages (from trio~=0.17->selenium) (2.10)\n",
      "Requirement already satisfied: async-generator>=1.9 in c:\\users\\srividya\\anaconda3\\lib\\site-packages (from trio~=0.17->selenium) (1.10)\n",
      "Requirement already satisfied: outcome in c:\\users\\srividya\\anaconda3\\lib\\site-packages (from trio~=0.17->selenium) (1.1.0)\n",
      "Requirement already satisfied: attrs>=19.2.0 in c:\\users\\srividya\\anaconda3\\lib\\site-packages (from trio~=0.17->selenium) (20.3.0)\n",
      "Requirement already satisfied: cffi>=1.14 in c:\\users\\srividya\\anaconda3\\lib\\site-packages (from trio~=0.17->selenium) (1.14.5)\n",
      "Requirement already satisfied: sortedcontainers in c:\\users\\srividya\\anaconda3\\lib\\site-packages (from trio~=0.17->selenium) (2.3.0)\n",
      "Requirement already satisfied: pycparser in c:\\users\\srividya\\anaconda3\\lib\\site-packages (from cffi>=1.14->trio~=0.17->selenium) (2.20)\n",
      "Requirement already satisfied: wsproto>=0.14 in c:\\users\\srividya\\anaconda3\\lib\\site-packages (from trio-websocket~=0.9->selenium) (1.0.0)\n",
      "Requirement already satisfied: certifi in c:\\users\\srividya\\anaconda3\\lib\\site-packages (from urllib3[secure]~=1.26->selenium) (2020.12.5)\n",
      "Requirement already satisfied: pyOpenSSL>=0.14 in c:\\users\\srividya\\anaconda3\\lib\\site-packages (from urllib3[secure]~=1.26->selenium) (20.0.1)\n",
      "Requirement already satisfied: cryptography>=1.3.4 in c:\\users\\srividya\\anaconda3\\lib\\site-packages (from urllib3[secure]~=1.26->selenium) (3.4.7)\n",
      "Requirement already satisfied: six>=1.5.2 in c:\\users\\srividya\\anaconda3\\lib\\site-packages (from pyOpenSSL>=0.14->urllib3[secure]~=1.26->selenium) (1.15.0)\n",
      "Requirement already satisfied: h11<1,>=0.9.0 in c:\\users\\srividya\\anaconda3\\lib\\site-packages (from wsproto>=0.14->trio-websocket~=0.9->selenium) (0.12.0)\n",
      "Requirement already satisfied: undetected-chromedriver in c:\\users\\srividya\\anaconda3\\lib\\site-packages (3.0.3)\n",
      "Requirement already satisfied: selenium==4.0.0b4 in c:\\users\\srividya\\anaconda3\\lib\\site-packages (from undetected-chromedriver) (4.0.0b4)\n",
      "Requirement already satisfied: websockets in c:\\users\\srividya\\anaconda3\\lib\\site-packages (from undetected-chromedriver) (10.0)\n",
      "Requirement already satisfied: requests in c:\\users\\srividya\\anaconda3\\lib\\site-packages (from undetected-chromedriver) (2.25.1)\n",
      "Requirement already satisfied: urllib3[secure]~=1.26 in c:\\users\\srividya\\anaconda3\\lib\\site-packages (from selenium==4.0.0b4->undetected-chromedriver) (1.26.4)\n",
      "Requirement already satisfied: trio~=0.17 in c:\\users\\srividya\\anaconda3\\lib\\site-packages (from selenium==4.0.0b4->undetected-chromedriver) (0.19.0)\n",
      "Requirement already satisfied: trio-websocket~=0.9 in c:\\users\\srividya\\anaconda3\\lib\\site-packages (from selenium==4.0.0b4->undetected-chromedriver) (0.9.2)\n",
      "Requirement already satisfied: outcome in c:\\users\\srividya\\anaconda3\\lib\\site-packages (from trio~=0.17->selenium==4.0.0b4->undetected-chromedriver) (1.1.0)\n",
      "Requirement already satisfied: async-generator>=1.9 in c:\\users\\srividya\\anaconda3\\lib\\site-packages (from trio~=0.17->selenium==4.0.0b4->undetected-chromedriver) (1.10)\n",
      "Requirement already satisfied: sortedcontainers in c:\\users\\srividya\\anaconda3\\lib\\site-packages (from trio~=0.17->selenium==4.0.0b4->undetected-chromedriver) (2.3.0)\n",
      "Requirement already satisfied: attrs>=19.2.0 in c:\\users\\srividya\\anaconda3\\lib\\site-packages (from trio~=0.17->selenium==4.0.0b4->undetected-chromedriver) (20.3.0)\n",
      "Requirement already satisfied: cffi>=1.14 in c:\\users\\srividya\\anaconda3\\lib\\site-packages (from trio~=0.17->selenium==4.0.0b4->undetected-chromedriver) (1.14.5)\n",
      "Requirement already satisfied: idna in c:\\users\\srividya\\anaconda3\\lib\\site-packages (from trio~=0.17->selenium==4.0.0b4->undetected-chromedriver) (2.10)\n",
      "Requirement already satisfied: sniffio in c:\\users\\srividya\\anaconda3\\lib\\site-packages (from trio~=0.17->selenium==4.0.0b4->undetected-chromedriver) (1.2.0)\n",
      "Requirement already satisfied: pycparser in c:\\users\\srividya\\anaconda3\\lib\\site-packages (from cffi>=1.14->trio~=0.17->selenium==4.0.0b4->undetected-chromedriver) (2.20)\n",
      "Requirement already satisfied: wsproto>=0.14 in c:\\users\\srividya\\anaconda3\\lib\\site-packages (from trio-websocket~=0.9->selenium==4.0.0b4->undetected-chromedriver) (1.0.0)\n",
      "Requirement already satisfied: pyOpenSSL>=0.14 in c:\\users\\srividya\\anaconda3\\lib\\site-packages (from urllib3[secure]~=1.26->selenium==4.0.0b4->undetected-chromedriver) (20.0.1)\n",
      "Requirement already satisfied: cryptography>=1.3.4 in c:\\users\\srividya\\anaconda3\\lib\\site-packages (from urllib3[secure]~=1.26->selenium==4.0.0b4->undetected-chromedriver) (3.4.7)\n",
      "Requirement already satisfied: certifi in c:\\users\\srividya\\anaconda3\\lib\\site-packages (from urllib3[secure]~=1.26->selenium==4.0.0b4->undetected-chromedriver) (2020.12.5)\n",
      "Requirement already satisfied: six>=1.5.2 in c:\\users\\srividya\\anaconda3\\lib\\site-packages (from pyOpenSSL>=0.14->urllib3[secure]~=1.26->selenium==4.0.0b4->undetected-chromedriver) (1.15.0)\n",
      "Requirement already satisfied: h11<1,>=0.9.0 in c:\\users\\srividya\\anaconda3\\lib\\site-packages (from wsproto>=0.14->trio-websocket~=0.9->selenium==4.0.0b4->undetected-chromedriver) (0.12.0)\n",
      "Requirement already satisfied: chardet<5,>=3.0.2 in c:\\users\\srividya\\anaconda3\\lib\\site-packages (from requests->undetected-chromedriver) (4.0.0)\n"
     ]
    }
   ],
   "source": [
    "!pip install selenium\n",
    "!pip install undetected-chromedriver\n",
    "     \n",
    "import undetected_chromedriver.v2 as uc\n",
    "import time\n",
    "import warnings\n",
    "warnings.filterwarnings('ignore')"
   ]
  },
  {
   "cell_type": "code",
   "execution_count": 2,
   "id": "800b7d03",
   "metadata": {},
   "outputs": [],
   "source": [
    "import selenium\n",
    "import pandas as pd\n",
    "from selenium import webdriver \n",
    "from selenium.common.exceptions import  StaleElementReferenceException\n",
    "from selenium.common.exceptions import  NoSuchElementException,NoSuchWindowException\n",
    "\n",
    "from selenium.webdriver.support.ui import WebDriverWait\n",
    "from selenium.webdriver.support import expected_conditions as EC\n",
    "from selenium.webdriver.common.by import By\n"
   ]
  },
  {
   "cell_type": "code",
   "execution_count": 3,
   "id": "b033defd",
   "metadata": {},
   "outputs": [],
   "source": [
    "driver = uc.Chrome()\n",
    "with driver:\n",
    "    driver.get(r\"C:\\Users\\Srividya\\Downloads\\undetected-chromedriver-3.0.3.tar.gz\")"
   ]
  },
  {
   "cell_type": "code",
   "execution_count": 4,
   "id": "c588aa93",
   "metadata": {},
   "outputs": [],
   "source": [
    "url=\"https://www.amazon.in\"\n",
    "driver.get(url)"
   ]
  },
  {
   "cell_type": "code",
   "execution_count": 5,
   "id": "ef9b358a",
   "metadata": {},
   "outputs": [
    {
     "data": {
      "text/plain": [
       "<selenium.webdriver.remote.webelement.WebElement (session=\"e9d27e119d50b035c7e0eecc6fbc8536\", element=\"00affcb0-8c97-486c-8e79-ea516080e03c\")>"
      ]
     },
     "execution_count": 5,
     "metadata": {},
     "output_type": "execute_result"
    }
   ],
   "source": [
    "search_lap=driver.find_element_by_xpath(\"//input[@id='twotabsearchtextbox']\")\n",
    "search_lap"
   ]
  },
  {
   "cell_type": "code",
   "execution_count": 6,
   "id": "1980be3c",
   "metadata": {},
   "outputs": [],
   "source": [
    "search_lap.send_keys(\"Laptop\")"
   ]
  },
  {
   "cell_type": "code",
   "execution_count": 7,
   "id": "12904d55",
   "metadata": {},
   "outputs": [],
   "source": [
    "search=driver.find_element_by_xpath(\"//div[@class='nav-search-submit nav-sprite']\")\n"
   ]
  },
  {
   "cell_type": "code",
   "execution_count": 8,
   "id": "32b2e881",
   "metadata": {},
   "outputs": [],
   "source": [
    "search.click()"
   ]
  },
  {
   "cell_type": "code",
   "execution_count": 11,
   "id": "6a2313ee",
   "metadata": {},
   "outputs": [
    {
     "name": "stdout",
     "output_type": "stream",
     "text": [
      "exception raised\n"
     ]
    }
   ],
   "source": [
    "try:\n",
    "    cpu1=driver.find_elements_by_xpath(\"//span[@class='a-size-base a-color-base']\")\n",
    "        \n",
    "    for i in cpu1:\n",
    "        if i.text==\"Intel Core i5\":\n",
    "            i.click()\n",
    "        \n",
    "except NoSuchElementException as e:\n",
    "            i.click()\n",
    "              \n",
    "except StaleElementReferenceException as e:      \n",
    "            print(\"exception raised\")\n",
    "    "
   ]
  },
  {
   "cell_type": "code",
   "execution_count": 12,
   "id": "91ce8afe",
   "metadata": {},
   "outputs": [
    {
     "name": "stdout",
     "output_type": "stream",
     "text": [
      "exception raised\n"
     ]
    }
   ],
   "source": [
    "try:\n",
    "    cpu2=driver.find_elements_by_xpath(\"//span[@dir='auto']\")\n",
    "    for j in cpu2:\n",
    "        if j.text==\"Intel Core i7\":\n",
    "            j.click()  \n",
    "            \n",
    "except NoSuchElementException as e:  \n",
    "       j.click()  \n",
    "        \n",
    "except StaleElementReferenceException as e:      \n",
    "       print(\"exception raised\")\n",
    "                    "
   ]
  },
  {
   "cell_type": "code",
   "execution_count": 13,
   "id": "f8a50092",
   "metadata": {},
   "outputs": [
    {
     "data": {
      "text/plain": [
       "['Dell Vostro 3400 14\" (35.56 cms) FHD Anti Glare Display Laptop (11th Gen i5-1135G7 / 8GB / 1TB / Integrated Graphics / Win 10 + MS Office / Black/ 1.58Kg) D552154WIN9BE',\n",
       " 'HP 14 11th Gen Intel Core i5 Processor 14-inch(35.6 cm) FHD Laptop (8GB/512GB/Windows 10/MS Office/Natural Silver/1.46Kg), 14s-dr2016tu',\n",
       " 'HP Pavilion (2021) Thin & Light 11th Gen Core i5 Laptop, 16 GB RAM, 512GB SSD, Iris Xe Graphics, 14-inch (35.56 cms) FHD Screen, Win 10, MS Office, Backlit Keyboard, Tranquil Pink (14-dv0055TU)',\n",
       " 'Mi Notebook Ultra 3K Resolution Display Intel Core i7-11370H 11th Gen 15.6-inch(39.62 cms) Thin and Light Laptop (16GB/512GB SSD/Iris Xe Graphics/Win 10/MS Office/Backlit KB/Fingerprint Sensor/1.7Kg)',\n",
       " 'HP 15 11th Gen Intel Core i5 Processor 15.6-inch (39.6 cm) FHD Laptop (8GB/512GB SSD +32GB Intel Optane/Win 10/MS Office/Jet Black/1.69 Kg), 15s-fq2071TU',\n",
       " 'ASUS TUF Gaming F15 Laptop 15.6\" (39.62 cms) FHD 144Hz, Intel Core i5-10300H 10th Gen, GeForce GTX 1650 4GB GDDR6 Graphics (8GB RAM/512GB NVMe SSD/Windows 10/Fortress Gray/2.30 Kg), FX566LH-HN257T',\n",
       " 'HP Pavilion Gaming 10th Gen Intel Core i5 Processor 15.6-inch(39.6 cm) FHD Gaming Laptop (8GB/512GB SSD + 32GB Intel Optane/144 Hz/Win10/MS Office/NVIDIA GTX 1650 4GB/Shadow Black), 15-dk1148TX',\n",
       " 'HP 14 11th Gen Intel Core i5 Processor 14-inch(35.6 cm) FHD Laptop (8GB/512GB/Windows 10/MS Office/Natural Silver/1.46Kg), 14s-dr2016tu',\n",
       " 'Dell Inspiron 3501 15.6\" FHD Display Laptop (i5-1135G7 / 8GB / 1TB HDD + 256GB SSD / Integrated Graphics / Win10 + MSO / Backlit KB / Soft Mint Color) D560559WIN9S',\n",
       " 'ASUS TUF Gaming F15 (2020), 15.6-inch (39.62 cms) FHD 60Hz, Intel Core i5-10300H 10th Gen, NVIDIA GeForce GTX 1650 4GB Graphics, Gaming Laptop(8GB/512GB SSDWindows 10/Gray/2.3 Kg), FX566LH-BQ275T',\n",
       " 'HP Pavilion (2021) 11th Gen Core i5 Laptop, 16 GB RAM, 2GB NVIDIA Graphics, 512GB SSD, 15.6\"(39.62cms) FHD Screen, Windows 10, MS Office, Finger Print Reader, Alexa Built-in (15-eg0103TX)',\n",
       " 'HP Pavilion Gaming 11th Gen Intel Core i5 15.6-inch(39.6 cm) FHD Gaming Laptop (8GB RAM/256GB SSD+1TB HDD/144Hz/GTX 1650 4GB Graphics/Win 10/MS Office/Shadow Black/2.28 Kg), 15-dk2100TX',\n",
       " 'Lenovo IdeaPad Gaming 3 Intel Core i5 10th Gen |15.6 inch(39.6 cm) Full HD IPS Gaming Laptop (8GB/1TB HDD/Windows 10/NVIDIA GTX 1650 4GB GDDR6 Graphics/Onyx Black/2.2Kg), 81Y40183IN',\n",
       " 'ASUS VivoBook 14 (2020), Intel Core i5-1035G1 10th Gen, 14-inch (35.56 cm) FHD, Thin and Light Laptop (8GB/512GB SSD/Office 2019/Windows 10/Integrated Graphics/Silver/1.6 Kg), X415JA-EK562TS',\n",
       " 'ASUS ZenBook 14 (2020) Intel Core i5-1135G7 11th Gen 14-inch (35.56 cms) FHD T&L Laptop (8GB RAM/512GB NVMe SSD/Windows 10/MS Office 2019/Intel Iris Xᵉ Graphics/Pine Grey/1.17 kg), UX425EA-BM501TS',\n",
       " 'Acer Aspire 5 Thin & Light 11th Gen Core i5 Laptop (8 GB RAM/1 TB HDD/Windows 10/Intel Iris Xe Graphics/Backlit Keyboard/1.65Kg/Silver)- 15.6-inch(39.6 cms) FHD Screen A515-56',\n",
       " 'Dell 14 (2021) i5-1135G7 2in1 Touch Screen Laptop, 8Gb RAM, 512Gb SSD, 14” (35.56 cms) FHD Display, Win 10 + MSO, Backlit KB + FPR + Active Pen, Silver Metal Color (Inspiron 5410, D560476WIN9S)',\n",
       " 'Mi Notebook Horizon Edition 14 Intel Core i7-10510U 10th Gen Thin and Light Laptop(8GB/512GB SSD/Windows 10/Nvidia MX350 2GB Graphics/Grey/1.35Kg)(Without Webcam) XMA1904-AF',\n",
       " 'Lenovo IdeaPad S540 11th Gen Intel Core i7 13.3\" QHD IPS Thin & Light Laptop (16GB/512GB SSD/Windows 10/MS Office 2019/Intel Iris Xe Graphics/Iron Grey/1.28Kg), 82H1002CIN',\n",
       " '(Renewed) Dell Latitude 6520 Core i5 2nd Gen | 4Gb Ram | 320 Gb Hdd | 15.6\" True View Led Screen| Numeric Keypad | Wifi | Webcam | Windows 10 | Charger',\n",
       " 'Lenovo IdeaPad Slim 3 2021 11th Gen Intel Core i5 15.6 FHD Thin & Light Laptop (8GB/512GB SSD/Windows 10/MS Office/Backlit Keyboard/2 Year Warranty/Arctic Grey/1.65Kg), 82H801CWIN',\n",
       " 'Dell Vostro 3400 14\" FHD Display Laptop (i5-1135G7 / 8GB / 512GB SSD / Integrated Graphics / Win10 + MSO / Black) D552184WIN9BE',\n",
       " 'HP Pavilion Gaming 10th Gen Intel Core i5 Processor 15.6-inch FHD Gaming Laptop (16GB/512GB SSD + 32GB Intel Optane/144 Hz/Win10/NVIDIA GTX 1650 4GB/Shadow Black), 15-dk1146TX',\n",
       " 'Lenovo IdeaPad Slim 3 2021 11th Gen Intel Core i5 15.6\" (39.62cm) FHD Thin & Light Laptop (8GB/256GB SSD/Windows 10/MS Office/Backlit Keyboard/2 Year Warranty/Arctic Grey/1.65Kg), 82H80156IN',\n",
       " 'HP Pavilion Gaming 11th Gen Intel Core i7 15.6-inch(39.6 cm) FHD Gaming Laptop (16GB RAM/512GB SSD/144Hz/GTX 1650 4GB Graphics/Win 10/MS Office/Shadow Black/2.28 Kg), 15-dk2075tx',\n",
       " '(Renewed) HP Elitebook UltraSlim Hybrid Laptop 820G1 Intel Core i5 - 4200u Processor, 8 GB Ram, 2TB Harddisk & 512 GB ssd, Windows 10 Pro, 12.5 Inches Notebook Computer',\n",
       " 'Dell Vostro 3400 14\" FHD Display Laptop (i5-1135G7 / 8GB / 1TB HDD + 256GB SSD / Integrated Graphics / Win10 + MSO / Black) D552186WIN9BE',\n",
       " 'HP Pavilion 11th Gen Intel Core i5 Processor 14\" (35.56cms) FHD Laptop with Alexa Built-in (16GB/512GB SSD/Win 10/MS Office/2GB NVIDIA MX450 Graphics/Natural Silver/1.41 Kg), 14-dv0084TX',\n",
       " 'HP Pavilion Gaming 10th Gen Intel Core i5 Processor 15.6-inch(39.6 cm) FHD Gaming Laptop (8GB/512GB SSD + 32GB Intel Optane/144 Hz/Win10/MS Office/NVIDIA GTX 1650 4GB/Shadow Black), 15-dk1148TX',\n",
       " 'Lenovo IdeaPad Gaming 3 Intel Core i5 10th Gen 15.6-inch (39.6 cm) FHD 120Hz IPS Gaming Laptop (8GB/512 SSD/Windows 10/NVIDIA GTX 1650 4GB GDDR6/Onyx Black/2.2Kg), 81Y4017UIN']"
      ]
     },
     "execution_count": 13,
     "metadata": {},
     "output_type": "execute_result"
    }
   ],
   "source": [
    "Brands_title=[]\n",
    "Brand_title=driver.find_elements_by_xpath(\"//span[@class='a-size-medium a-color-base a-text-normal']\")\n",
    "for a in Brand_title:\n",
    "    Brands_title.append(a.text)\n",
    "Brands_title\n"
   ]
  },
  {
   "cell_type": "code",
   "execution_count": 14,
   "id": "050d5247",
   "metadata": {},
   "outputs": [
    {
     "data": {
      "text/plain": [
       "['52,858',\n",
       " '58,990',\n",
       " '65,990',\n",
       " '76,999',\n",
       " '55,990',\n",
       " '61,990',\n",
       " '64,990',\n",
       " '58,990',\n",
       " '59,290',\n",
       " '55,990',\n",
       " '73,990',\n",
       " '68,990',\n",
       " '56,990',\n",
       " '50,990',\n",
       " '71,990',\n",
       " '48,990',\n",
       " '70,739',\n",
       " '57,990',\n",
       " '77,990',\n",
       " '23,999',\n",
       " '57,990',\n",
       " '55,891',\n",
       " '67,490',\n",
       " '54,990',\n",
       " '89,990',\n",
       " '39,990',\n",
       " '57,395',\n",
       " '71,990',\n",
       " '64,990',\n",
       " '62,990']"
      ]
     },
     "execution_count": 14,
     "metadata": {},
     "output_type": "execute_result"
    }
   ],
   "source": [
    "prices=[]\n",
    "price=driver.find_elements_by_xpath(\"//span[@class='a-price-whole']\")\n",
    "for c in price:\n",
    "    prices.append(c.text)\n",
    "prices"
   ]
  },
  {
   "cell_type": "code",
   "execution_count": 15,
   "id": "191958d9",
   "metadata": {},
   "outputs": [
    {
     "data": {
      "text/plain": [
       "['https://www.amazon.in/gp/slredirect/picassoRedirect.html/ref=pa_sp_atf_computers_sr_pg1_1?ie=UTF8&adId=A03128052M28BNVDZI78U&url=%2FDell-i5-1135G7-Integrated-Graphics-D552154WIN9BE%2Fdp%2FB08RXZCXH6%2Fref%3Dsr_1_1_sspa%3Fdchild%3D1%26keywords%3DLaptop%26qid%3D1631444362%26refinements%3Dp_n_feature_thirteen_browse-bin%253A12598162031%257C12598163031%26rnid%3D12598141031%26s%3Dcomputers%26sr%3D1-1-spons%26psc%3D1&qualifier=1631444362&id=1727863540764658&widgetName=sp_atf',\n",
       " 'https://www.amazon.in/gp/slredirect/picassoRedirect.html/ref=pa_sp_atf_computers_sr_pg1_1?ie=UTF8&adId=A03126492WD7VIC4OPNI2&url=%2FHP-Processor-14-inch-Windows-14s-dr2016tu%2Fdp%2FB092MS22P1%2Fref%3Dsr_1_2_sspa%3Fdchild%3D1%26keywords%3DLaptop%26qid%3D1631444362%26refinements%3Dp_n_feature_thirteen_browse-bin%253A12598162031%257C12598163031%26rnid%3D12598141031%26s%3Dcomputers%26sr%3D1-2-spons%26psc%3D1&qualifier=1631444362&id=1727863540764658&widgetName=sp_atf',\n",
       " 'https://www.amazon.in/HP-Pavilion-Laptop-Graphics-14-dv0055TU/dp/B0953DD9FC/ref=sr_1_3?dchild=1&keywords=Laptop&qid=1631444362&refinements=p_n_feature_thirteen_browse-bin%3A12598162031%7C12598163031&rnid=12598141031&s=computers&sr=1-3',\n",
       " 'https://www.amazon.in/Notebook-Resolution-i7-11370H-15-6-inch-Fingerprint/dp/B098XL1SY5/ref=sr_1_4?dchild=1&keywords=Laptop&qid=1631444362&refinements=p_n_feature_thirteen_browse-bin%3A12598162031%7C12598163031&rnid=12598141031&s=computers&sr=1-4',\n",
       " 'https://www.amazon.in/HP-Processor-15-6-inch-Laptop-15s-fq2071TU/dp/B08XNZD56X/ref=sr_1_5?dchild=1&keywords=Laptop&qid=1631444362&refinements=p_n_feature_thirteen_browse-bin%3A12598162031%7C12598163031&rnid=12598141031&s=computers&sr=1-5',\n",
       " 'https://www.amazon.in/ASUS-i5-10300H-Graphics-Fortress-FX566LH-HN257T/dp/B08CRMTKMK/ref=sr_1_6?dchild=1&keywords=Laptop&qid=1631444362&refinements=p_n_feature_thirteen_browse-bin%3A12598162031%7C12598163031&rnid=12598141031&s=computers&sr=1-6',\n",
       " 'https://www.amazon.in/HP-Pavilion-Processor-15-6-inch-15-dk1148TX/dp/B091FJ5WPQ/ref=sr_1_7?dchild=1&keywords=Laptop&qid=1631444362&refinements=p_n_feature_thirteen_browse-bin%3A12598162031%7C12598163031&rnid=12598141031&s=computers&sr=1-7',\n",
       " 'https://www.amazon.in/HP-Processor-14-inch-Windows-14s-dr2016tu/dp/B092MS22P1/ref=sr_1_8?dchild=1&keywords=Laptop&qid=1631444362&refinements=p_n_feature_thirteen_browse-bin%3A12598162031%7C12598163031&rnid=12598141031&s=computers&sr=1-8',\n",
       " 'https://www.amazon.in/Dell-Inspiron-3501-Integrated-D560559WIN9S/dp/B097C2JJ1R/ref=sr_1_9?dchild=1&keywords=Laptop&qid=1631444362&refinements=p_n_feature_thirteen_browse-bin%3A12598162031%7C12598163031&rnid=12598141031&s=computers&sr=1-9',\n",
       " 'https://www.amazon.in/ASUS-15-6-inch-i5-10300H-SSDWindows-FX566LH-BQ275T/dp/B096VJ2J4P/ref=sr_1_10?dchild=1&keywords=Laptop&qid=1631444362&refinements=p_n_feature_thirteen_browse-bin%3A12598162031%7C12598163031&rnid=12598141031&s=computers&sr=1-10',\n",
       " 'https://www.amazon.in/HP-Pavilion-Graphics-39-62cms-15-eg0103TX/dp/B08XBZBFCQ/ref=sr_1_11?dchild=1&keywords=Laptop&qid=1631444362&refinements=p_n_feature_thirteen_browse-bin%3A12598162031%7C12598163031&rnid=12598141031&s=computers&sr=1-11',\n",
       " 'https://www.amazon.in/HP-Pavilion-15-6-inch-Graphics-15-dk2100TX/dp/B09BD9B3W9/ref=sr_1_12?dchild=1&keywords=Laptop&qid=1631444362&refinements=p_n_feature_thirteen_browse-bin%3A12598162031%7C12598163031&rnid=12598141031&s=computers&sr=1-12',\n",
       " 'https://www.amazon.in/Lenovo-IdeaPad-Windows-Graphics-81Y40183IN/dp/B096SK39ZB/ref=sr_1_13?dchild=1&keywords=Laptop&qid=1631444362&refinements=p_n_feature_thirteen_browse-bin%3A12598162031%7C12598163031&rnid=12598141031&s=computers&sr=1-13',\n",
       " 'https://www.amazon.in/ASUS-VivoBook-i5-1035G1-Integrated-X415JA-EK562TS/dp/B098F95SF8/ref=sr_1_14?dchild=1&keywords=Laptop&qid=1631444362&refinements=p_n_feature_thirteen_browse-bin%3A12598162031%7C12598163031&rnid=12598141031&s=computers&sr=1-14',\n",
       " 'https://www.amazon.in/gp/slredirect/picassoRedirect.html/ref=pa_sp_mtf_computers_sr_pg1_1?ie=UTF8&adId=A03192692D96MUECYEODQ&url=%2FASUS-ZenBook-i5-1135G7-Graphics-UX425EA-BM501TS%2Fdp%2FB08M4SQ83T%2Fref%3Dsr_1_15_sspa%3Fdchild%3D1%26keywords%3DLaptop%26qid%3D1631444362%26refinements%3Dp_n_feature_thirteen_browse-bin%253A12598162031%257C12598163031%26rnid%3D12598141031%26s%3Dcomputers%26sr%3D1-15-spons%26psc%3D1&qualifier=1631444362&id=1727863540764658&widgetName=sp_mtf',\n",
       " 'https://www.amazon.in/Acer-Graphics-Keyboard-15-6-inch-A515-56/dp/B098DSF15C/ref=sr_1_16?dchild=1&keywords=Laptop&qid=1631444362&refinements=p_n_feature_thirteen_browse-bin%3A12598162031%7C12598163031&rnid=12598141031&s=computers&sr=1-16',\n",
       " 'https://www.amazon.in/Dell-i5-1135G7-Inspiron-5410-D560476WIN9S/dp/B097C2FLFM/ref=sr_1_17?dchild=1&keywords=Laptop&qid=1631444362&refinements=p_n_feature_thirteen_browse-bin%3A12598162031%7C12598163031&rnid=12598141031&s=computers&sr=1-17',\n",
       " 'https://www.amazon.in/Notebook-Horizon-i7-10510U-Graphics-XMA1904-AF/dp/B089DFJHZ8/ref=sr_1_18?dchild=1&keywords=Laptop&qid=1631444362&refinements=p_n_feature_thirteen_browse-bin%3A12598162031%7C12598163031&rnid=12598141031&s=computers&sr=1-18',\n",
       " 'https://www.amazon.in/Lenovo-IdeaPad-Windows-Graphics-82H1002CIN/dp/B094XJPQ6N/ref=sr_1_19?dchild=1&keywords=Laptop&qid=1631444362&refinements=p_n_feature_thirteen_browse-bin%3A12598162031%7C12598163031&rnid=12598141031&s=computers&sr=1-19',\n",
       " 'https://www.amazon.in/Renewed-Dell-Latitude-Numeric-Windows/dp/B09C8Y45XH/ref=sr_1_20?dchild=1&keywords=Laptop&qid=1631444362&refinements=p_n_feature_thirteen_browse-bin%3A12598162031%7C12598163031&rnid=12598141031&s=computers&sr=1-20',\n",
       " 'https://www.amazon.in/Lenovo-IdeaPad-Keyboard-Warranty-82H801CWIN/dp/B09999TTV3/ref=sr_1_21?dchild=1&keywords=Laptop&qid=1631444362&refinements=p_n_feature_thirteen_browse-bin%3A12598162031%7C12598163031&rnid=12598141031&s=computers&sr=1-21',\n",
       " 'https://www.amazon.in/Dell-Vostro-3400-Integrated-D552184WIN9BE/dp/B097T1JNQS/ref=sr_1_22?dchild=1&keywords=Laptop&qid=1631444362&refinements=p_n_feature_thirteen_browse-bin%3A12598162031%7C12598163031&rnid=12598141031&s=computers&sr=1-22',\n",
       " 'https://www.amazon.in/HP-Pavilion-Processor-15-6-inch-15-dk1146TX/dp/B091FH823X/ref=sr_1_23?dchild=1&keywords=Laptop&qid=1631444362&refinements=p_n_feature_thirteen_browse-bin%3A12598162031%7C12598163031&rnid=12598141031&s=computers&sr=1-23',\n",
       " 'https://www.amazon.in/Lenovo-IdeaPad-Keyboard-Warranty-82H80156IN/dp/B09BCSPX7X/ref=sr_1_24?dchild=1&keywords=Laptop&qid=1631444362&refinements=p_n_feature_thirteen_browse-bin%3A12598162031%7C12598163031&rnid=12598141031&s=computers&sr=1-24',\n",
       " 'https://www.amazon.in/HP-Pavilion-15-6-inch-Graphics-15-dk2075tx/dp/B09BDBCRNZ/ref=sr_1_25?dchild=1&keywords=Laptop&qid=1631444362&refinements=p_n_feature_thirteen_browse-bin%3A12598162031%7C12598163031&rnid=12598141031&s=computers&sr=1-25',\n",
       " 'https://www.amazon.in/Renewed-HP-Elitebook-UltraSlim-Hybrid/dp/B09DW696D8/ref=sr_1_26?dchild=1&keywords=Laptop&qid=1631444362&refinements=p_n_feature_thirteen_browse-bin%3A12598162031%7C12598163031&rnid=12598141031&s=computers&sr=1-26',\n",
       " 'https://www.amazon.in/Dell-Vostro-3400-Integrated-D552186WIN9BE/dp/B097T1WN1Y/ref=sr_1_27?dchild=1&keywords=Laptop&qid=1631444362&refinements=p_n_feature_thirteen_browse-bin%3A12598162031%7C12598163031&rnid=12598141031&s=computers&sr=1-27',\n",
       " 'https://www.amazon.in/gp/slredirect/picassoRedirect.html/ref=pa_sp_btf_computers_sr_pg1_1?ie=UTF8&adId=A031236928QWUQ197ZZJW&url=%2FHP-Pavilion-Processor-35-56cms-14-dv0084TX%2Fdp%2FB08XMLV2HK%2Fref%3Dsr_1_28_sspa%3Fdchild%3D1%26keywords%3DLaptop%26qid%3D1631444362%26refinements%3Dp_n_feature_thirteen_browse-bin%253A12598162031%257C12598163031%26rnid%3D12598141031%26s%3Dcomputers%26sr%3D1-28-spons%26psc%3D1&qualifier=1631444362&id=1727863540764658&widgetName=sp_btf',\n",
       " 'https://www.amazon.in/gp/slredirect/picassoRedirect.html/ref=pa_sp_btf_computers_sr_pg1_1?ie=UTF8&adId=A05772172OV0RMCMDIN6E&url=%2FHP-Pavilion-Processor-15-6-inch-15-dk1148TX%2Fdp%2FB091FJ5WPQ%2Fref%3Dsr_1_29_sspa%3Fdchild%3D1%26keywords%3DLaptop%26qid%3D1631444362%26refinements%3Dp_n_feature_thirteen_browse-bin%253A12598162031%257C12598163031%26rnid%3D12598141031%26s%3Dcomputers%26sr%3D1-29-spons%26psc%3D1&qualifier=1631444362&id=1727863540764658&widgetName=sp_btf',\n",
       " 'https://www.amazon.in/gp/slredirect/picassoRedirect.html/ref=pa_sp_btf_computers_sr_pg1_1?ie=UTF8&adId=A02818201VRMR4T3FCEPY&url=%2FLenovo-IdeaPad-15-6-inch-Windows-81Y4017UIN%2Fdp%2FB094XF92HG%2Fref%3Dsr_1_30_sspa%3Fdchild%3D1%26keywords%3DLaptop%26qid%3D1631444362%26refinements%3Dp_n_feature_thirteen_browse-bin%253A12598162031%257C12598163031%26rnid%3D12598141031%26s%3Dcomputers%26sr%3D1-30-spons%26psc%3D1&qualifier=1631444362&id=1727863540764658&widgetName=sp_btf']"
      ]
     },
     "execution_count": 15,
     "metadata": {},
     "output_type": "execute_result"
    }
   ],
   "source": [
    "name_urls=[]\n",
    "titles=driver.find_elements_by_xpath(\"//a[@class='a-link-normal a-text-normal']\")\n",
    "for i in titles:\n",
    "    name_urls.append(i.get_attribute(\"href\"))\n",
    "name_urls    "
   ]
  },
  {
   "cell_type": "code",
   "execution_count": 16,
   "id": "775c4681",
   "metadata": {},
   "outputs": [
    {
     "data": {
      "text/plain": [
       "['3.5 out of 5',\n",
       " '4.2 out of 5',\n",
       " '4.4 out of 5',\n",
       " '4.3 out of 5',\n",
       " '4.1 out of 5',\n",
       " '4.4 out of 5',\n",
       " '4.3 out of 5',\n",
       " '4.2 out of 5',\n",
       " '4 out of 5',\n",
       " '4.4 out of 5',\n",
       " '4.3 out of 5',\n",
       " '4.5 out of 5',\n",
       " '4.2 out of 5',\n",
       " '4.2 out of 5',\n",
       " '4.4 out of 5',\n",
       " '3.2 out of 5',\n",
       " '4 out of 5',\n",
       " '4.2 out of 5',\n",
       " '4.3 out of 5',\n",
       " '1.7 out of 5',\n",
       " '4 out of 5',\n",
       " '3.8 out of 5',\n",
       " '4.3 out of 5',\n",
       " '4.3 out of 5',\n",
       " '3.7 out of 5',\n",
       " '_',\n",
       " '1 out of 5',\n",
       " '4.3 out of 5',\n",
       " '4.3 out of 5',\n",
       " '4.3 out of 5']"
      ]
     },
     "execution_count": 16,
     "metadata": {},
     "output_type": "execute_result"
    }
   ],
   "source": [
    "Ratings=[]\n",
    "for i in name_urls:\n",
    "    driver.get(i)\n",
    "    try:\n",
    "        Rating=driver.find_element_by_xpath(\"//span[@class='a-size-medium a-color-base']\")\n",
    "        Ratings.append( Rating.text)\n",
    "        \n",
    "    except NoSuchElementException  as e:\n",
    "        Ratings.append(\"_\")\n",
    "            \n",
    "Ratings      "
   ]
  },
  {
   "cell_type": "code",
   "execution_count": 17,
   "id": "88c3f325",
   "metadata": {},
   "outputs": [
    {
     "data": {
      "text/plain": [
       "[1,\n",
       " 2,\n",
       " 3,\n",
       " 4,\n",
       " 5,\n",
       " 6,\n",
       " 7,\n",
       " 8,\n",
       " 9,\n",
       " 10,\n",
       " 11,\n",
       " 12,\n",
       " 13,\n",
       " 14,\n",
       " 15,\n",
       " 16,\n",
       " 17,\n",
       " 18,\n",
       " 19,\n",
       " 20,\n",
       " 21,\n",
       " 22,\n",
       " 23,\n",
       " 24,\n",
       " 25,\n",
       " 26,\n",
       " 27,\n",
       " 28,\n",
       " 29,\n",
       " 30]"
      ]
     },
     "execution_count": 17,
     "metadata": {},
     "output_type": "execute_result"
    }
   ],
   "source": [
    "Nos=[]\n",
    "for i in range(1,len(Brands_title)+1):\n",
    "    Nos.append(i)\n",
    "Nos    "
   ]
  },
  {
   "cell_type": "code",
   "execution_count": 18,
   "id": "83676f61",
   "metadata": {},
   "outputs": [
    {
     "data": {
      "text/html": [
       "<style  type=\"text/css\" >\n",
       "</style><table id=\"T_2b765_\" ><thead>    <tr>        <th class=\"col_heading level0 col0\" >Nos</th>        <th class=\"col_heading level0 col1\" >Amazon Laptop</th>        <th class=\"col_heading level0 col2\" >Price</th>        <th class=\"col_heading level0 col3\" >Ratings</th>    </tr></thead><tbody>\n",
       "                <tr>\n",
       "                                <td id=\"T_2b765_row0_col0\" class=\"data row0 col0\" >1</td>\n",
       "                        <td id=\"T_2b765_row0_col1\" class=\"data row0 col1\" >Dell Vostro 3400 14\" (35.56 cms) FHD Anti Glare Display Laptop (11th Gen i5-1135G7 / 8GB / 1TB / Integrated Graphics / Win 10 + MS Office / Black/ 1.58Kg) D552154WIN9BE</td>\n",
       "                        <td id=\"T_2b765_row0_col2\" class=\"data row0 col2\" >52,858</td>\n",
       "                        <td id=\"T_2b765_row0_col3\" class=\"data row0 col3\" >3.5 out of 5</td>\n",
       "            </tr>\n",
       "            <tr>\n",
       "                                <td id=\"T_2b765_row1_col0\" class=\"data row1 col0\" >2</td>\n",
       "                        <td id=\"T_2b765_row1_col1\" class=\"data row1 col1\" >HP 14 11th Gen Intel Core i5 Processor 14-inch(35.6 cm) FHD Laptop (8GB/512GB/Windows 10/MS Office/Natural Silver/1.46Kg), 14s-dr2016tu</td>\n",
       "                        <td id=\"T_2b765_row1_col2\" class=\"data row1 col2\" >58,990</td>\n",
       "                        <td id=\"T_2b765_row1_col3\" class=\"data row1 col3\" >4.2 out of 5</td>\n",
       "            </tr>\n",
       "            <tr>\n",
       "                                <td id=\"T_2b765_row2_col0\" class=\"data row2 col0\" >3</td>\n",
       "                        <td id=\"T_2b765_row2_col1\" class=\"data row2 col1\" >HP Pavilion (2021) Thin & Light 11th Gen Core i5 Laptop, 16 GB RAM, 512GB SSD, Iris Xe Graphics, 14-inch (35.56 cms) FHD Screen, Win 10, MS Office, Backlit Keyboard, Tranquil Pink (14-dv0055TU)</td>\n",
       "                        <td id=\"T_2b765_row2_col2\" class=\"data row2 col2\" >65,990</td>\n",
       "                        <td id=\"T_2b765_row2_col3\" class=\"data row2 col3\" >4.4 out of 5</td>\n",
       "            </tr>\n",
       "            <tr>\n",
       "                                <td id=\"T_2b765_row3_col0\" class=\"data row3 col0\" >4</td>\n",
       "                        <td id=\"T_2b765_row3_col1\" class=\"data row3 col1\" >Mi Notebook Ultra 3K Resolution Display Intel Core i7-11370H 11th Gen 15.6-inch(39.62 cms) Thin and Light Laptop (16GB/512GB SSD/Iris Xe Graphics/Win 10/MS Office/Backlit KB/Fingerprint Sensor/1.7Kg)</td>\n",
       "                        <td id=\"T_2b765_row3_col2\" class=\"data row3 col2\" >76,999</td>\n",
       "                        <td id=\"T_2b765_row3_col3\" class=\"data row3 col3\" >4.3 out of 5</td>\n",
       "            </tr>\n",
       "            <tr>\n",
       "                                <td id=\"T_2b765_row4_col0\" class=\"data row4 col0\" >5</td>\n",
       "                        <td id=\"T_2b765_row4_col1\" class=\"data row4 col1\" >HP 15 11th Gen Intel Core i5 Processor 15.6-inch (39.6 cm) FHD Laptop (8GB/512GB SSD +32GB Intel Optane/Win 10/MS Office/Jet Black/1.69 Kg), 15s-fq2071TU</td>\n",
       "                        <td id=\"T_2b765_row4_col2\" class=\"data row4 col2\" >55,990</td>\n",
       "                        <td id=\"T_2b765_row4_col3\" class=\"data row4 col3\" >4.1 out of 5</td>\n",
       "            </tr>\n",
       "            <tr>\n",
       "                                <td id=\"T_2b765_row5_col0\" class=\"data row5 col0\" >6</td>\n",
       "                        <td id=\"T_2b765_row5_col1\" class=\"data row5 col1\" >ASUS TUF Gaming F15 Laptop 15.6\" (39.62 cms) FHD 144Hz, Intel Core i5-10300H 10th Gen, GeForce GTX 1650 4GB GDDR6 Graphics (8GB RAM/512GB NVMe SSD/Windows 10/Fortress Gray/2.30 Kg), FX566LH-HN257T</td>\n",
       "                        <td id=\"T_2b765_row5_col2\" class=\"data row5 col2\" >61,990</td>\n",
       "                        <td id=\"T_2b765_row5_col3\" class=\"data row5 col3\" >4.4 out of 5</td>\n",
       "            </tr>\n",
       "            <tr>\n",
       "                                <td id=\"T_2b765_row6_col0\" class=\"data row6 col0\" >7</td>\n",
       "                        <td id=\"T_2b765_row6_col1\" class=\"data row6 col1\" >HP Pavilion Gaming 10th Gen Intel Core i5 Processor 15.6-inch(39.6 cm) FHD Gaming Laptop (8GB/512GB SSD + 32GB Intel Optane/144 Hz/Win10/MS Office/NVIDIA GTX 1650 4GB/Shadow Black), 15-dk1148TX</td>\n",
       "                        <td id=\"T_2b765_row6_col2\" class=\"data row6 col2\" >64,990</td>\n",
       "                        <td id=\"T_2b765_row6_col3\" class=\"data row6 col3\" >4.3 out of 5</td>\n",
       "            </tr>\n",
       "            <tr>\n",
       "                                <td id=\"T_2b765_row7_col0\" class=\"data row7 col0\" >8</td>\n",
       "                        <td id=\"T_2b765_row7_col1\" class=\"data row7 col1\" >HP 14 11th Gen Intel Core i5 Processor 14-inch(35.6 cm) FHD Laptop (8GB/512GB/Windows 10/MS Office/Natural Silver/1.46Kg), 14s-dr2016tu</td>\n",
       "                        <td id=\"T_2b765_row7_col2\" class=\"data row7 col2\" >58,990</td>\n",
       "                        <td id=\"T_2b765_row7_col3\" class=\"data row7 col3\" >4.2 out of 5</td>\n",
       "            </tr>\n",
       "            <tr>\n",
       "                                <td id=\"T_2b765_row8_col0\" class=\"data row8 col0\" >9</td>\n",
       "                        <td id=\"T_2b765_row8_col1\" class=\"data row8 col1\" >Dell Inspiron 3501 15.6\" FHD Display Laptop (i5-1135G7 / 8GB / 1TB HDD + 256GB SSD / Integrated Graphics / Win10 + MSO / Backlit KB / Soft Mint Color) D560559WIN9S</td>\n",
       "                        <td id=\"T_2b765_row8_col2\" class=\"data row8 col2\" >59,290</td>\n",
       "                        <td id=\"T_2b765_row8_col3\" class=\"data row8 col3\" >4 out of 5</td>\n",
       "            </tr>\n",
       "            <tr>\n",
       "                                <td id=\"T_2b765_row9_col0\" class=\"data row9 col0\" >10</td>\n",
       "                        <td id=\"T_2b765_row9_col1\" class=\"data row9 col1\" >ASUS TUF Gaming F15 (2020), 15.6-inch (39.62 cms) FHD 60Hz, Intel Core i5-10300H 10th Gen, NVIDIA GeForce GTX 1650 4GB Graphics, Gaming Laptop(8GB/512GB SSDWindows 10/Gray/2.3 Kg), FX566LH-BQ275T</td>\n",
       "                        <td id=\"T_2b765_row9_col2\" class=\"data row9 col2\" >55,990</td>\n",
       "                        <td id=\"T_2b765_row9_col3\" class=\"data row9 col3\" >4.4 out of 5</td>\n",
       "            </tr>\n",
       "    </tbody></table>"
      ],
      "text/plain": [
       "<pandas.io.formats.style.Styler at 0x1b33c698940>"
      ]
     },
     "execution_count": 18,
     "metadata": {},
     "output_type": "execute_result"
    }
   ],
   "source": [
    "import pandas as pd\n",
    "Amazon_Laptop=pd.DataFrame({})\n",
    "Amazon_Laptop['Nos']=Nos[:10]\n",
    "Amazon_Laptop['Amazon Laptop']=Brands_title[:10]\n",
    "Amazon_Laptop['Price']=prices[:10]\n",
    "Amazon_Laptop['Ratings']=Ratings[:10]\n",
    "Amazon_Laptop.style.hide_index()\n",
    "\n"
   ]
  },
  {
   "cell_type": "markdown",
   "id": "1fedd947",
   "metadata": {},
   "source": [
    "These are the first 10 Laptops from  Amazon"
   ]
  }
 ],
 "metadata": {
  "kernelspec": {
   "display_name": "Python 3",
   "language": "python",
   "name": "python3"
  },
  "language_info": {
   "codemirror_mode": {
    "name": "ipython",
    "version": 3
   },
   "file_extension": ".py",
   "mimetype": "text/x-python",
   "name": "python",
   "nbconvert_exporter": "python",
   "pygments_lexer": "ipython3",
   "version": "3.8.8"
  }
 },
 "nbformat": 4,
 "nbformat_minor": 5
}
