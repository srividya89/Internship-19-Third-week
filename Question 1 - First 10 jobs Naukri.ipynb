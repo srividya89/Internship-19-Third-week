{
 "cells": [
  {
   "cell_type": "code",
   "execution_count": 1,
   "id": "9863a04c",
   "metadata": {},
   "outputs": [
    {
     "name": "stdout",
     "output_type": "stream",
     "text": [
      "Requirement already satisfied: selenium in c:\\users\\srividya\\anaconda3\\lib\\site-packages (4.0.0b4)\n",
      "Requirement already satisfied: trio~=0.17 in c:\\users\\srividya\\anaconda3\\lib\\site-packages (from selenium) (0.19.0)\n",
      "Requirement already satisfied: trio-websocket~=0.9 in c:\\users\\srividya\\anaconda3\\lib\\site-packages (from selenium) (0.9.2)\n",
      "Requirement already satisfied: urllib3[secure]~=1.26 in c:\\users\\srividya\\anaconda3\\lib\\site-packages (from selenium) (1.26.4)\n",
      "Requirement already satisfied: outcome in c:\\users\\srividya\\anaconda3\\lib\\site-packages (from trio~=0.17->selenium) (1.1.0)\n",
      "Requirement already satisfied: async-generator>=1.9 in c:\\users\\srividya\\anaconda3\\lib\\site-packages (from trio~=0.17->selenium) (1.10)\n",
      "Requirement already satisfied: sortedcontainers in c:\\users\\srividya\\anaconda3\\lib\\site-packages (from trio~=0.17->selenium) (2.3.0)\n",
      "Requirement already satisfied: attrs>=19.2.0 in c:\\users\\srividya\\anaconda3\\lib\\site-packages (from trio~=0.17->selenium) (20.3.0)\n",
      "Requirement already satisfied: idna in c:\\users\\srividya\\anaconda3\\lib\\site-packages (from trio~=0.17->selenium) (2.10)\n",
      "Requirement already satisfied: cffi>=1.14 in c:\\users\\srividya\\anaconda3\\lib\\site-packages (from trio~=0.17->selenium) (1.14.5)\n",
      "Requirement already satisfied: sniffio in c:\\users\\srividya\\anaconda3\\lib\\site-packages (from trio~=0.17->selenium) (1.2.0)\n",
      "Requirement already satisfied: pycparser in c:\\users\\srividya\\anaconda3\\lib\\site-packages (from cffi>=1.14->trio~=0.17->selenium) (2.20)\n",
      "Requirement already satisfied: wsproto>=0.14 in c:\\users\\srividya\\anaconda3\\lib\\site-packages (from trio-websocket~=0.9->selenium) (1.0.0)\n",
      "Requirement already satisfied: pyOpenSSL>=0.14 in c:\\users\\srividya\\anaconda3\\lib\\site-packages (from urllib3[secure]~=1.26->selenium) (20.0.1)\n",
      "Requirement already satisfied: certifi in c:\\users\\srividya\\anaconda3\\lib\\site-packages (from urllib3[secure]~=1.26->selenium) (2020.12.5)\n",
      "Requirement already satisfied: cryptography>=1.3.4 in c:\\users\\srividya\\anaconda3\\lib\\site-packages (from urllib3[secure]~=1.26->selenium) (3.4.7)\n",
      "Requirement already satisfied: six>=1.5.2 in c:\\users\\srividya\\anaconda3\\lib\\site-packages (from pyOpenSSL>=0.14->urllib3[secure]~=1.26->selenium) (1.15.0)\n",
      "Requirement already satisfied: h11<1,>=0.9.0 in c:\\users\\srividya\\anaconda3\\lib\\site-packages (from wsproto>=0.14->trio-websocket~=0.9->selenium) (0.12.0)\n",
      "Requirement already satisfied: undetected-chromedriver in c:\\users\\srividya\\anaconda3\\lib\\site-packages (3.0.3)\n",
      "Requirement already satisfied: websockets in c:\\users\\srividya\\anaconda3\\lib\\site-packages (from undetected-chromedriver) (10.0)\n",
      "Requirement already satisfied: selenium==4.0.0b4 in c:\\users\\srividya\\anaconda3\\lib\\site-packages (from undetected-chromedriver) (4.0.0b4)\n",
      "Requirement already satisfied: requests in c:\\users\\srividya\\anaconda3\\lib\\site-packages (from undetected-chromedriver) (2.25.1)\n",
      "Requirement already satisfied: trio~=0.17 in c:\\users\\srividya\\anaconda3\\lib\\site-packages (from selenium==4.0.0b4->undetected-chromedriver) (0.19.0)\n",
      "Requirement already satisfied: urllib3[secure]~=1.26 in c:\\users\\srividya\\anaconda3\\lib\\site-packages (from selenium==4.0.0b4->undetected-chromedriver) (1.26.4)\n",
      "Requirement already satisfied: trio-websocket~=0.9 in c:\\users\\srividya\\anaconda3\\lib\\site-packages (from selenium==4.0.0b4->undetected-chromedriver) (0.9.2)\n",
      "Requirement already satisfied: sniffio in c:\\users\\srividya\\anaconda3\\lib\\site-packages (from trio~=0.17->selenium==4.0.0b4->undetected-chromedriver) (1.2.0)\n",
      "Requirement already satisfied: attrs>=19.2.0 in c:\\users\\srividya\\anaconda3\\lib\\site-packages (from trio~=0.17->selenium==4.0.0b4->undetected-chromedriver) (20.3.0)\n",
      "Requirement already satisfied: async-generator>=1.9 in c:\\users\\srividya\\anaconda3\\lib\\site-packages (from trio~=0.17->selenium==4.0.0b4->undetected-chromedriver) (1.10)\n",
      "Requirement already satisfied: idna in c:\\users\\srividya\\anaconda3\\lib\\site-packages (from trio~=0.17->selenium==4.0.0b4->undetected-chromedriver) (2.10)\n",
      "Requirement already satisfied: cffi>=1.14 in c:\\users\\srividya\\anaconda3\\lib\\site-packages (from trio~=0.17->selenium==4.0.0b4->undetected-chromedriver) (1.14.5)\n",
      "Requirement already satisfied: sortedcontainers in c:\\users\\srividya\\anaconda3\\lib\\site-packages (from trio~=0.17->selenium==4.0.0b4->undetected-chromedriver) (2.3.0)\n",
      "Requirement already satisfied: outcome in c:\\users\\srividya\\anaconda3\\lib\\site-packages (from trio~=0.17->selenium==4.0.0b4->undetected-chromedriver) (1.1.0)\n",
      "Requirement already satisfied: pycparser in c:\\users\\srividya\\anaconda3\\lib\\site-packages (from cffi>=1.14->trio~=0.17->selenium==4.0.0b4->undetected-chromedriver) (2.20)\n",
      "Requirement already satisfied: wsproto>=0.14 in c:\\users\\srividya\\anaconda3\\lib\\site-packages (from trio-websocket~=0.9->selenium==4.0.0b4->undetected-chromedriver) (1.0.0)\n",
      "Requirement already satisfied: certifi in c:\\users\\srividya\\anaconda3\\lib\\site-packages (from urllib3[secure]~=1.26->selenium==4.0.0b4->undetected-chromedriver) (2020.12.5)\n",
      "Requirement already satisfied: pyOpenSSL>=0.14 in c:\\users\\srividya\\anaconda3\\lib\\site-packages (from urllib3[secure]~=1.26->selenium==4.0.0b4->undetected-chromedriver) (20.0.1)\n",
      "Requirement already satisfied: cryptography>=1.3.4 in c:\\users\\srividya\\anaconda3\\lib\\site-packages (from urllib3[secure]~=1.26->selenium==4.0.0b4->undetected-chromedriver) (3.4.7)\n",
      "Requirement already satisfied: six>=1.5.2 in c:\\users\\srividya\\anaconda3\\lib\\site-packages (from pyOpenSSL>=0.14->urllib3[secure]~=1.26->selenium==4.0.0b4->undetected-chromedriver) (1.15.0)\n",
      "Requirement already satisfied: h11<1,>=0.9.0 in c:\\users\\srividya\\anaconda3\\lib\\site-packages (from wsproto>=0.14->trio-websocket~=0.9->selenium==4.0.0b4->undetected-chromedriver) (0.12.0)\n",
      "Requirement already satisfied: chardet<5,>=3.0.2 in c:\\users\\srividya\\anaconda3\\lib\\site-packages (from requests->undetected-chromedriver) (4.0.0)\n"
     ]
    }
   ],
   "source": [
    "!pip install selenium\n",
    "!pip install undetected-chromedriver\n",
    "     \n",
    "import undetected_chromedriver.v2 as uc\n",
    "import time\n",
    "import warnings\n",
    "warnings.filterwarnings('ignore')"
   ]
  },
  {
   "cell_type": "code",
   "execution_count": 2,
   "id": "800b7d03",
   "metadata": {},
   "outputs": [],
   "source": [
    "import selenium\n",
    "import pandas as pd\n",
    "from selenium import webdriver \n",
    "from selenium.common.exceptions import  StaleElementReferenceException\n",
    "from selenium.common.exceptions import  NoSuchElementException,NoSuchWindowException\n",
    "\n",
    "from selenium.webdriver.support.ui import WebDriverWait\n",
    "from selenium.webdriver.support import expected_conditions as EC\n",
    "from selenium.webdriver.common.by import By\n"
   ]
  },
  {
   "cell_type": "code",
   "execution_count": 3,
   "id": "b033defd",
   "metadata": {},
   "outputs": [],
   "source": [
    "driver = uc.Chrome()\n",
    "with driver:\n",
    "    driver.get(r\"C:\\Users\\Srividya\\Downloads\\undetected-chromedriver-3.0.3.tar.gz\")"
   ]
  },
  {
   "cell_type": "code",
   "execution_count": 4,
   "id": "c588aa93",
   "metadata": {},
   "outputs": [],
   "source": [
    "url=\"https://www.naukri.com/\"\n",
    "driver.get(url)"
   ]
  },
  {
   "cell_type": "code",
   "execution_count": 5,
   "id": "22aa7a37",
   "metadata": {},
   "outputs": [
    {
     "data": {
      "text/plain": [
       "<selenium.webdriver.remote.webelement.WebElement (session=\"6f778adfa2c7b6885a27034f36f2d76b\", element=\"d20f8c45-ee6f-4813-a55c-55875e65b3d1\")>"
      ]
     },
     "execution_count": 5,
     "metadata": {},
     "output_type": "execute_result"
    }
   ],
   "source": [
    "search_job=driver.find_element_by_xpath(\"//input[@class='sugInp']\")\n",
    "search_job"
   ]
  },
  {
   "cell_type": "code",
   "execution_count": 6,
   "id": "63699774",
   "metadata": {},
   "outputs": [],
   "source": [
    "search_job.send_keys(\"Data Analyst\")"
   ]
  },
  {
   "cell_type": "code",
   "execution_count": 7,
   "id": "a9a3f68d",
   "metadata": {},
   "outputs": [
    {
     "data": {
      "text/plain": [
       "<selenium.webdriver.remote.webelement.WebElement (session=\"6f778adfa2c7b6885a27034f36f2d76b\", element=\"f2b82bbe-77f8-4a39-8abc-c0d7a47e949b\")>"
      ]
     },
     "execution_count": 7,
     "metadata": {},
     "output_type": "execute_result"
    }
   ],
   "source": [
    "search_loc=driver.find_element_by_xpath(\"//input[@name='location']\")\n",
    "search_loc"
   ]
  },
  {
   "cell_type": "code",
   "execution_count": 8,
   "id": "d77a1cd0",
   "metadata": {},
   "outputs": [],
   "source": [
    "search_loc.send_keys(\"Bangalore\")"
   ]
  },
  {
   "cell_type": "code",
   "execution_count": 9,
   "id": "6409c0a2",
   "metadata": {},
   "outputs": [],
   "source": [
    "time.sleep(1)"
   ]
  },
  {
   "cell_type": "code",
   "execution_count": 10,
   "id": "ba26f022",
   "metadata": {},
   "outputs": [],
   "source": [
    "search_btn=driver.find_element_by_xpath(\"//div[@class='search-btn']\")"
   ]
  },
  {
   "cell_type": "code",
   "execution_count": 11,
   "id": "78e7f456",
   "metadata": {},
   "outputs": [],
   "source": [
    "try:  \n",
    "    search_btn.click()\n",
    "except StaleElementReferenceException as e:\n",
    "    search_btn.click()"
   ]
  },
  {
   "cell_type": "code",
   "execution_count": 12,
   "id": "9b65caf4",
   "metadata": {},
   "outputs": [
    {
     "data": {
      "text/plain": [
       "['https://www.naukri.com/job-listings-tcs-hiring-for-senior-data-analyst-bfsi-domain-tata-consultancy-services-ltd-chennai-bangalore-bengaluru-6-to-11-years-090921006929?src=jobsearchDesk&sid=16313019007786961&xp=1&px=1',\n",
       " 'https://www.naukri.com/job-listings-business-data-analyst-trigent-software-private-limited-bangalore-bengaluru-5-to-10-years-080921602383?src=jobsearchDesk&sid=16313019007786961&xp=2&px=1',\n",
       " 'https://www.naukri.com/job-listings-business-data-analyst-trigent-software-private-limited-bangalore-bengaluru-5-to-10-years-080921002381?src=jobsearchDesk&sid=16313019007786961&xp=3&px=1',\n",
       " 'https://www.naukri.com/job-listings-tcs-hiring-for-mdm-master-data-management-data-analyst-bfsi-domain-tata-consultancy-services-ltd-chennai-bangalore-bengaluru-6-to-11-years-090921006980?src=jobsearchDesk&sid=16313019007786961&xp=4&px=1',\n",
       " 'https://www.naukri.com/job-listings-senior-data-analyst-idam-services-glaxosmithkline-pharmaceuticals-limited-bangalore-bengaluru-4-to-8-years-080921501391?src=jobsearchDesk&sid=16313019007786961&xp=5&px=1',\n",
       " 'https://www.naukri.com/job-listings-data-analyst-sr-data-engineer-syren-technologies-private-limited-hyderabad-secunderabad-chennai-bangalore-bengaluru-4-to-9-years-080921005341?src=jobsearchDesk&sid=16313019007786961&xp=6&px=1',\n",
       " 'https://www.naukri.com/job-listings-senior-data-analyst-mcafee-software-india-pvt-ltd-bangalore-bengaluru-6-to-8-years-100921500968?src=jobsearchDesk&sid=16313019007786961&xp=7&px=1',\n",
       " 'https://www.naukri.com/job-listings-senior-data-analyst-in4-walmart-labs-bangalore-bengaluru-8-to-10-years-090921500551?src=jobsearchDesk&sid=16313019007786961&xp=8&px=1',\n",
       " 'https://www.naukri.com/job-listings-data-analyst-python-sql-affine-bangalore-bengaluru-3-to-5-years-080921903676?src=jobsearchDesk&sid=16313019007786961&xp=9&px=1',\n",
       " 'https://www.naukri.com/job-listings-executive-data-analyst-gokaldas-exports-ltd-bangalore-bengaluru-0-to-3-years-030921004749?src=jobsearchDesk&sid=16313019007786961&xp=10&px=1',\n",
       " 'https://www.naukri.com/job-listings-business-data-analyst-google-data-studio-sql-ave-promagne-bangalore-bengaluru-3-to-8-years-070921902812?src=jobsearchDesk&sid=16313019007786961&xp=11&px=1',\n",
       " 'https://www.naukri.com/job-listings-senior-data-analyst-virtusa-consulting-services-pvt-ltd-hyderabad-secunderabad-pune-gurgaon-gurugram-chennai-bangalore-bengaluru-mumbai-all-areas-8-to-12-years-300821008987?src=jobsearchDesk&sid=16313019007786961&xp=12&px=1',\n",
       " 'https://www.naukri.com/job-listings-systems-and-data-analyst-safety-and-provisioning-aecom-india-private-limited-bangalore-bengaluru-2-to-7-years-090921900357?src=jobsearchDesk&sid=16313019007786961&xp=13&px=1',\n",
       " 'https://www.naukri.com/job-listings-sr-data-analyst-empower-retirement-bangalore-bengaluru-5-to-8-years-090921502717?src=jobsearchDesk&sid=16313019007786961&xp=14&px=1',\n",
       " 'https://www.naukri.com/job-listings-sr-analyst-data-analysis-tesco-bengaluru-bangalore-bengaluru-2-to-4-years-090921502415?src=jobsearchDesk&sid=16313019007786961&xp=15&px=1',\n",
       " 'https://www.naukri.com/job-listings-business-data-analyst-mis-reporting-intertrust-group-mumbai-bangalore-bengaluru-3-to-8-years-270121001879?src=jobsearchDesk&sid=16313019007786961&xp=16&px=1',\n",
       " 'https://www.naukri.com/job-listings-data-analyst-morgan-stanley-advantage-services-pvt-ltd-bangalore-bengaluru-5-to-10-years-090921501664?src=jobsearchDesk&sid=16313019007786961&xp=17&px=1',\n",
       " 'https://www.naukri.com/job-listings-people-analytics-data-analyst-marvell-india-pvt-ltd-bangalore-bengaluru-3-to-5-years-100921500681?src=jobsearchDesk&sid=16313019007786961&xp=18&px=1',\n",
       " 'https://www.naukri.com/job-listings-data-analyst-sas-alteryx-podium-systems-pune-chennai-gurgaon-gurugram-bangalore-bengaluru-4-to-9-years-100921901852?src=jobsearchDesk&sid=16313019007786961&xp=19&px=1',\n",
       " 'https://www.naukri.com/job-listings-data-analyst-edtech-talentstack-bangalore-bengaluru-2-to-6-years-080921904427?src=jobsearchDesk&sid=16313019007786961&xp=20&px=1']"
      ]
     },
     "execution_count": 12,
     "metadata": {},
     "output_type": "execute_result"
    }
   ],
   "source": [
    "urls=[]\n",
    "titles=driver.find_elements_by_xpath(\"//a[@class='title fw500 ellipsis']\")\n",
    "for i in titles:\n",
    "    urls.append(i.get_attribute(\"href\"))\n",
    "urls    "
   ]
  },
  {
   "cell_type": "code",
   "execution_count": 51,
   "id": "b22e713a",
   "metadata": {},
   "outputs": [
    {
     "data": {
      "text/plain": [
       "['Tcs Hiring For Senior Data Analyst (bfsi domain)',\n",
       " 'Business Data Analyst',\n",
       " 'Business Data Analyst',\n",
       " 'Tcs Hiring For MDM (master data management) Data Analyst (bfsi domain)',\n",
       " 'Senior Data Analyst IDAM Services',\n",
       " 'Data Analyst/Sr.Data Engineer',\n",
       " 'SENIOR DATA ANALYST',\n",
       " 'Senior Data Analyst IN4',\n",
       " 'Data Analyst - Python/SQL',\n",
       " 'Executive Data Analyst',\n",
       " 'Business Data Analyst - Google Data Studio & SQL',\n",
       " '_',\n",
       " '_',\n",
       " 'Sr Data Analyst',\n",
       " 'Sr Analyst - Data Analysis',\n",
       " 'Business Data Analyst - MIS & Reporting',\n",
       " 'Data Analyst',\n",
       " 'People Analytics - Data Analyst',\n",
       " 'Data Analyst SAS+Alteryx',\n",
       " 'Data Analyst - EdTech']"
      ]
     },
     "execution_count": 51,
     "metadata": {},
     "output_type": "execute_result"
    }
   ],
   "source": [
    "job_titles=[]\n",
    "for i in urls:\n",
    "    driver.get(i)\n",
    "    try:\n",
    "        job_title=driver.find_element_by_xpath(\"//h1[@class='jd-header-title']\")\n",
    "        job_titles.append( job_title.text)\n",
    "        \n",
    "    #except NoSuchWindowException as e:\n",
    "        #print(\"exception handled\")\n",
    "    except NoSuchElementException  as e:\n",
    "        job_titles.append(\"_\")\n",
    "            \n",
    "job_titles        "
   ]
  },
  {
   "cell_type": "code",
   "execution_count": 52,
   "id": "05cfc43d",
   "metadata": {},
   "outputs": [],
   "source": [
    "job_titles.remove(job_titles[11]) \n"
   ]
  },
  {
   "cell_type": "code",
   "execution_count": 53,
   "id": "856ba386",
   "metadata": {},
   "outputs": [
    {
     "data": {
      "text/plain": [
       "['Tcs Hiring For Senior Data Analyst (bfsi domain)',\n",
       " 'Business Data Analyst',\n",
       " 'Business Data Analyst',\n",
       " 'Tcs Hiring For MDM (master data management) Data Analyst (bfsi domain)',\n",
       " 'Senior Data Analyst IDAM Services',\n",
       " 'Data Analyst/Sr.Data Engineer',\n",
       " 'SENIOR DATA ANALYST',\n",
       " 'Senior Data Analyst IN4',\n",
       " 'Data Analyst - Python/SQL',\n",
       " 'Executive Data Analyst',\n",
       " 'Business Data Analyst - Google Data Studio & SQL',\n",
       " 'Sr Data Analyst',\n",
       " 'Sr Analyst - Data Analysis',\n",
       " 'Business Data Analyst - MIS & Reporting',\n",
       " 'Data Analyst',\n",
       " 'People Analytics - Data Analyst',\n",
       " 'Data Analyst SAS+Alteryx',\n",
       " 'Data Analyst - EdTech']"
      ]
     },
     "execution_count": 53,
     "metadata": {},
     "output_type": "execute_result"
    }
   ],
   "source": [
    "job_titles.remove(job_titles[11]) \n",
    "job_titles "
   ]
  },
  {
   "cell_type": "code",
   "execution_count": 55,
   "id": "1a044ed9",
   "metadata": {},
   "outputs": [
    {
     "data": {
      "text/plain": [
       "['Chennai',\n",
       " 'Bangalore/Bengaluru',\n",
       " 'Bangalore/Bengaluru',\n",
       " 'Chennai',\n",
       " 'Bangalore/Bengaluru',\n",
       " 'Hyderabad/Secunderabad',\n",
       " 'Bangalore/Bengaluru',\n",
       " 'Bangalore/Bengaluru',\n",
       " 'Bangalore/Bengaluru',\n",
       " 'Bangalore/Bengaluru',\n",
       " 'Bangalore/Bengaluru',\n",
       " '_',\n",
       " '_',\n",
       " 'Bangalore/Bengaluru',\n",
       " 'Bangalore/Bengaluru',\n",
       " 'Mumbai',\n",
       " 'Bangalore/Bengaluru',\n",
       " 'Bangalore/Bengaluru',\n",
       " 'Pune',\n",
       " 'Bangalore/Bengaluru']"
      ]
     },
     "execution_count": 55,
     "metadata": {},
     "output_type": "execute_result"
    }
   ],
   "source": [
    "job_locations=[]\n",
    "for i in urls:\n",
    "    driver.get(i)\n",
    "    try:\n",
    "        job_location =driver.find_element_by_xpath(\"//div[@class='left']//a\")\n",
    "        job_locations.append(job_location.text)\n",
    "        \n",
    "    except NoSuchElementException  as e:\n",
    "        job_locations.append(\"_\")\n",
    "\n",
    "job_locations        \n",
    "       "
   ]
  },
  {
   "cell_type": "code",
   "execution_count": 56,
   "id": "92fca82a",
   "metadata": {},
   "outputs": [],
   "source": [
    "job_locations.remove(job_locations[11])    \n",
    " \n"
   ]
  },
  {
   "cell_type": "code",
   "execution_count": 57,
   "id": "f7c8e30b",
   "metadata": {},
   "outputs": [
    {
     "data": {
      "text/plain": [
       "['Chennai',\n",
       " 'Bangalore/Bengaluru',\n",
       " 'Bangalore/Bengaluru',\n",
       " 'Chennai',\n",
       " 'Bangalore/Bengaluru',\n",
       " 'Hyderabad/Secunderabad',\n",
       " 'Bangalore/Bengaluru',\n",
       " 'Bangalore/Bengaluru',\n",
       " 'Bangalore/Bengaluru',\n",
       " 'Bangalore/Bengaluru',\n",
       " 'Bangalore/Bengaluru',\n",
       " 'Bangalore/Bengaluru',\n",
       " 'Bangalore/Bengaluru',\n",
       " 'Mumbai',\n",
       " 'Bangalore/Bengaluru',\n",
       " 'Bangalore/Bengaluru',\n",
       " 'Pune',\n",
       " 'Bangalore/Bengaluru']"
      ]
     },
     "execution_count": 57,
     "metadata": {},
     "output_type": "execute_result"
    }
   ],
   "source": [
    "job_locations.remove(job_locations[11]) \n",
    "job_locations"
   ]
  },
  {
   "cell_type": "code",
   "execution_count": 58,
   "id": "8e5abe26",
   "metadata": {},
   "outputs": [
    {
     "data": {
      "text/plain": [
       "['Tata Consultancy Services Ltd.',\n",
       " 'Trigent Software',\n",
       " 'Trigent Software',\n",
       " 'Tata Consultancy Services Ltd.',\n",
       " 'GlaxoSmithKline Pharmaceuticals Limited',\n",
       " 'SYREN TECHNOLOGIES PRIVATE LIMITED',\n",
       " 'McAfee Software (India) Pvt. Ltd',\n",
       " 'Walmart Labs',\n",
       " 'Affine',\n",
       " 'Gokaldas Exports Ltd',\n",
       " 'AVE-Promagne',\n",
       " '_',\n",
       " '_',\n",
       " 'Empower Retirement',\n",
       " 'Tesco Bengaluru',\n",
       " 'INTERTRUST GROUP',\n",
       " 'Morgan Stanley Advantage Services',\n",
       " 'Marvell India Pvt Ltd',\n",
       " 'Podium Systems',\n",
       " 'TalentStack']"
      ]
     },
     "execution_count": 58,
     "metadata": {},
     "output_type": "execute_result"
    }
   ],
   "source": [
    "com_names=[]\n",
    "for i in urls:\n",
    "    driver.get(i)\n",
    "    try:\n",
    "        com_name =driver.find_element_by_xpath(\"//a[@class='pad-rt-8']\")\n",
    "        com_names.append( com_name.text)\n",
    "        \n",
    "    except NoSuchElementException  as e:\n",
    "        com_names.append(\"_\")\n",
    "com_names        "
   ]
  },
  {
   "cell_type": "code",
   "execution_count": 59,
   "id": "a628e45d",
   "metadata": {},
   "outputs": [],
   "source": [
    "com_names.remove(com_names[11])    \n",
    "\n"
   ]
  },
  {
   "cell_type": "code",
   "execution_count": 60,
   "id": "ed5edb88",
   "metadata": {},
   "outputs": [
    {
     "data": {
      "text/plain": [
       "['Tata Consultancy Services Ltd.',\n",
       " 'Trigent Software',\n",
       " 'Trigent Software',\n",
       " 'Tata Consultancy Services Ltd.',\n",
       " 'GlaxoSmithKline Pharmaceuticals Limited',\n",
       " 'SYREN TECHNOLOGIES PRIVATE LIMITED',\n",
       " 'McAfee Software (India) Pvt. Ltd',\n",
       " 'Walmart Labs',\n",
       " 'Affine',\n",
       " 'Gokaldas Exports Ltd',\n",
       " 'AVE-Promagne',\n",
       " 'Empower Retirement',\n",
       " 'Tesco Bengaluru',\n",
       " 'INTERTRUST GROUP',\n",
       " 'Morgan Stanley Advantage Services',\n",
       " 'Marvell India Pvt Ltd',\n",
       " 'Podium Systems',\n",
       " 'TalentStack']"
      ]
     },
     "execution_count": 60,
     "metadata": {},
     "output_type": "execute_result"
    }
   ],
   "source": [
    "com_names.remove(com_names[11])   \n",
    "com_names"
   ]
  },
  {
   "cell_type": "code",
   "execution_count": 61,
   "id": "3780d969",
   "metadata": {},
   "outputs": [
    {
     "data": {
      "text/plain": [
       "['6 - 11 years',\n",
       " '5 - 10 years',\n",
       " '5 - 10 years',\n",
       " '6 - 11 years',\n",
       " '4 - 8 years',\n",
       " '4 - 9 years',\n",
       " '6 - 8 years',\n",
       " '8 - 10 years',\n",
       " '3 - 5 years',\n",
       " '0 - 3 years',\n",
       " '3 - 8 years',\n",
       " '_',\n",
       " '_',\n",
       " '5 - 8 years',\n",
       " '2 - 4 years',\n",
       " '3 - 8 years',\n",
       " '5 - 10 years',\n",
       " '3 - 5 years',\n",
       " '4 - 9 years',\n",
       " '2 - 6 years']"
      ]
     },
     "execution_count": 61,
     "metadata": {},
     "output_type": "execute_result"
    }
   ],
   "source": [
    "exp_reqs=[]\n",
    "for i in urls:\n",
    "    driver.get(i)\n",
    "    try:\n",
    "        exp_req =driver.find_element_by_xpath(\"//div[@class='exp']//span\")\n",
    "        exp_reqs.append(exp_req.text)\n",
    "        \n",
    "    except NoSuchElementException  as e:\n",
    "        exp_reqs.append(\"_\")\n",
    "exp_reqs    "
   ]
  },
  {
   "cell_type": "code",
   "execution_count": 62,
   "id": "b600e027",
   "metadata": {},
   "outputs": [],
   "source": [
    "exp_reqs.remove(exp_reqs[11])  "
   ]
  },
  {
   "cell_type": "code",
   "execution_count": 63,
   "id": "ac2c4688",
   "metadata": {},
   "outputs": [
    {
     "data": {
      "text/plain": [
       "['6 - 11 years',\n",
       " '5 - 10 years',\n",
       " '5 - 10 years',\n",
       " '6 - 11 years',\n",
       " '4 - 8 years',\n",
       " '4 - 9 years',\n",
       " '6 - 8 years',\n",
       " '8 - 10 years',\n",
       " '3 - 5 years',\n",
       " '0 - 3 years',\n",
       " '3 - 8 years',\n",
       " '5 - 8 years',\n",
       " '2 - 4 years',\n",
       " '3 - 8 years',\n",
       " '5 - 10 years',\n",
       " '3 - 5 years',\n",
       " '4 - 9 years',\n",
       " '2 - 6 years']"
      ]
     },
     "execution_count": 63,
     "metadata": {},
     "output_type": "execute_result"
    }
   ],
   "source": [
    "exp_reqs.remove(exp_reqs[11])    \n",
    "exp_reqs"
   ]
  },
  {
   "cell_type": "code",
   "execution_count": 64,
   "id": "c61cb791",
   "metadata": {},
   "outputs": [
    {
     "name": "stdout",
     "output_type": "stream",
     "text": [
      "length of list scraped are equal\n"
     ]
    }
   ],
   "source": [
    "if len(job_titles)==len(job_locations)==len(com_names)==len(exp_reqs):\n",
    "    print(\"length of list scraped are equal\")\n",
    "else:\n",
    "    print(\"length of list scraped are not equal\")"
   ]
  },
  {
   "cell_type": "code",
   "execution_count": 66,
   "id": "82f3cc10",
   "metadata": {},
   "outputs": [
    {
     "data": {
      "text/plain": [
       "[1, 2, 3, 4, 5, 6, 7, 8, 9, 10, 11, 12, 13, 14, 15, 16, 17, 18]"
      ]
     },
     "execution_count": 66,
     "metadata": {},
     "output_type": "execute_result"
    }
   ],
   "source": [
    "Nos=[]\n",
    "for i in range(1,len(job_titles)+1):\n",
    "    Nos.append(i)\n",
    "Nos    "
   ]
  },
  {
   "cell_type": "code",
   "execution_count": 67,
   "id": "1c30ab8e",
   "metadata": {},
   "outputs": [
    {
     "data": {
      "text/html": [
       "<style  type=\"text/css\" >\n",
       "</style><table id=\"T_94034_\" ><thead>    <tr>        <th class=\"col_heading level0 col0\" >Nos</th>        <th class=\"col_heading level0 col1\" >Job Titles</th>        <th class=\"col_heading level0 col2\" >Job Locations</th>        <th class=\"col_heading level0 col3\" >Company Names</th>        <th class=\"col_heading level0 col4\" >Experience_Required</th>    </tr></thead><tbody>\n",
       "                <tr>\n",
       "                                <td id=\"T_94034_row0_col0\" class=\"data row0 col0\" >1</td>\n",
       "                        <td id=\"T_94034_row0_col1\" class=\"data row0 col1\" >Tcs Hiring For Senior Data Analyst (bfsi domain)</td>\n",
       "                        <td id=\"T_94034_row0_col2\" class=\"data row0 col2\" >Chennai</td>\n",
       "                        <td id=\"T_94034_row0_col3\" class=\"data row0 col3\" >Tata Consultancy Services Ltd.</td>\n",
       "                        <td id=\"T_94034_row0_col4\" class=\"data row0 col4\" >6 - 11 years</td>\n",
       "            </tr>\n",
       "            <tr>\n",
       "                                <td id=\"T_94034_row1_col0\" class=\"data row1 col0\" >2</td>\n",
       "                        <td id=\"T_94034_row1_col1\" class=\"data row1 col1\" >Business Data Analyst</td>\n",
       "                        <td id=\"T_94034_row1_col2\" class=\"data row1 col2\" >Bangalore/Bengaluru</td>\n",
       "                        <td id=\"T_94034_row1_col3\" class=\"data row1 col3\" >Trigent Software</td>\n",
       "                        <td id=\"T_94034_row1_col4\" class=\"data row1 col4\" >5 - 10 years</td>\n",
       "            </tr>\n",
       "            <tr>\n",
       "                                <td id=\"T_94034_row2_col0\" class=\"data row2 col0\" >3</td>\n",
       "                        <td id=\"T_94034_row2_col1\" class=\"data row2 col1\" >Business Data Analyst</td>\n",
       "                        <td id=\"T_94034_row2_col2\" class=\"data row2 col2\" >Bangalore/Bengaluru</td>\n",
       "                        <td id=\"T_94034_row2_col3\" class=\"data row2 col3\" >Trigent Software</td>\n",
       "                        <td id=\"T_94034_row2_col4\" class=\"data row2 col4\" >5 - 10 years</td>\n",
       "            </tr>\n",
       "            <tr>\n",
       "                                <td id=\"T_94034_row3_col0\" class=\"data row3 col0\" >4</td>\n",
       "                        <td id=\"T_94034_row3_col1\" class=\"data row3 col1\" >Tcs Hiring For MDM (master data management) Data Analyst (bfsi domain)</td>\n",
       "                        <td id=\"T_94034_row3_col2\" class=\"data row3 col2\" >Chennai</td>\n",
       "                        <td id=\"T_94034_row3_col3\" class=\"data row3 col3\" >Tata Consultancy Services Ltd.</td>\n",
       "                        <td id=\"T_94034_row3_col4\" class=\"data row3 col4\" >6 - 11 years</td>\n",
       "            </tr>\n",
       "            <tr>\n",
       "                                <td id=\"T_94034_row4_col0\" class=\"data row4 col0\" >5</td>\n",
       "                        <td id=\"T_94034_row4_col1\" class=\"data row4 col1\" >Senior Data Analyst IDAM Services</td>\n",
       "                        <td id=\"T_94034_row4_col2\" class=\"data row4 col2\" >Bangalore/Bengaluru</td>\n",
       "                        <td id=\"T_94034_row4_col3\" class=\"data row4 col3\" >GlaxoSmithKline Pharmaceuticals Limited</td>\n",
       "                        <td id=\"T_94034_row4_col4\" class=\"data row4 col4\" >4 - 8 years</td>\n",
       "            </tr>\n",
       "            <tr>\n",
       "                                <td id=\"T_94034_row5_col0\" class=\"data row5 col0\" >6</td>\n",
       "                        <td id=\"T_94034_row5_col1\" class=\"data row5 col1\" >Data Analyst/Sr.Data Engineer</td>\n",
       "                        <td id=\"T_94034_row5_col2\" class=\"data row5 col2\" >Hyderabad/Secunderabad</td>\n",
       "                        <td id=\"T_94034_row5_col3\" class=\"data row5 col3\" >SYREN TECHNOLOGIES PRIVATE LIMITED</td>\n",
       "                        <td id=\"T_94034_row5_col4\" class=\"data row5 col4\" >4 - 9 years</td>\n",
       "            </tr>\n",
       "            <tr>\n",
       "                                <td id=\"T_94034_row6_col0\" class=\"data row6 col0\" >7</td>\n",
       "                        <td id=\"T_94034_row6_col1\" class=\"data row6 col1\" >SENIOR DATA ANALYST</td>\n",
       "                        <td id=\"T_94034_row6_col2\" class=\"data row6 col2\" >Bangalore/Bengaluru</td>\n",
       "                        <td id=\"T_94034_row6_col3\" class=\"data row6 col3\" >McAfee Software (India) Pvt. Ltd</td>\n",
       "                        <td id=\"T_94034_row6_col4\" class=\"data row6 col4\" >6 - 8 years</td>\n",
       "            </tr>\n",
       "            <tr>\n",
       "                                <td id=\"T_94034_row7_col0\" class=\"data row7 col0\" >8</td>\n",
       "                        <td id=\"T_94034_row7_col1\" class=\"data row7 col1\" >Senior Data Analyst IN4</td>\n",
       "                        <td id=\"T_94034_row7_col2\" class=\"data row7 col2\" >Bangalore/Bengaluru</td>\n",
       "                        <td id=\"T_94034_row7_col3\" class=\"data row7 col3\" >Walmart Labs</td>\n",
       "                        <td id=\"T_94034_row7_col4\" class=\"data row7 col4\" >8 - 10 years</td>\n",
       "            </tr>\n",
       "            <tr>\n",
       "                                <td id=\"T_94034_row8_col0\" class=\"data row8 col0\" >9</td>\n",
       "                        <td id=\"T_94034_row8_col1\" class=\"data row8 col1\" >Data Analyst - Python/SQL</td>\n",
       "                        <td id=\"T_94034_row8_col2\" class=\"data row8 col2\" >Bangalore/Bengaluru</td>\n",
       "                        <td id=\"T_94034_row8_col3\" class=\"data row8 col3\" >Affine</td>\n",
       "                        <td id=\"T_94034_row8_col4\" class=\"data row8 col4\" >3 - 5 years</td>\n",
       "            </tr>\n",
       "            <tr>\n",
       "                                <td id=\"T_94034_row9_col0\" class=\"data row9 col0\" >10</td>\n",
       "                        <td id=\"T_94034_row9_col1\" class=\"data row9 col1\" >Executive Data Analyst</td>\n",
       "                        <td id=\"T_94034_row9_col2\" class=\"data row9 col2\" >Bangalore/Bengaluru</td>\n",
       "                        <td id=\"T_94034_row9_col3\" class=\"data row9 col3\" >Gokaldas Exports Ltd</td>\n",
       "                        <td id=\"T_94034_row9_col4\" class=\"data row9 col4\" >0 - 3 years</td>\n",
       "            </tr>\n",
       "    </tbody></table>"
      ],
      "text/plain": [
       "<pandas.io.formats.style.Styler at 0x1bd05394af0>"
      ]
     },
     "execution_count": 67,
     "metadata": {},
     "output_type": "execute_result"
    }
   ],
   "source": [
    "import pandas as pd\n",
    "NaukriJob=pd.DataFrame({})\n",
    "NaukriJob['Nos']=Nos[:10]\n",
    "NaukriJob['Job Titles']=job_titles [:10]\n",
    "NaukriJob['Job Locations']=job_locations[:10]\n",
    "NaukriJob['Company Names']=com_names[:10]\n",
    "NaukriJob['Experience_Required']=exp_reqs[:10]\n",
    "NaukriJob.style.hide_index()"
   ]
  },
  {
   "cell_type": "markdown",
   "id": "44281f14",
   "metadata": {},
   "source": [
    "These are the first 10 jobs results from the Jobdetails we scrapped from Naukri"
   ]
  }
 ],
 "metadata": {
  "kernelspec": {
   "display_name": "Python 3",
   "language": "python",
   "name": "python3"
  },
  "language_info": {
   "codemirror_mode": {
    "name": "ipython",
    "version": 3
   },
   "file_extension": ".py",
   "mimetype": "text/x-python",
   "name": "python",
   "nbconvert_exporter": "python",
   "pygments_lexer": "ipython3",
   "version": "3.8.8"
  }
 },
 "nbformat": 4,
 "nbformat_minor": 5
}
