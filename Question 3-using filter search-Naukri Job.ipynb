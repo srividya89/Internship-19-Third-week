{
 "cells": [
  {
   "cell_type": "code",
   "execution_count": 1,
   "id": "9863a04c",
   "metadata": {},
   "outputs": [
    {
     "name": "stdout",
     "output_type": "stream",
     "text": [
      "Requirement already satisfied: selenium in c:\\users\\srividya\\anaconda3\\lib\\site-packages (4.0.0b4)\n",
      "Requirement already satisfied: trio~=0.17 in c:\\users\\srividya\\anaconda3\\lib\\site-packages (from selenium) (0.19.0)\n",
      "Requirement already satisfied: trio-websocket~=0.9 in c:\\users\\srividya\\anaconda3\\lib\\site-packages (from selenium) (0.9.2)\n",
      "Requirement already satisfied: urllib3[secure]~=1.26 in c:\\users\\srividya\\anaconda3\\lib\\site-packages (from selenium) (1.26.4)\n",
      "Requirement already satisfied: sortedcontainers in c:\\users\\srividya\\anaconda3\\lib\\site-packages (from trio~=0.17->selenium) (2.3.0)\n",
      "Requirement already satisfied: cffi>=1.14 in c:\\users\\srividya\\anaconda3\\lib\\site-packages (from trio~=0.17->selenium) (1.14.5)\n",
      "Requirement already satisfied: sniffio in c:\\users\\srividya\\anaconda3\\lib\\site-packages (from trio~=0.17->selenium) (1.2.0)\n",
      "Requirement already satisfied: outcome in c:\\users\\srividya\\anaconda3\\lib\\site-packages (from trio~=0.17->selenium) (1.1.0)\n",
      "Requirement already satisfied: async-generator>=1.9 in c:\\users\\srividya\\anaconda3\\lib\\site-packages (from trio~=0.17->selenium) (1.10)\n",
      "Requirement already satisfied: idna in c:\\users\\srividya\\anaconda3\\lib\\site-packages (from trio~=0.17->selenium) (2.10)\n",
      "Requirement already satisfied: attrs>=19.2.0 in c:\\users\\srividya\\anaconda3\\lib\\site-packages (from trio~=0.17->selenium) (20.3.0)\n",
      "Requirement already satisfied: pycparser in c:\\users\\srividya\\anaconda3\\lib\\site-packages (from cffi>=1.14->trio~=0.17->selenium) (2.20)\n",
      "Requirement already satisfied: wsproto>=0.14 in c:\\users\\srividya\\anaconda3\\lib\\site-packages (from trio-websocket~=0.9->selenium) (1.0.0)\n",
      "Requirement already satisfied: cryptography>=1.3.4 in c:\\users\\srividya\\anaconda3\\lib\\site-packages (from urllib3[secure]~=1.26->selenium) (3.4.7)\n",
      "Requirement already satisfied: certifi in c:\\users\\srividya\\anaconda3\\lib\\site-packages (from urllib3[secure]~=1.26->selenium) (2020.12.5)\n",
      "Requirement already satisfied: pyOpenSSL>=0.14 in c:\\users\\srividya\\anaconda3\\lib\\site-packages (from urllib3[secure]~=1.26->selenium) (20.0.1)\n",
      "Requirement already satisfied: six>=1.5.2 in c:\\users\\srividya\\anaconda3\\lib\\site-packages (from pyOpenSSL>=0.14->urllib3[secure]~=1.26->selenium) (1.15.0)\n",
      "Requirement already satisfied: h11<1,>=0.9.0 in c:\\users\\srividya\\anaconda3\\lib\\site-packages (from wsproto>=0.14->trio-websocket~=0.9->selenium) (0.12.0)\n",
      "Requirement already satisfied: undetected-chromedriver in c:\\users\\srividya\\anaconda3\\lib\\site-packages (3.0.3)\n",
      "Requirement already satisfied: websockets in c:\\users\\srividya\\anaconda3\\lib\\site-packages (from undetected-chromedriver) (10.0)\n",
      "Requirement already satisfied: requests in c:\\users\\srividya\\anaconda3\\lib\\site-packages (from undetected-chromedriver) (2.25.1)\n",
      "Requirement already satisfied: selenium==4.0.0b4 in c:\\users\\srividya\\anaconda3\\lib\\site-packages (from undetected-chromedriver) (4.0.0b4)\n",
      "Requirement already satisfied: trio-websocket~=0.9 in c:\\users\\srividya\\anaconda3\\lib\\site-packages (from selenium==4.0.0b4->undetected-chromedriver) (0.9.2)\n",
      "Requirement already satisfied: urllib3[secure]~=1.26 in c:\\users\\srividya\\anaconda3\\lib\\site-packages (from selenium==4.0.0b4->undetected-chromedriver) (1.26.4)\n",
      "Requirement already satisfied: trio~=0.17 in c:\\users\\srividya\\anaconda3\\lib\\site-packages (from selenium==4.0.0b4->undetected-chromedriver) (0.19.0)\n",
      "Requirement already satisfied: async-generator>=1.9 in c:\\users\\srividya\\anaconda3\\lib\\site-packages (from trio~=0.17->selenium==4.0.0b4->undetected-chromedriver) (1.10)\n",
      "Requirement already satisfied: outcome in c:\\users\\srividya\\anaconda3\\lib\\site-packages (from trio~=0.17->selenium==4.0.0b4->undetected-chromedriver) (1.1.0)\n",
      "Requirement already satisfied: attrs>=19.2.0 in c:\\users\\srividya\\anaconda3\\lib\\site-packages (from trio~=0.17->selenium==4.0.0b4->undetected-chromedriver) (20.3.0)\n",
      "Requirement already satisfied: idna in c:\\users\\srividya\\anaconda3\\lib\\site-packages (from trio~=0.17->selenium==4.0.0b4->undetected-chromedriver) (2.10)\n",
      "Requirement already satisfied: cffi>=1.14 in c:\\users\\srividya\\anaconda3\\lib\\site-packages (from trio~=0.17->selenium==4.0.0b4->undetected-chromedriver) (1.14.5)\n",
      "Requirement already satisfied: sniffio in c:\\users\\srividya\\anaconda3\\lib\\site-packages (from trio~=0.17->selenium==4.0.0b4->undetected-chromedriver) (1.2.0)\n",
      "Requirement already satisfied: sortedcontainers in c:\\users\\srividya\\anaconda3\\lib\\site-packages (from trio~=0.17->selenium==4.0.0b4->undetected-chromedriver) (2.3.0)\n",
      "Requirement already satisfied: pycparser in c:\\users\\srividya\\anaconda3\\lib\\site-packages (from cffi>=1.14->trio~=0.17->selenium==4.0.0b4->undetected-chromedriver) (2.20)\n",
      "Requirement already satisfied: wsproto>=0.14 in c:\\users\\srividya\\anaconda3\\lib\\site-packages (from trio-websocket~=0.9->selenium==4.0.0b4->undetected-chromedriver) (1.0.0)\n",
      "Requirement already satisfied: pyOpenSSL>=0.14 in c:\\users\\srividya\\anaconda3\\lib\\site-packages (from urllib3[secure]~=1.26->selenium==4.0.0b4->undetected-chromedriver) (20.0.1)\n",
      "Requirement already satisfied: certifi in c:\\users\\srividya\\anaconda3\\lib\\site-packages (from urllib3[secure]~=1.26->selenium==4.0.0b4->undetected-chromedriver) (2020.12.5)\n",
      "Requirement already satisfied: cryptography>=1.3.4 in c:\\users\\srividya\\anaconda3\\lib\\site-packages (from urllib3[secure]~=1.26->selenium==4.0.0b4->undetected-chromedriver) (3.4.7)\n",
      "Requirement already satisfied: six>=1.5.2 in c:\\users\\srividya\\anaconda3\\lib\\site-packages (from pyOpenSSL>=0.14->urllib3[secure]~=1.26->selenium==4.0.0b4->undetected-chromedriver) (1.15.0)\n",
      "Requirement already satisfied: h11<1,>=0.9.0 in c:\\users\\srividya\\anaconda3\\lib\\site-packages (from wsproto>=0.14->trio-websocket~=0.9->selenium==4.0.0b4->undetected-chromedriver) (0.12.0)\n",
      "Requirement already satisfied: chardet<5,>=3.0.2 in c:\\users\\srividya\\anaconda3\\lib\\site-packages (from requests->undetected-chromedriver) (4.0.0)\n"
     ]
    }
   ],
   "source": [
    "!pip install selenium\n",
    "!pip install undetected-chromedriver\n",
    "     \n",
    "import undetected_chromedriver.v2 as uc\n",
    "import time\n",
    "import warnings\n",
    "warnings.filterwarnings('ignore')"
   ]
  },
  {
   "cell_type": "code",
   "execution_count": 2,
   "id": "800b7d03",
   "metadata": {},
   "outputs": [],
   "source": [
    "import selenium\n",
    "import pandas as pd\n",
    "from selenium import webdriver \n",
    "from selenium.common.exceptions import  StaleElementReferenceException\n",
    "from selenium.common.exceptions import  NoSuchElementException,NoSuchWindowException\n",
    "\n",
    "from selenium.webdriver.support.ui import WebDriverWait\n",
    "from selenium.webdriver.support import expected_conditions as EC\n",
    "from selenium.webdriver.common.by import By\n"
   ]
  },
  {
   "cell_type": "code",
   "execution_count": 3,
   "id": "b033defd",
   "metadata": {},
   "outputs": [],
   "source": [
    "driver = uc.Chrome()\n",
    "with driver:\n",
    "    driver.get(r\"C:\\Users\\Srividya\\Downloads\\undetected-chromedriver-3.0.3.tar.gz\")"
   ]
  },
  {
   "cell_type": "code",
   "execution_count": 4,
   "id": "c588aa93",
   "metadata": {},
   "outputs": [],
   "source": [
    "url=\"https://www.naukri.com/\"\n",
    "driver.get(url)"
   ]
  },
  {
   "cell_type": "code",
   "execution_count": 5,
   "id": "22aa7a37",
   "metadata": {},
   "outputs": [
    {
     "data": {
      "text/plain": [
       "<selenium.webdriver.remote.webelement.WebElement (session=\"e2f784ea972f38b60176bbe5fa3bc11f\", element=\"47587551-7c12-4e9b-b636-2e850e0d5c93\")>"
      ]
     },
     "execution_count": 5,
     "metadata": {},
     "output_type": "execute_result"
    }
   ],
   "source": [
    "search_job=driver.find_element_by_xpath(\"//input[@class='sugInp']\")\n",
    "search_job"
   ]
  },
  {
   "cell_type": "code",
   "execution_count": 6,
   "id": "63699774",
   "metadata": {},
   "outputs": [],
   "source": [
    "search_job.send_keys(\"Data Scientist\")"
   ]
  },
  {
   "cell_type": "code",
   "execution_count": 7,
   "id": "6409c0a2",
   "metadata": {},
   "outputs": [],
   "source": [
    "time.sleep(1)"
   ]
  },
  {
   "cell_type": "code",
   "execution_count": 8,
   "id": "ba26f022",
   "metadata": {},
   "outputs": [],
   "source": [
    "search_btn=driver.find_element_by_xpath(\"//div[@class='search-btn']\")"
   ]
  },
  {
   "cell_type": "code",
   "execution_count": 9,
   "id": "78e7f456",
   "metadata": {},
   "outputs": [],
   "source": [
    "try:  \n",
    "    search_btn.click()\n",
    "except StaleElementReferenceException as e:\n",
    "    search_btn.click()"
   ]
  },
  {
   "cell_type": "code",
   "execution_count": 10,
   "id": "2dd4cbd1",
   "metadata": {},
   "outputs": [],
   "source": [
    "try:\n",
    "    location=driver.find_elements_by_xpath(\"//p[@class='grey-text lH20 fleft ml-8 txtLbl']//span\")\n",
    "    for i in location:\n",
    "        if i.text=='Delhi / NCR':\n",
    "            i.click()\n",
    "    \n",
    "except StaleElementReferenceException as e:\n",
    "       time.sleep(1)\n",
    "    \n",
    "    "
   ]
  },
  {
   "cell_type": "code",
   "execution_count": 11,
   "id": "19798afd",
   "metadata": {},
   "outputs": [],
   "source": [
    "try:\n",
    "    salary=driver.find_elements_by_xpath(\"//p[@class='grey-text lH20 fleft ml-8 txtLbl']//span\")\n",
    "    for j in salary:\n",
    "        if j.text=='3-6 Lakhs':\n",
    "            j.click()         \n",
    "\n",
    "except StaleElementReferenceException as e:\n",
    "       time.sleep(1)\n",
    "    \n",
    "               "
   ]
  },
  {
   "cell_type": "code",
   "execution_count": 77,
   "id": "9b65caf4",
   "metadata": {},
   "outputs": [
    {
     "data": {
      "text/plain": [
       "['https://www.naukri.com/job-listings-data-scientist-machine-learning-engineer-creative-hands-hr-consultancy-hyderabad-secunderabad-pune-ahmedabad-gurgaon-gurugram-chennai-bangalore-bengaluru-0-to-0-years-220821000656?src=jobsearchDesk&sid=16313243820478355_3&xp=1&px=1',\n",
       " 'https://www.naukri.com/job-listings-data-analyst-data-scientist-skillenable-fintech-private-limited-bangalore-bengaluru-delhi-ncr-mumbai-all-areas-2-to-5-years-280821002888?src=jobsearchDesk&sid=16313243820478355_3&xp=2&px=1',\n",
       " 'https://www.naukri.com/job-listings-data-scientist-wfh-mind-infotech-mothersonsumi-infotech-designs-limited-pune-chennai-bangalore-bengaluru-delhi-ncr-mumbai-all-areas-3-to-7-years-310821005263?src=jobsearchDesk&sid=16313243820478355_3&xp=3&px=1',\n",
       " 'https://www.naukri.com/job-listings-data-scientist-insurance-huquo-consulting-pvt-ltd-noida-gurgaon-gurugram-2-to-7-years-100921903694?src=jobsearchDesk&sid=16313243820478355_3&xp=4&px=1',\n",
       " 'https://www.naukri.com/job-listings-data-scientist-data-analyst-cars24-gurgaon-gurugram-1-to-5-years-270721906255?src=jobsearchDesk&sid=16313243820478355_3&xp=5&px=1',\n",
       " 'https://www.naukri.com/job-listings-only-fresher-data-scientist-data-analyst-analytics-mnc-jobs-gaba-consultancy-services-noida-gurgaon-gurugram-delhi-ncr-0-to-0-years-070921000173?src=jobsearchDesk&sid=16313243820478355_3&xp=6&px=1',\n",
       " 'https://www.naukri.com/job-listings-data-scientist-data-analyst-business-analytics-mnc-jobs-freshers-gaba-consultancy-services-noida-new-delhi-gurgaon-gurugram-0-to-0-years-030921000292?src=jobsearchDesk&sid=16313243820478355_3&xp=7&px=1',\n",
       " 'https://www.naukri.com/job-listings-data-scientist-r-systems-international-ltd-noida-3-to-6-years-310821002757?src=jobsearchDesk&sid=16313243820478355_3&xp=8&px=1',\n",
       " 'https://www.naukri.com/job-listings-data-scientist-process-nine-technologies-pvt-ltd-gurgaon-gurugram-1-to-3-years-070921007445?src=jobsearchDesk&sid=16313243820478355_3&xp=9&px=1',\n",
       " 'https://www.naukri.com/job-listings-junior-data-scientists-engineers-py-consultancy-new-delhi-delhi-ncr-0-to-3-years-300821006992?src=jobsearchDesk&sid=16313243820478355_3&xp=10&px=1',\n",
       " 'https://www.naukri.com/job-listings-immediate-openings-for-data-scientist-for-wipro-c2h-ideslabs-private-limited-gurgaon-gurugram-5-to-10-years-080921602801?src=jobsearchDesk&sid=16313243820478355_3&xp=11&px=1',\n",
       " 'https://www.naukri.com/job-listings-data-scientist-kusum-healthcare-pvt-ltd-delhi-ncr-4-to-6-years-241120001877?src=jobsearchDesk&sid=16313243820478355_3&xp=12&px=1',\n",
       " 'https://www.naukri.com/job-listings-data-scientist-machine-learning-nlp-talpro-gurgaon-gurugram-2-to-6-years-040820900222?src=jobsearchDesk&sid=16313243820478355_3&xp=13&px=1',\n",
       " 'https://www.naukri.com/job-listings-data-scientist-immediate-joiners-quikruit-consulting-llp-noida-2-to-5-years-070921901722?src=jobsearchDesk&sid=16313243820478355_3&xp=14&px=1',\n",
       " 'https://www.naukri.com/job-listings-hiring-data-scientist-develope-ids-infotech-ltd-permanent-wfh-ids-infotech-ltd-chandigarh-hyderabad-secunderabad-chennai-bangalore-bengaluru-delhi-ncr-5-to-10-years-260721608362?src=jobsearchDesk&sid=16313243820478355_3&xp=15&px=1',\n",
       " 'https://www.naukri.com/job-listings-data-scientist-internship-ihackers-inc-new-delhi-0-to-1-years-160821500884?src=jobsearchDesk&sid=16313243820478355_3&xp=16&px=1',\n",
       " 'https://www.naukri.com/job-listings-data-scientist-fractal-analytics-ltd-mumbai-gurgaon-gurugram-bangalore-bengaluru-3-to-7-years-070621501457?src=jobsearchDesk&sid=16313243820478355_3&xp=17&px=1',\n",
       " 'https://www.naukri.com/job-listings-senior-data-scientist-inventiv-international-pharma-services-pvt-ltd-hyderabad-secunderabad-gurgaon-gurugram-bangalore-bengaluru-3-to-6-years-090721000064?src=jobsearchDesk&sid=16313243820478355_3&xp=18&px=1',\n",
       " 'https://www.naukri.com/job-listings-senior-data-scientist-inicu-delhi-1-to-5-years-101218500043?src=jobsearchDesk&sid=16313243820478355_3&xp=19&px=1',\n",
       " 'https://www.naukri.com/job-listings-data-scientist-sentieo-delhi-2-to-7-years-090719501296?src=jobsearchDesk&sid=16313243820478355_3&xp=20&px=1']"
      ]
     },
     "execution_count": 77,
     "metadata": {},
     "output_type": "execute_result"
    }
   ],
   "source": [
    "urls=[]\n",
    "titles=driver.find_elements_by_xpath(\"//a[@class='title fw500 ellipsis']\")\n",
    "for i in titles:\n",
    "    urls.append(i.get_attribute(\"href\"))\n",
    "urls    "
   ]
  },
  {
   "cell_type": "code",
   "execution_count": 78,
   "id": "b22e713a",
   "metadata": {},
   "outputs": [
    {
     "data": {
      "text/plain": [
       "['Data Scientist/ Machine Learning Engineer',\n",
       " 'Data Analyst/Data Scientist',\n",
       " 'Data Scientist - WFH - MIND Infotech',\n",
       " 'Data Scientist - Insurance',\n",
       " 'Data Scientist / Data Analyst',\n",
       " 'Only Fresher / Data Scientist / Data Analyst / Analytics - MNC Jobs',\n",
       " 'Data Scientist / Data Analyst / Business Analytics - MNC Jobs Freshers',\n",
       " '_',\n",
       " 'Data Scientist',\n",
       " 'Junior Data Scientists & Engineers',\n",
       " 'Immediate Openings For Data Scientist For Wipro C2H',\n",
       " 'Data Scientist',\n",
       " 'Data Scientist - Machine Learning/ NLP',\n",
       " 'Data Scientist-immediate Joiners',\n",
       " 'Hiring Data Scientist Develope || IDS Infotech LTD || (Permanent WFH)',\n",
       " 'Data Scientist Internship',\n",
       " 'Data Scientist',\n",
       " '_',\n",
       " 'Senior Data Scientist',\n",
       " 'Data Scientist']"
      ]
     },
     "execution_count": 78,
     "metadata": {},
     "output_type": "execute_result"
    }
   ],
   "source": [
    "job_titles=[]\n",
    "for i in urls:\n",
    "    driver.get(i)\n",
    "    try:\n",
    "        job_title=driver.find_element_by_xpath(\"//h1[@class='jd-header-title']\")\n",
    "        job_titles.append( job_title.text)\n",
    "        \n",
    "    except NoSuchElementException  as e:\n",
    "        job_titles.append(\"_\")\n",
    "            \n",
    "job_titles        "
   ]
  },
  {
   "cell_type": "code",
   "execution_count": 79,
   "id": "a45d27a2",
   "metadata": {},
   "outputs": [],
   "source": [
    "job_titles.remove(job_titles[7]) \n"
   ]
  },
  {
   "cell_type": "code",
   "execution_count": 80,
   "id": "17e35ad7",
   "metadata": {},
   "outputs": [
    {
     "data": {
      "text/plain": [
       "['Data Scientist/ Machine Learning Engineer',\n",
       " 'Data Analyst/Data Scientist',\n",
       " 'Data Scientist - WFH - MIND Infotech',\n",
       " 'Data Scientist - Insurance',\n",
       " 'Data Scientist / Data Analyst',\n",
       " 'Only Fresher / Data Scientist / Data Analyst / Analytics - MNC Jobs',\n",
       " 'Data Scientist / Data Analyst / Business Analytics - MNC Jobs Freshers',\n",
       " 'Data Scientist',\n",
       " 'Junior Data Scientists & Engineers',\n",
       " 'Immediate Openings For Data Scientist For Wipro C2H',\n",
       " 'Data Scientist',\n",
       " 'Data Scientist - Machine Learning/ NLP',\n",
       " 'Data Scientist-immediate Joiners',\n",
       " 'Hiring Data Scientist Develope || IDS Infotech LTD || (Permanent WFH)',\n",
       " 'Data Scientist Internship',\n",
       " 'Data Scientist',\n",
       " 'Senior Data Scientist',\n",
       " 'Data Scientist']"
      ]
     },
     "execution_count": 80,
     "metadata": {},
     "output_type": "execute_result"
    }
   ],
   "source": [
    "job_titles.remove(job_titles[16]) \n",
    "job_titles "
   ]
  },
  {
   "cell_type": "code",
   "execution_count": 81,
   "id": "1a044ed9",
   "metadata": {},
   "outputs": [
    {
     "data": {
      "text/plain": [
       "['Hyderabad/Secunderabad, Pune, Ahmedabad, Gurgaon/Gurugram, Chennai, Bangalore/Bengaluru',\n",
       " 'Bangalore/Bengaluru, Delhi / NCR, Mumbai (All Areas)',\n",
       " 'Pune, Chennai, Bangalore/Bengaluru, Delhi / NCR, Mumbai (All Areas)',\n",
       " 'Noida, Gurgaon/Gurugram',\n",
       " 'Gurgaon/Gurugram',\n",
       " 'Noida, Gurgaon/Gurugram, Delhi / NCR',\n",
       " 'Noida, New Delhi, Gurgaon/Gurugram',\n",
       " '_',\n",
       " 'Gurgaon/Gurugram',\n",
       " 'New Delhi, Delhi / NCR',\n",
       " 'Gurgaon/Gurugram',\n",
       " 'Delhi / NCR( Okhla )',\n",
       " 'Gurgaon/Gurugram',\n",
       " 'Noida',\n",
       " 'Chandigarh, Hyderabad/Secunderabad, Chennai, Bangalore/Bengaluru, Delhi / NCR',\n",
       " 'New Delhi',\n",
       " 'Mumbai, Gurgaon/Gurugram, Bangalore/Bengaluru',\n",
       " '_',\n",
       " 'Delhi',\n",
       " 'Delhi']"
      ]
     },
     "execution_count": 81,
     "metadata": {},
     "output_type": "execute_result"
    }
   ],
   "source": [
    "job_locations=[]\n",
    "for i in urls:\n",
    "    driver.get(i)\n",
    "    try:\n",
    "        job_location =driver.find_element_by_xpath(\"//span[@class='location ']\")\n",
    "        job_locations.append(job_location.text)\n",
    "        \n",
    "    except NoSuchElementException  as e:\n",
    "        job_locations.append(\"_\")\n",
    "\n",
    "job_locations        \n",
    "       "
   ]
  },
  {
   "cell_type": "code",
   "execution_count": 82,
   "id": "36dc26a2",
   "metadata": {},
   "outputs": [],
   "source": [
    "job_locations.remove(job_locations[7])    \n",
    " \n"
   ]
  },
  {
   "cell_type": "code",
   "execution_count": 83,
   "id": "ea84ea4c",
   "metadata": {},
   "outputs": [
    {
     "data": {
      "text/plain": [
       "['Hyderabad/Secunderabad, Pune, Ahmedabad, Gurgaon/Gurugram, Chennai, Bangalore/Bengaluru',\n",
       " 'Bangalore/Bengaluru, Delhi / NCR, Mumbai (All Areas)',\n",
       " 'Pune, Chennai, Bangalore/Bengaluru, Delhi / NCR, Mumbai (All Areas)',\n",
       " 'Noida, Gurgaon/Gurugram',\n",
       " 'Gurgaon/Gurugram',\n",
       " 'Noida, Gurgaon/Gurugram, Delhi / NCR',\n",
       " 'Noida, New Delhi, Gurgaon/Gurugram',\n",
       " 'Gurgaon/Gurugram',\n",
       " 'New Delhi, Delhi / NCR',\n",
       " 'Gurgaon/Gurugram',\n",
       " 'Delhi / NCR( Okhla )',\n",
       " 'Gurgaon/Gurugram',\n",
       " 'Noida',\n",
       " 'Chandigarh, Hyderabad/Secunderabad, Chennai, Bangalore/Bengaluru, Delhi / NCR',\n",
       " 'New Delhi',\n",
       " 'Mumbai, Gurgaon/Gurugram, Bangalore/Bengaluru',\n",
       " 'Delhi',\n",
       " 'Delhi']"
      ]
     },
     "execution_count": 83,
     "metadata": {},
     "output_type": "execute_result"
    }
   ],
   "source": [
    "job_locations.remove(job_locations[16]) \n",
    "job_locations"
   ]
  },
  {
   "cell_type": "code",
   "execution_count": 85,
   "id": "8e5abe26",
   "metadata": {},
   "outputs": [
    {
     "data": {
      "text/plain": [
       "['Creative Hands HR Consultancy',\n",
       " 'Skillenable Fintech Private Limited',\n",
       " 'MOTHERSONSUMI INFOTECH & DESIGNS LIMITED3.3(157 Reviews)',\n",
       " 'Huquo Consulting Pvt. Ltd',\n",
       " 'CARS243.6(708 Reviews)',\n",
       " 'GABA Consultancy services',\n",
       " 'GABA Consultancy services',\n",
       " '_',\n",
       " 'PROCESS NINE TECHNOLOGIES PVT.LTD.2.7(11 Reviews)',\n",
       " 'PY Consultancy',\n",
       " 'IDESLABS PRIVATE LIMITED',\n",
       " 'Kusum Healthcare Pvt. Ltd.4.0(86 Reviews)',\n",
       " 'TalPro',\n",
       " 'Quikruit Consulting LLP',\n",
       " 'IDS Infotech Ltd.2.9(130 Reviews)',\n",
       " 'iHackers Inc',\n",
       " 'Fractal Analytics3.8(103 Reviews)',\n",
       " '_',\n",
       " 'iNICU',\n",
       " 'Sentieo4.2(5 Reviews)']"
      ]
     },
     "execution_count": 85,
     "metadata": {},
     "output_type": "execute_result"
    }
   ],
   "source": [
    "com_names=[]\n",
    "for i in urls:\n",
    "    driver.get(i)\n",
    "    try:\n",
    "        com_name =driver.find_element_by_xpath(\"//div[@class='jd-header-comp-name']\")\n",
    "        com_names.append(com_name.text)\n",
    "        \n",
    "    except NoSuchElementException  as e:\n",
    "        com_names.append(\"_\")\n",
    "com_names        "
   ]
  },
  {
   "cell_type": "code",
   "execution_count": 86,
   "id": "24d336c3",
   "metadata": {},
   "outputs": [],
   "source": [
    "com_names.remove(com_names[7])    \n",
    "\n"
   ]
  },
  {
   "cell_type": "code",
   "execution_count": 87,
   "id": "6ca5ee08",
   "metadata": {},
   "outputs": [
    {
     "data": {
      "text/plain": [
       "['Creative Hands HR Consultancy',\n",
       " 'Skillenable Fintech Private Limited',\n",
       " 'MOTHERSONSUMI INFOTECH & DESIGNS LIMITED3.3(157 Reviews)',\n",
       " 'Huquo Consulting Pvt. Ltd',\n",
       " 'CARS243.6(708 Reviews)',\n",
       " 'GABA Consultancy services',\n",
       " 'GABA Consultancy services',\n",
       " 'PROCESS NINE TECHNOLOGIES PVT.LTD.2.7(11 Reviews)',\n",
       " 'PY Consultancy',\n",
       " 'IDESLABS PRIVATE LIMITED',\n",
       " 'Kusum Healthcare Pvt. Ltd.4.0(86 Reviews)',\n",
       " 'TalPro',\n",
       " 'Quikruit Consulting LLP',\n",
       " 'IDS Infotech Ltd.2.9(130 Reviews)',\n",
       " 'iHackers Inc',\n",
       " 'Fractal Analytics3.8(103 Reviews)',\n",
       " 'iNICU',\n",
       " 'Sentieo4.2(5 Reviews)']"
      ]
     },
     "execution_count": 87,
     "metadata": {},
     "output_type": "execute_result"
    }
   ],
   "source": [
    "com_names.remove(com_names[16])   \n",
    "com_names"
   ]
  },
  {
   "cell_type": "code",
   "execution_count": 93,
   "id": "3780d969",
   "metadata": {},
   "outputs": [
    {
     "data": {
      "text/plain": [
       "['0 years',\n",
       " '2 - 5 years',\n",
       " '3 - 7 years',\n",
       " '2 - 7 years',\n",
       " '1 - 5 years',\n",
       " '0 years',\n",
       " '0 years',\n",
       " '_',\n",
       " '1 - 3 years',\n",
       " '0 - 3 years',\n",
       " '5 - 10 years',\n",
       " '4 - 6 years',\n",
       " '2 - 6 years',\n",
       " '2 - 5 years',\n",
       " '5 - 10 years',\n",
       " '0 - 1 years',\n",
       " '3 - 7 years',\n",
       " '_',\n",
       " '1 - 5 years',\n",
       " '2 - 7 years']"
      ]
     },
     "execution_count": 93,
     "metadata": {},
     "output_type": "execute_result"
    }
   ],
   "source": [
    "exp_reqs=[]\n",
    "for i in urls:\n",
    "    driver.get(i)\n",
    "    try:\n",
    "        exp_req =driver.find_element_by_xpath(\"//div[@class='exp']//span\")\n",
    "        exp_reqs.append(exp_req.text)\n",
    "        \n",
    "    except NoSuchElementException  as e:\n",
    "        exp_reqs.append(\"_\")\n",
    "exp_reqs    "
   ]
  },
  {
   "cell_type": "code",
   "execution_count": 94,
   "id": "34bfac98",
   "metadata": {},
   "outputs": [],
   "source": [
    "exp_reqs.remove(exp_reqs[7])  "
   ]
  },
  {
   "cell_type": "code",
   "execution_count": 95,
   "id": "e6d1cfde",
   "metadata": {},
   "outputs": [
    {
     "data": {
      "text/plain": [
       "['0 years',\n",
       " '2 - 5 years',\n",
       " '3 - 7 years',\n",
       " '2 - 7 years',\n",
       " '1 - 5 years',\n",
       " '0 years',\n",
       " '0 years',\n",
       " '1 - 3 years',\n",
       " '0 - 3 years',\n",
       " '5 - 10 years',\n",
       " '4 - 6 years',\n",
       " '2 - 6 years',\n",
       " '2 - 5 years',\n",
       " '5 - 10 years',\n",
       " '0 - 1 years',\n",
       " '3 - 7 years',\n",
       " '1 - 5 years',\n",
       " '2 - 7 years']"
      ]
     },
     "execution_count": 95,
     "metadata": {},
     "output_type": "execute_result"
    }
   ],
   "source": [
    "exp_reqs.remove(exp_reqs[16])    \n",
    "exp_reqs"
   ]
  },
  {
   "cell_type": "code",
   "execution_count": 96,
   "id": "8ad51135",
   "metadata": {},
   "outputs": [
    {
     "name": "stdout",
     "output_type": "stream",
     "text": [
      "length of list scraped are equal\n"
     ]
    }
   ],
   "source": [
    "if len(job_titles)==len(job_locations)==len(com_names)==len(exp_reqs):\n",
    "    print(\"length of list scraped are equal\")\n",
    "else:\n",
    "    print(\"length of list scraped are not equal\")"
   ]
  },
  {
   "cell_type": "code",
   "execution_count": 97,
   "id": "88c3f325",
   "metadata": {},
   "outputs": [
    {
     "data": {
      "text/plain": [
       "[1, 2, 3, 4, 5, 6, 7, 8, 9, 10, 11, 12, 13, 14, 15, 16, 17, 18]"
      ]
     },
     "execution_count": 97,
     "metadata": {},
     "output_type": "execute_result"
    }
   ],
   "source": [
    "Nos=[]\n",
    "for i in range(1,len(job_titles)+1):\n",
    "    Nos.append(i)\n",
    "Nos    "
   ]
  },
  {
   "cell_type": "code",
   "execution_count": 98,
   "id": "83676f61",
   "metadata": {},
   "outputs": [
    {
     "data": {
      "text/html": [
       "<style  type=\"text/css\" >\n",
       "</style><table id=\"T_9c12b_\" ><thead>    <tr>        <th class=\"col_heading level0 col0\" >Nos</th>        <th class=\"col_heading level0 col1\" >Job Titles</th>        <th class=\"col_heading level0 col2\" >Job Locations</th>        <th class=\"col_heading level0 col3\" >Company Names</th>        <th class=\"col_heading level0 col4\" >Experience_Required</th>    </tr></thead><tbody>\n",
       "                <tr>\n",
       "                                <td id=\"T_9c12b_row0_col0\" class=\"data row0 col0\" >1</td>\n",
       "                        <td id=\"T_9c12b_row0_col1\" class=\"data row0 col1\" >Data Scientist/ Machine Learning Engineer</td>\n",
       "                        <td id=\"T_9c12b_row0_col2\" class=\"data row0 col2\" >Hyderabad/Secunderabad, Pune, Ahmedabad, Gurgaon/Gurugram, Chennai, Bangalore/Bengaluru</td>\n",
       "                        <td id=\"T_9c12b_row0_col3\" class=\"data row0 col3\" >Creative Hands HR Consultancy</td>\n",
       "                        <td id=\"T_9c12b_row0_col4\" class=\"data row0 col4\" >0 years</td>\n",
       "            </tr>\n",
       "            <tr>\n",
       "                                <td id=\"T_9c12b_row1_col0\" class=\"data row1 col0\" >2</td>\n",
       "                        <td id=\"T_9c12b_row1_col1\" class=\"data row1 col1\" >Data Analyst/Data Scientist</td>\n",
       "                        <td id=\"T_9c12b_row1_col2\" class=\"data row1 col2\" >Bangalore/Bengaluru, Delhi / NCR, Mumbai (All Areas)</td>\n",
       "                        <td id=\"T_9c12b_row1_col3\" class=\"data row1 col3\" >Skillenable Fintech Private Limited</td>\n",
       "                        <td id=\"T_9c12b_row1_col4\" class=\"data row1 col4\" >2 - 5 years</td>\n",
       "            </tr>\n",
       "            <tr>\n",
       "                                <td id=\"T_9c12b_row2_col0\" class=\"data row2 col0\" >3</td>\n",
       "                        <td id=\"T_9c12b_row2_col1\" class=\"data row2 col1\" >Data Scientist - WFH - MIND Infotech</td>\n",
       "                        <td id=\"T_9c12b_row2_col2\" class=\"data row2 col2\" >Pune, Chennai, Bangalore/Bengaluru, Delhi / NCR, Mumbai (All Areas)</td>\n",
       "                        <td id=\"T_9c12b_row2_col3\" class=\"data row2 col3\" >MOTHERSONSUMI INFOTECH & DESIGNS LIMITED3.3(157 Reviews)</td>\n",
       "                        <td id=\"T_9c12b_row2_col4\" class=\"data row2 col4\" >3 - 7 years</td>\n",
       "            </tr>\n",
       "            <tr>\n",
       "                                <td id=\"T_9c12b_row3_col0\" class=\"data row3 col0\" >4</td>\n",
       "                        <td id=\"T_9c12b_row3_col1\" class=\"data row3 col1\" >Data Scientist - Insurance</td>\n",
       "                        <td id=\"T_9c12b_row3_col2\" class=\"data row3 col2\" >Noida, Gurgaon/Gurugram</td>\n",
       "                        <td id=\"T_9c12b_row3_col3\" class=\"data row3 col3\" >Huquo Consulting Pvt. Ltd</td>\n",
       "                        <td id=\"T_9c12b_row3_col4\" class=\"data row3 col4\" >2 - 7 years</td>\n",
       "            </tr>\n",
       "            <tr>\n",
       "                                <td id=\"T_9c12b_row4_col0\" class=\"data row4 col0\" >5</td>\n",
       "                        <td id=\"T_9c12b_row4_col1\" class=\"data row4 col1\" >Data Scientist / Data Analyst</td>\n",
       "                        <td id=\"T_9c12b_row4_col2\" class=\"data row4 col2\" >Gurgaon/Gurugram</td>\n",
       "                        <td id=\"T_9c12b_row4_col3\" class=\"data row4 col3\" >CARS243.6(708 Reviews)</td>\n",
       "                        <td id=\"T_9c12b_row4_col4\" class=\"data row4 col4\" >1 - 5 years</td>\n",
       "            </tr>\n",
       "            <tr>\n",
       "                                <td id=\"T_9c12b_row5_col0\" class=\"data row5 col0\" >6</td>\n",
       "                        <td id=\"T_9c12b_row5_col1\" class=\"data row5 col1\" >Only Fresher / Data Scientist / Data Analyst / Analytics - MNC Jobs</td>\n",
       "                        <td id=\"T_9c12b_row5_col2\" class=\"data row5 col2\" >Noida, Gurgaon/Gurugram, Delhi / NCR</td>\n",
       "                        <td id=\"T_9c12b_row5_col3\" class=\"data row5 col3\" >GABA Consultancy services</td>\n",
       "                        <td id=\"T_9c12b_row5_col4\" class=\"data row5 col4\" >0 years</td>\n",
       "            </tr>\n",
       "            <tr>\n",
       "                                <td id=\"T_9c12b_row6_col0\" class=\"data row6 col0\" >7</td>\n",
       "                        <td id=\"T_9c12b_row6_col1\" class=\"data row6 col1\" >Data Scientist / Data Analyst / Business Analytics - MNC Jobs Freshers</td>\n",
       "                        <td id=\"T_9c12b_row6_col2\" class=\"data row6 col2\" >Noida, New Delhi, Gurgaon/Gurugram</td>\n",
       "                        <td id=\"T_9c12b_row6_col3\" class=\"data row6 col3\" >GABA Consultancy services</td>\n",
       "                        <td id=\"T_9c12b_row6_col4\" class=\"data row6 col4\" >0 years</td>\n",
       "            </tr>\n",
       "            <tr>\n",
       "                                <td id=\"T_9c12b_row7_col0\" class=\"data row7 col0\" >8</td>\n",
       "                        <td id=\"T_9c12b_row7_col1\" class=\"data row7 col1\" >Data Scientist</td>\n",
       "                        <td id=\"T_9c12b_row7_col2\" class=\"data row7 col2\" >Gurgaon/Gurugram</td>\n",
       "                        <td id=\"T_9c12b_row7_col3\" class=\"data row7 col3\" >PROCESS NINE TECHNOLOGIES PVT.LTD.2.7(11 Reviews)</td>\n",
       "                        <td id=\"T_9c12b_row7_col4\" class=\"data row7 col4\" >1 - 3 years</td>\n",
       "            </tr>\n",
       "            <tr>\n",
       "                                <td id=\"T_9c12b_row8_col0\" class=\"data row8 col0\" >9</td>\n",
       "                        <td id=\"T_9c12b_row8_col1\" class=\"data row8 col1\" >Junior Data Scientists & Engineers</td>\n",
       "                        <td id=\"T_9c12b_row8_col2\" class=\"data row8 col2\" >New Delhi, Delhi / NCR</td>\n",
       "                        <td id=\"T_9c12b_row8_col3\" class=\"data row8 col3\" >PY Consultancy</td>\n",
       "                        <td id=\"T_9c12b_row8_col4\" class=\"data row8 col4\" >0 - 3 years</td>\n",
       "            </tr>\n",
       "            <tr>\n",
       "                                <td id=\"T_9c12b_row9_col0\" class=\"data row9 col0\" >10</td>\n",
       "                        <td id=\"T_9c12b_row9_col1\" class=\"data row9 col1\" >Immediate Openings For Data Scientist For Wipro C2H</td>\n",
       "                        <td id=\"T_9c12b_row9_col2\" class=\"data row9 col2\" >Gurgaon/Gurugram</td>\n",
       "                        <td id=\"T_9c12b_row9_col3\" class=\"data row9 col3\" >IDESLABS PRIVATE LIMITED</td>\n",
       "                        <td id=\"T_9c12b_row9_col4\" class=\"data row9 col4\" >5 - 10 years</td>\n",
       "            </tr>\n",
       "    </tbody></table>"
      ],
      "text/plain": [
       "<pandas.io.formats.style.Styler at 0x19c2065f850>"
      ]
     },
     "execution_count": 98,
     "metadata": {},
     "output_type": "execute_result"
    }
   ],
   "source": [
    "import pandas as pd\n",
    "NaukriJob=pd.DataFrame({})\n",
    "NaukriJob['Nos']=Nos[:10]\n",
    "NaukriJob['Job Titles']=job_titles [:10]\n",
    "NaukriJob['Job Locations']=job_locations[:10]\n",
    "NaukriJob['Company Names']=com_names[:10]\n",
    "NaukriJob['Experience_Required']=exp_reqs[:10]\n",
    "NaukriJob.style.hide_index()"
   ]
  },
  {
   "cell_type": "markdown",
   "id": "1fedd947",
   "metadata": {},
   "source": [
    "These are the first 10 jobs results from the Jobdetails we scrapped from Naukri"
   ]
  }
 ],
 "metadata": {
  "kernelspec": {
   "display_name": "Python 3",
   "language": "python",
   "name": "python3"
  },
  "language_info": {
   "codemirror_mode": {
    "name": "ipython",
    "version": 3
   },
   "file_extension": ".py",
   "mimetype": "text/x-python",
   "name": "python",
   "nbconvert_exporter": "python",
   "pygments_lexer": "ipython3",
   "version": "3.8.8"
  }
 },
 "nbformat": 4,
 "nbformat_minor": 5
}
